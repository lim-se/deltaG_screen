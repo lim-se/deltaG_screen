{
 "cells": [
  {
   "cell_type": "code",
   "execution_count": 1,
   "id": "a4353ff5-aa3e-48d6-a9e0-3a4d44244d80",
   "metadata": {},
   "outputs": [],
   "source": [
    "#import relevant libraries\n",
    "import os\n",
    "from scipy import stats\n",
    "\n",
    "import numpy as np\n",
    "import scipy as sp\n",
    "import pandas as pd\n",
    "import matplotlib as mpl\n",
    "import matplotlib.pyplot as plt\n",
    "import seaborn as sns\n",
    "import dabest\n",
    "import NLCLIMB\n",
    "import NLMATH\n",
    "import itertools\n",
    "from datetime import datetime\n",
    "date = datetime.today().strftime('%Y%m%d')\n",
    "from statistics import mean\n",
    "\n",
    "import dabest_jck\n",
    "import plotly.express as px \n",
    "from plotly.subplots import make_subplots\n",
    "import plotly.graph_objects as go\n",
    "from plotly.graph_objects import Layout\n",
    "\n",
    "#NOTE: SUPPRESSES WARNINGS!\n",
    "\n",
    "import warnings\n",
    "\n",
    "\n",
    "warnings.simplefilter(action=\"ignore\", category=RuntimeWarning)\n",
    "warnings.simplefilter(action=\"ignore\", category=UserWarning)\n",
    "warnings.simplefilter(action='ignore', category=pd.errors.PerformanceWarning)\n"
   ]
  },
  {
   "cell_type": "code",
   "execution_count": 2,
   "id": "9b5dfa46-42fe-4f01-b99e-d0273f992f72",
   "metadata": {},
   "outputs": [],
   "source": [
    "#initial file processing\n",
    "computer1 = \"C:\\\\Users\\\\User\"\n",
    "computer2 = \"C:\\\\Users\\\\lnico\"\n",
    "filedir = \"\\\\ACC Lab Dropbox\\\\ACC Lab\\\\Nicole Lee\\\\Data Compilation\\\\Falling_New\\\\\"\n",
    "openPath = computer1 + filedir\n",
    "files = os.listdir(openPath)\n",
    "\n",
    "#identifying genotypes\n",
    "responder = \"ACR\"\n",
    "respondercsv = responder + \".csv\"\n",
    "wt = \"w1118\""
   ]
  },
  {
   "cell_type": "code",
   "execution_count": 3,
   "id": "bdcc176c-6b81-4251-9f21-8c8b53190191",
   "metadata": {},
   "outputs": [],
   "source": [
    "lst=[]\n",
    "\n",
    "\n",
    "for file_no in os.listdir(openPath): \n",
    "    if respondercsv in file_no and \"w1118\" not in file_no :   #wt > acr files\n",
    "        f = os.path.join(openPath, file_no)\n",
    "        dfe=pd.read_csv(f)\n",
    "        exptdf = dfe.drop(dfe.columns[[0]],axis = 1)\n",
    "        driver = file_no.split(\" \")[0]\n",
    "        lst.append(driver)"
   ]
  },
  {
   "cell_type": "code",
   "execution_count": 4,
   "id": "58c68c9f-f4c2-42b0-8831-23ee76d7b938",
   "metadata": {},
   "outputs": [],
   "source": [
    "def timeabove(dfexpt, dfwt):\n",
    "\n",
    "    #time above mean line\n",
    "    heightwt = NLMATH.maxheight(dfwt, \"wt\")\n",
    "    avgmaxheight_wt = heightwt['Max height wt'].mean() \n",
    "\n",
    "    ce = NLMATH.timespentabovemeanline(dfexpt, avgmaxheight_wt, \"Expt\")\n",
    "    ce2 = NLMATH.timespentabovemeanline(dfwt, avgmaxheight_wt, \"WT\")\n",
    "\n",
    "    timehang = pd.DataFrame()\n",
    "    timehang = pd.concat([ce, ce2], axis = 0)\n",
    "    timehang['genre'] = timehang['ExperimentState'] + \" \" + timehang['Type']\n",
    "    \n",
    "    \n",
    "    timeabovemeanline = dabest.load(data=timehang, x=[\"ExperimentState\",\"Type\"], y= \"Time\", delta2 = True, \n",
    "                               experiment=\"Type\",experiment_label = [\"WT\", \"Expt\"], x1_level = [\"Dark\",\"Full\"], \n",
    "                               paired = \"sequential\", id_col = \"index\")\n",
    "    lst= []\n",
    "    lst.append(timeabovemeanline.mean_diff.delta_delta.difference)\n",
    "    \n",
    "    return lst\n",
    "\n",
    "\n",
    "def falls(dfe_dark, dfe_full, dfw_dark, dfw_full):\n",
    "    \n",
    "    filtered = (dfe_dark.filter(regex=\"Fall.*\").sum(axis=0))/1\n",
    "    filtered2 = (dfe_full.filter(regex=\"Fall.*\").sum(axis=0))/1\n",
    "    filtered3 = (dfw_dark.filter(regex=\"Fall.*\").sum(axis=0))/1\n",
    "    filtered4 = (dfw_full.filter(regex=\"Fall.*\").sum(axis=0))/1\n",
    "\n",
    "    awt=pd.DataFrame()\n",
    "    awt['Falls']=filtered\n",
    "    awt['ExperimentState'] = \"Dark\"\n",
    "\n",
    "    awt2=pd.DataFrame()\n",
    "    awt2['Falls']=filtered2\n",
    "    awt2['ExperimentState'] = \"Full\"\n",
    "\n",
    "\n",
    "    awt2b = pd.concat([awt, awt2]).reset_index()\n",
    "    awt2b[\"Type\"] = \"Expt\"\n",
    "\n",
    "    awt3=pd.DataFrame()\n",
    "    awt3['Falls']=filtered3\n",
    "    awt3['ExperimentState'] = \"Dark\"\n",
    "\n",
    "    awt4=pd.DataFrame()\n",
    "    awt4['Falls']=filtered4\n",
    "    awt4['ExperimentState'] = \"Full\"\n",
    "    awt4b = pd.concat([awt3, awt4]).reset_index()\n",
    "    awt4b[\"Type\"] = \"WT\"\n",
    "    \n",
    "\n",
    "    awt5=pd.DataFrame()\n",
    "    awt5 = pd.concat([awt2b, awt4b])\n",
    "    \n",
    "    return awt5\n",
    "\n",
    "def manyfall (dfexpt, dfwt):\n",
    "    \n",
    "    dfe_dark = dfexpt[(dfexpt['ExperimentState']== 'Dark')] \n",
    "    dfe_full = dfexpt[(dfexpt['ExperimentState']== 'Full')] \n",
    "    dfw_dark = dfwt[(dfwt['ExperimentState']== 'Dark')] \n",
    "    dfw_full = dfwt[(dfwt['ExperimentState']== 'Full')] \n",
    "    awt5 = falls(dfe_dark, dfe_full, dfw_dark, dfw_full)\n",
    "\n",
    "    awt5['genre'] = awt5['ExperimentState'] + \" \" + awt5['Type']\n",
    "    awt5['value'] = 0\n",
    "    awt5.loc[(awt5['Falls'] >0), ['value']] = 1\n",
    "\n",
    "  \n",
    "    deltaplots = dabest.load(data=awt5, x=[\"ExperimentState\",\"Type\"], y=\"Falls\", delta2 = True, experiment=\"Type\", experiment_label = [\"WT\", \"Expt\"], x1_level = [\"Dark\",\"Full\"], paired = \"sequential\", id_col = \"index\")\n",
    "    \n",
    "    lst= []\n",
    "    lst.append(deltaplots.mean_diff.delta_delta.difference)\n",
    "    return lst\n"
   ]
  },
  {
   "cell_type": "markdown",
   "id": "b8e0c8ab",
   "metadata": {},
   "source": [
    "# run if new data"
   ]
  },
  {
   "cell_type": "code",
   "execution_count": 8,
   "id": "7e677d8e",
   "metadata": {},
   "outputs": [],
   "source": [
    "def deltaversion(df_sp, genotype, metric):\n",
    "\n",
    "    df9 = pd.DataFrame()\n",
    "    dfsp_db = df_sp[(df_sp['ExperimentState'] != \"Recovery\") ]\n",
    "    dfsp_db2 = dabest_jck.load(data = dfsp_db, x = ['ExperimentState', 'ExperimentState'], paired = \"baseline\", id_col=\"index\", y = metric, delta2 = True, experiment = \"Type\", x1_level = [\"Dark\", \"Full\"], experiment_label = [\"WT\",\"Expt\"] ) #if delta2 = dabest; deltaG = dabest_jck\n",
    "    dfstatstest = dfsp_db2.delta_g.statistical_tests\n",
    "        \n",
    "    if dfstatstest['control'][0].split(\" \")[1] == \"WT\" and dfstatstest['control'][1].split(\" \")[1] == \"Expt\":\n",
    "        dfdiff = pd.DataFrame({\"MBON\": genotype, \"WT\": round(dfstatstest['difference'][0],3), \"Expt\": round(dfstatstest['difference'][1],3), \"delta_g\": round(dfsp_db2.delta_g.delta_delta.difference,3)}, index = [genotype])\n",
    "\n",
    "\n",
    "    return (dfdiff)\n",
    "\n",
    "def ospeed(dfwt, dfexpt):\n",
    "    \n",
    "    df_se = NLMATH.velodabest(dfexpt, \"Expt\", \"Velocity\")\n",
    "    df_sw = NLMATH.velodabest(dfwt, \"WT\", \"Velocity\")\n",
    "    \n",
    "    fgt6=pd.DataFrame()\n",
    "    fgt6 = pd.concat([df_se, df_sw]).reset_index(drop=False)\n",
    "    fgt6['genre'] = fgt6['ExperimentState'] + \" \" + fgt6['Type']\n",
    "\n",
    "    return fgt6\n",
    "\n",
    "def timetype(dfwt, dfexpt):\n",
    "    \n",
    "    heightwt = NLMATH.maxheight(dfwt, \"wt\")\n",
    "    avgmaxheight_wt = heightwt['Max height wt'].mean() \n",
    "\n",
    "    ce = NLMATH.timespentabovemeanline(dfexpt, avgmaxheight_wt, \"Expt\")\n",
    "    ce2 = NLMATH.timespentabovemeanline(dfwt, avgmaxheight_wt, \"WT\")\n",
    "\n",
    "    timehang = pd.DataFrame()\n",
    "    timehang = pd.concat([ce, ce2], axis = 0)\n",
    "    timehang['genre'] = timehang['ExperimentState'] + \" \" + timehang['Type']\n",
    "    \n",
    "    return timehang\n",
    "\n",
    "def separation(dfexpt, dfwt, phrase):\n",
    "        \n",
    "    dfe_dark = dfexpt[(dfexpt['ExperimentState']== 'Dark')] \n",
    "    dfe_full = dfexpt[(dfexpt['ExperimentState']== 'Full')] \n",
    "    dfw_dark = dfwt[(dfwt['ExperimentState']== 'Dark')] \n",
    "    dfw_full = dfwt[(dfwt['ExperimentState']== 'Full')] \n",
    "    \n",
    "    filterword = phrase + \".*\"\n",
    "    \n",
    "    expts = [dfe_dark, dfe_full, dfw_dark, dfw_full]\n",
    "    results = []\n",
    "    for e in expts:\n",
    "        filtereddf = e.filter(regex=filterword)\n",
    "    \n",
    "        match phrase:\n",
    "            case \"Y\":\n",
    "                result = getattr(filtereddf, \"mean\")(axis=0)\n",
    "            case \"Fall\":\n",
    "                result = getattr(filtereddf, \"sum\")(axis=0)/1\n",
    "                \n",
    "        results.append(result)\n",
    "        \n",
    "    awt=pd.DataFrame()\n",
    "    awt[phrase]= results[0]\n",
    "    awt['ExperimentState'] = \"Dark\"\n",
    "\n",
    "    awt2=pd.DataFrame()\n",
    "    awt2[phrase]=results[1]\n",
    "    awt2['ExperimentState'] = \"Full\"\n",
    "\n",
    "    awt2b = pd.concat([awt, awt2]).reset_index()\n",
    "    awt2b[\"Type\"] = \"Expt\"\n",
    "\n",
    "\n",
    "    awt3=pd.DataFrame()\n",
    "    awt3[phrase]=results[2]\n",
    "    awt3['ExperimentState'] = \"Dark\"\n",
    "\n",
    "    awt4=pd.DataFrame()\n",
    "    awt4[phrase]=results[3]\n",
    "    awt4['ExperimentState'] = \"Full\"\n",
    "    awt4b = pd.concat([awt3, awt4]).reset_index()\n",
    "    awt4b[\"Type\"] = \"WT\"\n",
    "    \n",
    "\n",
    "    awt5=pd.DataFrame()\n",
    "    awt5 = pd.concat([awt2b, awt4b])\n",
    "    \n",
    "    return awt5\n",
    "\n",
    "def fallingocc(dfexpt, dfwt):\n",
    "    \n",
    "    awt5 = separation(dfexpt, dfwt, \"Fall\")\n",
    "    awt5['genre'] = awt5['ExperimentState'] + \" \" + awt5['Type']\n",
    "    awt5['value'] = 0\n",
    "    awt5.loc[(awt5['Fall'] >0), ['value']] = 1\n",
    "\n",
    "    return awt5\n",
    "\n",
    "def totalheight(dfexpt, dfwt):\n",
    "    \n",
    "    awt5 = separation(dfexpt, dfwt, \"Y\")\n",
    "    awt5['genre'] = awt5['ExperimentState'] + \" \" + awt5['Type']\n",
    "\n",
    "    return awt5\n",
    "\n",
    "def countval(data, value):  #value = pause events\n",
    "    count = 0\n",
    "    timelst =[]\n",
    "    for key, group in itertools.groupby(data, lambda x: x == value ):\n",
    "        groupAsList = list(group)\n",
    "        if( key == True ):\n",
    "            count += 1\n",
    "            timed = 0.2*len(groupAsList)\n",
    "            timelst.append(timed)\n",
    "\n",
    "        \n",
    "    return (count, timelst)\n",
    "\n",
    "def behavior (dfp):\n",
    "   \n",
    "    pc = dfp.filter(regex=\"Pausecount_.*\")\n",
    "    countpause = []\n",
    "    countbout = []\n",
    "    pcpause = pd.DataFrame()\n",
    "    pcbout = pd.DataFrame()\n",
    "\n",
    "    for n in pc:\n",
    "        pc9 = pd.DataFrame()\n",
    "        counter1, pausetime = countval(pc[n], 1) #pause = 1\n",
    "        counter0, bouttime = countval(pc[n], 0) #bout = 0\n",
    "        \n",
    "        countpause.append(counter1)\n",
    "        countbout.append(counter0)\n",
    "        \n",
    "        pcpause = pd.concat([pcpause, pd.Series(pausetime, dtype='float64')], ignore_index = True, axis = 1)\n",
    "        pcbout = pd.concat([pcbout, pd.Series(bouttime, dtype='float64')], ignore_index = True, axis = 1)\n",
    "\n",
    "    return countpause, countbout, pcpause, pcbout\n",
    "\n",
    "def boutanalysis(df_dark, phase) : \n",
    "    \n",
    "    countpause, countbout, pausedark, boutdark = behavior(df_dark)\n",
    "    \n",
    "    #avg paus time per fly (Mean Activity time spent per fly)\n",
    "    meanpdark = pausedark.mean(axis = 0)\n",
    "    meanbdark = boutdark.mean(axis = 0)\n",
    "    meandarkevent = pd.DataFrame({\"Pauses_\" + phase: meanpdark, \"Bouts_\" + phase: meanbdark})\n",
    "    \n",
    "    #time per activity (raw_marker_size=0.5 ,swarm_label= \"Time spent per activity\")\n",
    "    pausedarkdf = pausedark.melt().drop(['variable'], axis =1).dropna(axis = \"index\")\n",
    "    boutdarkdf = boutdark.melt().drop(['variable'], axis =1).dropna(axis = \"index\")\n",
    "    timedarkevent = pd.DataFrame({\"Pauses_\" + phase: pausedarkdf['value'], \"Bouts_\" + phase: boutdarkdf['value']})\n",
    "    \n",
    "    #occurences\n",
    "    countevent = pd.DataFrame({\"Pauses_\" + phase: countpause, \"Bouts_\" + phase: countbout})\n",
    "    \n",
    "    return countevent, meandarkevent, timedarkevent\n",
    "\n",
    "def pausecomp(dft, genre): #genre is either w1118, or driver line\n",
    "    \n",
    "    df_dark = dft[(dft['ExperimentState']== 'Dark')]  #no longer accounting for assimilation time\n",
    "    df_light = dft[(dft['ExperimentState']== 'Full')] \n",
    "    df_rec = dft[(dft['ExperimentState']== 'Recovery')]\n",
    "    \n",
    "    countdark, meandarkevent, timedarkevent  = boutanalysis(df_dark, \"Dark\")\n",
    "    countlight, meanlightevent, timelightevent  = boutanalysis(df_light, \"Full\")\n",
    "    countrec, meanrecevent, timerecevent  = boutanalysis(df_rec, \"Recovery\")\n",
    "    \n",
    "    totalmeanevent = pd.concat([meandarkevent, meanlightevent, meanrecevent], axis =1)\n",
    "    totalmeanevent = totalmeanevent.add_prefix(genre + \"_\")\n",
    "    \n",
    "    # totaltimeevent = pd.concat([timedarkevent, timelightevent, timerecevent], axis =1)\n",
    "    # totaltimeevent = totaltimeevent.add_prefix(genre + \"_\")\n",
    "    \n",
    "    totalnumberevent = pd.concat([countdark, countlight, countrec], axis =1)\n",
    "    totalnumberevent = totalnumberevent.add_prefix(genre + \"_\")\n",
    "    \n",
    "    return totalmeanevent, totalnumberevent\n",
    "\n",
    "def pausenumber (df1, genotype, genre):# genre = either pause or bout\n",
    "            \n",
    "    df = pd.DataFrame()\n",
    "    df9 = pd.DataFrame()\n",
    "    \n",
    "    for n in df1.columns:\n",
    "        if n.split(\"_\")[0] == \"w1118\":\n",
    "            type1 = \"WT\"\n",
    "        if n.split(\"_\")[0] == genotype:\n",
    "            type1 = \"Expt\"\n",
    "        tempnumber = pd.DataFrame()\n",
    "        tempnumber[\"value\"] = df1[n]\n",
    "        tempnumber[\"Type\"] = type1 #genre\n",
    "        tempnumber[\"behavior\"] = n.split(\"_\")[1] #behavior\n",
    "        tempnumber[\"ExperimentState\"] = n.split(\"_\")[2] #state\n",
    "        df = pd.concat([df, tempnumber], axis = 0)\n",
    "            \n",
    "    deltadf =  df[df[\"behavior\"]== genre]\n",
    "    deltadf = deltadf.rename(columns = {\"value\": genre})\n",
    "    \n",
    "    dfdiff = deltaversion(deltadf, genotype, genre)\n",
    "    \n",
    "    return dfdiff\n",
    "\n",
    "def boutspeed(dfexpt):\n",
    "    dfr = dfexpt.iloc[:,2:]\n",
    "    velp = pd.DataFrame()\n",
    "    for v2 in range(3,len(dfr.columns),5): #change this number if you add more parameters\n",
    "        velp = pd.concat([velp, dfr.iloc[:,v2], dfr.iloc[:,v2+1]], axis = 1)\n",
    "\n",
    "    velplst = []\n",
    "    gentype = []\n",
    "\n",
    "    for n in velp.columns[::2]:\n",
    "        velplst.append(n.split(\"_\")[1])\n",
    "        gentype.append(n.split(\" \")[0])\n",
    "\n",
    "    newspeed = pd.DataFrame()\n",
    "\n",
    "    for n,k in zip(velplst, gentype):\n",
    "        newspeed[k + \" BSpeed_\" + n] = [np.nan]*len(velp)\n",
    "        newspeed.loc[(velp[k + \" Pausecount_\" + n] ==0), [k + \" BSpeed_\" + n]] = velp[k + \" Velocity_\" + n]\n",
    "\n",
    "    newspeed = pd.concat([dfexpt.iloc[:,0:2], newspeed], axis = 1)\n",
    "    \n",
    "    return newspeed\n",
    "\n",
    "def bspeed(dfexpt, dfwt):\n",
    "    df_se = NLMATH.velodabest(dfexpt, \"Expt\", \"BSpeed\")\n",
    "    df_sw = NLMATH.velodabest(dfwt, \"WT\", \"BSpeed\")\n",
    "    \n",
    "    fgt6=pd.DataFrame()\n",
    "    fgt6 = pd.concat([df_se, df_sw]).reset_index(drop=False)\n",
    "    fgt6['genre'] = fgt6['ExperimentState'] + \" \" + fgt6['Type']\n",
    "\n",
    "    return fgt6\n",
    "\n",
    "\n",
    "def disptravel (dft, light, genre):    \n",
    "\n",
    "\n",
    "    totaltravel = pd.DataFrame()\n",
    "\n",
    "    totaldisptravelled = pd.DataFrame()\n",
    "    dispdf = (dft.filter(regex=\"Velocity.*\"))*0.2\n",
    "    totaldisptravelled = dispdf.sum(axis= 0)\n",
    "\n",
    "    lstdisp = totaldisptravelled.index.tolist()\n",
    "    lstdisp = [s.replace(\"Velocity\", \"disp\") for s in lstdisp]\n",
    "\n",
    "    totaldisptravelled.index = lstdisp\n",
    "\n",
    "    \n",
    "    totaltravel['displacement'] = totaldisptravelled\n",
    "    totaltravel[\"ExperimentState\"] = light\n",
    "    totaltravel[\"Type\"] = genre\n",
    "    totaltravel['genre'] = light + \" \" + genre\n",
    "    \n",
    "\n",
    "    return totaltravel.reset_index()\n",
    "\n",
    "def totaldisp(dft, genre):\n",
    "    \n",
    "    df_dark = dft[(dft['ExperimentState']== 'Dark')] \n",
    "    df_light = dft[(dft['ExperimentState']== 'Full')] \n",
    "    df_rec = dft[(dft['ExperimentState']== 'Recovery')]\n",
    "    \n",
    "    dispdark  = disptravel(df_dark, \"Dark\", genre)\n",
    "    displight  = disptravel(df_light, \"Full\", genre)\n",
    "    disprec = disptravel(df_rec, \"Recovery\", genre)\n",
    "    \n",
    "    totaldisp = pd.concat([dispdark, displight, disprec], axis = 0).reset_index(drop=True)\n",
    "    \n",
    "    return totaldisp   \n",
    "\n",
    "def boutheight(dfexpt):\n",
    "    dfr = dfexpt.iloc[:,2:]\n",
    "    velp = pd.DataFrame()\n",
    "    velper = pd.DataFrame()\n",
    "    for v2 in range(1,len(dfr.columns),5): #change this number if you add more parameters\n",
    "        velp = pd.concat([velp, dfr.iloc[:,v2], dfr.iloc[:,v2+3]], axis = 1)\n",
    "\n",
    "    velplst = []\n",
    "    gentype = []\n",
    "\n",
    "    for n in velp.columns[::2]:\n",
    "        velplst.append(n.split(\"_\")[1])\n",
    "        gentype.append(n.split(\" \")[0])\n",
    "\n",
    "    newspeed = pd.DataFrame()\n",
    "\n",
    "    for n,k in zip(velplst, gentype):\n",
    "        newspeed[k + \" Height_\" + n] = [np.nan]*len(velp)\n",
    "        newspeed.loc[(velp[k + \" Pausecount_\" + n] ==0), [k + \" Height_\" + n]] = velp[k + \" Y_\" + n]\n",
    "\n",
    "    newspeed = pd.concat([dfexpt.iloc[:,0:2], newspeed], axis = 1)\n",
    "    \n",
    "    return newspeed\n",
    "\n",
    "def pauseheight(dfexpt):\n",
    "    dfr = dfexpt.iloc[:,2:]\n",
    "    velp = pd.DataFrame()\n",
    "    velper = pd.DataFrame()\n",
    "    for v2 in range(1,len(dfr.columns),5): #change this number if you add more parameters\n",
    "        velp = pd.concat([velp, dfr.iloc[:,v2], dfr.iloc[:,v2+3]], axis = 1)\n",
    "\n",
    "    velplst = []\n",
    "    gentype = []\n",
    "\n",
    "    for n in velp.columns[::2]:\n",
    "        velplst.append(n.split(\"_\")[1])\n",
    "        gentype.append(n.split(\" \")[0])\n",
    "\n",
    "    newspeed = pd.DataFrame()\n",
    "\n",
    "    for n,k in zip(velplst, gentype):\n",
    "        newspeed[k + \" Height_\" + n] = [np.nan]*len(velp)\n",
    "        newspeed.loc[(velp[k + \" Pausecount_\" + n] ==1), [k + \" Height_\" + n]] = velp[k + \" Y_\" + n]\n",
    "\n",
    "    newspeed = pd.concat([dfexpt.iloc[:,0:2], newspeed], axis = 1)\n",
    "    \n",
    "    return newspeed\n",
    "\n",
    "def bheight(dfexpt, dfwt):\n",
    "    df_se = NLMATH.velodabest(dfexpt, \"Expt\", \"Height\")\n",
    "    df_sw = NLMATH.velodabest(dfwt, \"WT\", \"Height\")\n",
    "    \n",
    "    fgt6=pd.DataFrame()\n",
    "    fgt6 = pd.concat([df_se, df_sw]).reset_index(drop=False)\n",
    "    fgt6['genre'] = fgt6['ExperimentState'] + \" \" + fgt6['Type']\n",
    "\n",
    "    return fgt6\n",
    "\n",
    "def timeperiod(df, number):\n",
    "    df1= pd.DataFrame()\n",
    "    pos = int(number*5) #5fps\n",
    "    df_dark = df[(df['ExperimentState']== 'Dark')].iloc[0:pos,:] \n",
    "    df_light = df[(df['ExperimentState']== 'Full')].iloc[0:pos,:] \n",
    "    df_rec = df[(df['ExperimentState']== 'Recovery')].iloc[0:pos,:] \n",
    "    \n",
    "    df1 =pd.concat([df_dark, df_light, df_rec], axis = 0)\n",
    "\n",
    "    return df1.reset_index(drop=True)"
   ]
  },
  {
   "cell_type": "code",
   "execution_count": 5,
   "id": "9af43fd8",
   "metadata": {},
   "outputs": [],
   "source": [
    "lst = ['MB011B', 'MB323B']"
   ]
  },
  {
   "cell_type": "code",
   "execution_count": 6,
   "id": "1b17de03",
   "metadata": {},
   "outputs": [],
   "source": [
    "#distance per sec\n",
    "\n",
    "def distpersec (dfexpt):\n",
    "    dfnewt = dfexpt.iloc[::5,:].reset_index(drop=True)\n",
    "    dfnewt.drop(dfnewt.filter(regex='Fall_.*|Velocity_.*|Pausecount_.*').columns, axis=1, inplace=True)\n",
    "\n",
    "    dfnewt3 = dfnewt.iloc[:,2:].copy()\n",
    "    distsec = pd.DataFrame()\n",
    "    for v2 in range(0,len(dfnewt3.columns),2):\n",
    "        dfnewt4= pd.DataFrame()\n",
    "        #assining name\n",
    "        naming = (dfnewt3.iloc[:,v2]).name\n",
    "        arraynum = naming.split(\"_\")[1]\n",
    "        \n",
    "        dfnewt4 = pd.concat([dfnewt3.iloc[:,v2], dfnewt3.iloc[:,v2+1]], axis = 1)\n",
    "        distsec[\"Dist_\" + str(arraynum)] = np.linalg.norm(dfnewt4.diff(axis=0), axis=1)\n",
    "    distsec = pd.concat([dfnewt.iloc[:,0:2], distsec], axis = 1).reset_index(drop=True)\n",
    "    \n",
    "    return distsec\n",
    "    \n",
    "\n",
    "# for dispplacement per sec\n",
    "def sectioneddispchunks(chunklist, dfdist):\n",
    "\n",
    "    sliced = pd.DataFrame()\n",
    "    for nn in chunklist:  \n",
    "        nnum = round(nn,1)\n",
    "        sliced = pd.concat([sliced, dfdist[dfdist['Seconds'] ==nnum]], axis = 0)\n",
    "        \n",
    "    df_slice = pd.DataFrame()   \n",
    "\n",
    "    test = sliced.iloc[:,1:]\n",
    "    for v2 in range(0,len(test.columns),3):\n",
    "        dfnewt4= pd.DataFrame()\n",
    "        naming = (test.iloc[:,v2]).name\n",
    "        arraynum = naming.split(\"_\")[1]   \n",
    "        dfnewt4 = pd.concat([test.iloc[:,v2], test.iloc[:,v2+1]], axis = 1)\n",
    "        if sum(test.iloc[:,v2+2])==0.0: #accounting if there is a fall, do not calculate displacement for that moment\n",
    "            linalg_variable = np.linalg.norm(dfnewt4.diff(axis=0), axis=1)\n",
    "            if np.nansum(linalg_variable) < 1.0:  #if sum of displacement events is less than 0, do not want\n",
    "                df_slice[\"Disp_\" + str(arraynum)] = np.nan\n",
    "            else:\n",
    "                df_slice[\"Disp_\" + str(arraynum)] = linalg_variable\n",
    "        else:\n",
    "            df_slice[\"Disp_\" + str(arraynum)] = np.nan\n",
    "\n",
    "    df_slice2 = df_slice.sum(axis=0).to_frame().T\n",
    "    return df_slice2\n",
    "    \n",
    "\n",
    "def disppersec(dftest):\n",
    "    import math\n",
    "    distancevelo  = dftest.filter(regex='X_.*|Y_.*|Fall_.*')\n",
    "    dfdist = pd.concat([round(dftest['Seconds'],1), distancevelo], axis =1)\n",
    "    listsecondsnumber = list(range(int(dftest['Seconds'].iloc[0]),math.floor(dftest['Seconds'].iloc[-1])))\n",
    "    df_sumdisp = pd.DataFrame()\n",
    "\n",
    "    for n in listsecondsnumber:\n",
    "        arraylist = list(np.linspace(n,n+1,6))\n",
    "        df_sumdisp = pd.concat([df_sumdisp, sectioneddispchunks(arraylist, dfdist)], axis = 0).reset_index(drop=True)\n",
    "        \n",
    "    df_sumdisp = df_sumdisp.shift(periods=1)\n",
    "    tempsecondslist = dftest.iloc[::5, 0:2].reset_index(drop=True)\n",
    "    df_sumdisp = pd.concat([tempsecondslist, df_sumdisp], axis = 1).reset_index(drop=True)\n",
    "\n",
    "    return df_sumdisp\n",
    "\n",
    "def straightnessindexmeter(dft, genre):\n",
    "    phase = ['Dark', 'Full']\n",
    "    \n",
    "    dfstraighttotal = pd.DataFrame()\n",
    "    \n",
    "    for x in phase:\n",
    "        df_x = dft[(dft['ExperimentState']== str(x))] \n",
    "        t1 = distpersec(df_x).iloc[:,2:]\n",
    "        t2 = disppersec(df_x).iloc[:,2:] \n",
    "        v = t1.values/t2.values\n",
    "        straightnessindex = pd.DataFrame(v, index=t1.index, columns=t1.columns).replace(np.inf, np.nan)\n",
    "        sim = pd.melt(straightnessindex, var_name = \"index\", value_name = 'straightnessindex')\n",
    "        sim['ExperimentState'] = x\n",
    "        sim[\"Type\"]= genre\n",
    "        sim['genre']= str(x)+ \" \" + str(genre)\n",
    "        dfstraighttotal = pd.concat([dfstraighttotal, sim], axis = 0).reset_index(drop=True)\n",
    "\n",
    "    return dfstraighttotal"
   ]
  },
  {
   "cell_type": "code",
   "execution_count": 7,
   "id": "597bd8f9",
   "metadata": {},
   "outputs": [],
   "source": [
    "#how much they walk before a pause\n",
    "\n",
    "def boutdisplacement(dfexpt):\n",
    "    dfr = dfexpt.iloc[:,2:]\n",
    "    velp = pd.DataFrame()\n",
    "    velper = pd.DataFrame()\n",
    "    for v2 in range(3,len(dfr.columns),5): #change this number if you add more parameters\n",
    "        velp = pd.concat([velp, dfr.iloc[:,v2], dfr.iloc[:,v2+1]], axis = 1)\n",
    "\n",
    "    velplst = []\n",
    "    gentype = []\n",
    "\n",
    "    for n in velp.columns[::2]:\n",
    "        velplst.append(n.split(\"_\")[1])\n",
    "        gentype.append(n.split(\" \")[0])\n",
    "\n",
    "    newspeed = pd.DataFrame()\n",
    "\n",
    "    for n,k in zip(velplst, gentype):\n",
    "        newspeed[k + \" Perioddisp_\" + n] = [np.nan]*len(velp)\n",
    "        newspeed.loc[(velp[k + \" Pausecount_\" + n] ==0), [k + \" Perioddisp_\" + n]] = (velp[k + \" Velocity_\" + n])*0.2\n",
    "    newspeed\n",
    "\n",
    "    newspeed = pd.concat([dfexpt.iloc[:,0:2], newspeed], axis = 1)\n",
    "    \n",
    "    return newspeed\n",
    "\n",
    "def displacementbetweenpauses(df, genre):\n",
    "    \n",
    "    df_dispp = pd.DataFrame()    \n",
    "    phases = [\"Dark\", \"Full\"]\n",
    "    df1 = boutdisplacement(df)\n",
    "    valuedflist = []\n",
    "    for phase in phases:\n",
    "        df47 = df1[(df1['ExperimentState']== str(phase))]\n",
    "        df46 = df47.filter(regex=\"Perioddisp_.*\")\n",
    "        dftest =pd.DataFrame()\n",
    "        \n",
    "        for n in df46.columns:\n",
    "            df_list = []\n",
    "            df_00=pd.DataFrame()\n",
    "            df50 = df46[n]\n",
    "            x = (df50.shift(1).isnull() & df50.notnull()).cumsum()\n",
    "            \n",
    "            for i,g in df50.groupby(x):\n",
    "                h = g.dropna()\n",
    "                sumh = np.sum(h)\n",
    "                df_list.append(sumh)\n",
    "                          \n",
    "            vdflist = list(filter(lambda x: x != 0, df_list))\n",
    "            valuedflist = [mean(vdflist) if len(vdflist) > 0 else []]\n",
    "            data = {'avgdisplacementbetweenpause': valuedflist, 'ExperimentState': [phase], \"Type\": genre, 'genre': str(phase)+ \" \" + str(genre)}\n",
    "            index = [n]\n",
    "            df_00=pd.DataFrame(data, index = index)                \n",
    "            dftest = pd.concat([dftest, df_00], axis =0)\n",
    "        df_dispp = pd.concat([df_dispp, dftest], axis=0)\n",
    "        \n",
    "    df_dispp['avgdisplacementbetweenpause'] = pd.to_numeric(df_dispp['avgdisplacementbetweenpause'])\n",
    "            \n",
    "    return df_dispp\n",
    "\n",
    "#max velocity of each fly after assimilation phase\n",
    "\n",
    "def maxvelocity(df, genre):\n",
    "    \n",
    "    phases = [\"Dark\", \"Full\"]\n",
    "    df_max = pd.DataFrame()\n",
    "    for phase in phases:\n",
    "        df2 = df[(df['ExperimentState']== str(phase))]\n",
    "        df_dark = df2.filter(regex=\"Velocity_.*\")\n",
    "        df_maxvelocity = pd.DataFrame()\n",
    "        df_maxvelocity['maxvelocity'] = df_dark.max(axis = 0)\n",
    "        df_maxvelocity['ExperimentState'] = phase\n",
    "        df_maxvelocity['Type'] = genre\n",
    "        df_maxvelocity['genre'] = str(phase)+ \" \" + str(genre)\n",
    "        df_max = pd.concat([df_max, df_maxvelocity], axis=0)\n",
    "    return df_max\n"
   ]
  },
  {
   "cell_type": "code",
   "execution_count": 9,
   "id": "3251e7bc",
   "metadata": {},
   "outputs": [],
   "source": [
    "dflists = ['df_bspeed', 'df_speed', 'df_time', 'df_fall','df_height', 'df_displacement', 'df_meanpause', 'df_pause','df_meanbout', 'df_bout','df_boutpos', 'df_pausepos','df_maxvelocity','df_straightindex', 'df_displacementbetweenpause']\n",
    "    \n",
    "dflists2 = [s.replace('df_', 'dfreg_') for s in dflists]\n",
    "\n",
    "for j in dflists2:\n",
    "    globals()[j]=pd.DataFrame()\n",
    "    \n",
    "diff = pd.DataFrame()\n",
    "diffbs = pd.DataFrame()\n",
    "\n",
    "for n in lst:\n",
    "    driver = n\n",
    "    transgenic = driver + \" x \" + responder\n",
    "    filename = openPath + transgenic + \".csv\"\n",
    "    filenamewt = openPath + wt+\"_\"+ transgenic + \".csv\"\n",
    "\n",
    "    dfe=pd.read_csv(filename)\n",
    "    dfw= pd.read_csv(filenamewt)\n",
    "\n",
    "    exptdf = dfe.drop(dfe.columns[[0]],axis = 1)\n",
    "    wtdf = dfw.drop(dfw.columns[[0]],axis = 1)\n",
    "\n",
    "    #adjust this depending on timeframe\n",
    "    dfexpt = NLCLIMB.generation(exptdf, driver)\n",
    "    dfwt = NLCLIMB.generation(wtdf, wt)\n",
    "    \n",
    "    df_sp = ospeed(dfwt, dfexpt).reset_index(drop=True)\n",
    "    df_bsp = bspeed(boutspeed(dfexpt), boutspeed(dfwt)).reset_index(drop=True)\n",
    "    df_t = timetype(dfwt, dfexpt).reset_index(drop=True)\n",
    "    df_f = fallingocc(dfexpt, dfwt).reset_index(drop=True)\n",
    "    df_h = totalheight(dfexpt, dfwt).reset_index(drop=True)\n",
    "    df_d = pd.concat([totaldisp(dfexpt, \"Expt\"), totaldisp(dfwt, \"WT\")]).reset_index(drop=True)\n",
    "    df_bp = bheight(boutheight(dfexpt), boutheight(dfwt)).reset_index(drop=True)\n",
    "    df_pp = bheight(pauseheight(dfexpt), pauseheight(dfwt)).reset_index(drop=True)\n",
    "    \n",
    "    #newadditions\n",
    "    df_dispp = pd.concat([displacementbetweenpauses(dfexpt, \"Expt\"), displacementbetweenpauses(dfwt, \"WT\")], axis = 0).reset_index(drop=False)\n",
    "    df_maxv = pd.concat([maxvelocity(dfexpt, \"Expt\"), maxvelocity(dfwt, \"WT\")], axis = 0).reset_index(drop=False)\n",
    "    df_sim = pd.concat([straightnessindexmeter(dfexpt, \"Expt\"), straightnessindexmeter(dfwt, \"WT\")], axis = 0).reset_index(drop=True)\n",
    "    \n",
    "    #pause and bouts\n",
    "    wttotalmeanevent, wttotalnumberevent = pausecomp(dfwt, wt)\n",
    "    expttotalmeanevent, expttotalnumberevent = pausecomp(dfexpt, driver)\n",
    "    \n",
    "    alltgtmeandf = pd.concat([wttotalmeanevent, expttotalmeanevent], axis = 1)\n",
    "    alltgtnumberdf = pd.concat([wttotalnumberevent, expttotalnumberevent], axis = 1)\n",
    "            \n",
    "    #deltaG plots\n",
    "    dfs2 = deltaversion(df_sp, n, \"Velocity\")\n",
    "    dft2 = deltaversion(df_t, n, \"Time\")\n",
    "    dff2 = deltaversion(df_f, n, \"Fall\")\n",
    "    dfh2 = deltaversion(df_h, n, \"Y\")\n",
    "    dfd2 = deltaversion(df_d, n, \"displacement\")\n",
    "    dfbs2 = deltaversion(df_bsp, n, \"BSpeed\")\n",
    "    dfbp2 = deltaversion(df_bp, n, \"Height\")\n",
    "    dfpp2 = deltaversion(df_pp, n, \"Height\")\n",
    "    \n",
    "    #new additions\n",
    "    dfdbp2 = deltaversion(df_dispp, n, \"avgdisplacementbetweenpause\")\n",
    "    dfmv2 = deltaversion(df_maxv, n, \"maxvelocity\")\n",
    "    dfsim2 = deltaversion(df_sim, n, \"straightnessindex\")\n",
    "    \n",
    "    #pause and bouts\n",
    "    dfmp2 = pausenumber(alltgtmeandf, n, \"Pauses\")\n",
    "    dfmb2 = pausenumber(alltgtmeandf, n, \"Bouts\")     \n",
    "    dfnp2 = pausenumber(alltgtnumberdf, n, \"Pauses\")\n",
    "    dfnb2 = pausenumber(alltgtnumberdf, n, \"Bouts\")\n",
    "    \n",
    "\n",
    "    #regressiondfs\n",
    "    dfreg_speed = pd.concat([dfreg_speed, dfs2], axis = 0).reset_index(drop=True)\n",
    "    dfreg_time = pd.concat([dfreg_time, dft2], axis = 0).reset_index(drop=True)\n",
    "    dfreg_fall = pd.concat([dfreg_fall, dff2], axis = 0).reset_index(drop=True)\n",
    "    dfreg_height = pd.concat([dfreg_height, dfh2], axis = 0).reset_index(drop=True)\n",
    "    dfreg_displacement = pd.concat([dfreg_displacement, dfd2], axis = 0).reset_index(drop=True)\n",
    "    dfreg_bspeed = pd.concat([dfreg_bspeed, dfbs2], axis = 0).reset_index(drop=True)\n",
    "    dfreg_boutpos = pd.concat([dfreg_boutpos, dfbp2], axis = 0).reset_index(drop=True)\n",
    "    dfreg_pausepos = pd.concat([dfreg_pausepos, dfpp2], axis = 0).reset_index(drop=True)\n",
    "    \n",
    "    dfreg_pause = pd.concat([dfreg_pause, dfnp2], axis = 0).reset_index(drop=True)\n",
    "    dfreg_meanpause = pd.concat([dfreg_meanpause, dfmp2], axis = 0).reset_index(drop=True)\n",
    "    dfreg_bout = pd.concat([dfreg_bout, dfnb2], axis = 0).reset_index(drop=True)\n",
    "    dfreg_meanbout = pd.concat([dfreg_meanbout, dfmb2], axis = 0).reset_index(drop=True)\n",
    "    \n",
    "    dfreg_displacementbetweenpause = pd.concat([dfreg_displacementbetweenpause, dfdbp2], axis = 0).reset_index(drop=True)\n",
    "    dfreg_maxvelocity = pd.concat([dfreg_maxvelocity, dfmv2], axis = 0).reset_index(drop=True)\n",
    "    dfreg_straightindex = pd.concat([dfreg_straightindex, dfsim2], axis = 0).reset_index(drop=True)\n",
    "    \n",
    "    #arranging based on SPEED values\n",
    "    \n",
    "    dfsp_db = df_sp[(df_sp['ExperimentState'] != \"Recovery\") ]\n",
    "    dfsp_db2 = dabest_jck.load(data = dfsp_db, x = ['ExperimentState', 'ExperimentState'], y = \"Velocity\", delta2 = True, experiment = \"Type\", x1_level = [\"Dark\", \"Full\"], experiment_label = [\"WT\",\"Expt\"] ) #if deltadelta, use dabest; if deltaG, use dabest_jck\n",
    "    roundmean = round(dfsp_db2.delta_g.delta_delta.difference,3)    #if delta delta = dfsp_db2.mean_diff.delta_delta.difference,3; delta G = dfsp_db2.delta_g.delta_delta.difference,3\n",
    "    diff2 = pd.DataFrame({\"delta_g\": roundmean}, index = [n] )\n",
    "    diff = pd.concat([diff, diff2], axis =0)\n",
    "    "
   ]
  },
  {
   "cell_type": "code",
   "execution_count": 11,
   "id": "3dc3970f",
   "metadata": {},
   "outputs": [
    {
     "data": {
      "text/html": [
       "<div>\n",
       "<style scoped>\n",
       "    .dataframe tbody tr th:only-of-type {\n",
       "        vertical-align: middle;\n",
       "    }\n",
       "\n",
       "    .dataframe tbody tr th {\n",
       "        vertical-align: top;\n",
       "    }\n",
       "\n",
       "    .dataframe thead th {\n",
       "        text-align: right;\n",
       "    }\n",
       "</style>\n",
       "<table border=\"1\" class=\"dataframe\">\n",
       "  <thead>\n",
       "    <tr style=\"text-align: right;\">\n",
       "      <th></th>\n",
       "      <th>index</th>\n",
       "      <th>Velocity</th>\n",
       "      <th>ExperimentState</th>\n",
       "      <th>Type</th>\n",
       "      <th>genre</th>\n",
       "    </tr>\n",
       "  </thead>\n",
       "  <tbody>\n",
       "    <tr>\n",
       "      <th>0</th>\n",
       "      <td>MB323B Velocity_2</td>\n",
       "      <td>1.459888</td>\n",
       "      <td>Dark</td>\n",
       "      <td>Expt</td>\n",
       "      <td>Dark Expt</td>\n",
       "    </tr>\n",
       "    <tr>\n",
       "      <th>1</th>\n",
       "      <td>MB323B Velocity_7</td>\n",
       "      <td>4.411227</td>\n",
       "      <td>Dark</td>\n",
       "      <td>Expt</td>\n",
       "      <td>Dark Expt</td>\n",
       "    </tr>\n",
       "    <tr>\n",
       "      <th>2</th>\n",
       "      <td>MB323B Velocity_10</td>\n",
       "      <td>3.988895</td>\n",
       "      <td>Dark</td>\n",
       "      <td>Expt</td>\n",
       "      <td>Dark Expt</td>\n",
       "    </tr>\n",
       "    <tr>\n",
       "      <th>3</th>\n",
       "      <td>MB323B Velocity_12</td>\n",
       "      <td>4.156769</td>\n",
       "      <td>Dark</td>\n",
       "      <td>Expt</td>\n",
       "      <td>Dark Expt</td>\n",
       "    </tr>\n",
       "    <tr>\n",
       "      <th>4</th>\n",
       "      <td>MB323B Velocity_14</td>\n",
       "      <td>2.600646</td>\n",
       "      <td>Dark</td>\n",
       "      <td>Expt</td>\n",
       "      <td>Dark Expt</td>\n",
       "    </tr>\n",
       "    <tr>\n",
       "      <th>...</th>\n",
       "      <td>...</td>\n",
       "      <td>...</td>\n",
       "      <td>...</td>\n",
       "      <td>...</td>\n",
       "      <td>...</td>\n",
       "    </tr>\n",
       "    <tr>\n",
       "      <th>496</th>\n",
       "      <td>w1118 Velocity_148</td>\n",
       "      <td>0.294707</td>\n",
       "      <td>Recovery</td>\n",
       "      <td>WT</td>\n",
       "      <td>Recovery WT</td>\n",
       "    </tr>\n",
       "    <tr>\n",
       "      <th>497</th>\n",
       "      <td>w1118 Velocity_150</td>\n",
       "      <td>2.165012</td>\n",
       "      <td>Recovery</td>\n",
       "      <td>WT</td>\n",
       "      <td>Recovery WT</td>\n",
       "    </tr>\n",
       "    <tr>\n",
       "      <th>498</th>\n",
       "      <td>w1118 Velocity_151</td>\n",
       "      <td>2.449000</td>\n",
       "      <td>Recovery</td>\n",
       "      <td>WT</td>\n",
       "      <td>Recovery WT</td>\n",
       "    </tr>\n",
       "    <tr>\n",
       "      <th>499</th>\n",
       "      <td>w1118 Velocity_152</td>\n",
       "      <td>1.590458</td>\n",
       "      <td>Recovery</td>\n",
       "      <td>WT</td>\n",
       "      <td>Recovery WT</td>\n",
       "    </tr>\n",
       "    <tr>\n",
       "      <th>500</th>\n",
       "      <td>w1118 Velocity_153</td>\n",
       "      <td>0.299925</td>\n",
       "      <td>Recovery</td>\n",
       "      <td>WT</td>\n",
       "      <td>Recovery WT</td>\n",
       "    </tr>\n",
       "  </tbody>\n",
       "</table>\n",
       "<p>501 rows × 5 columns</p>\n",
       "</div>"
      ],
      "text/plain": [
       "                  index  Velocity ExperimentState  Type        genre\n",
       "0     MB323B Velocity_2  1.459888            Dark  Expt    Dark Expt\n",
       "1     MB323B Velocity_7  4.411227            Dark  Expt    Dark Expt\n",
       "2    MB323B Velocity_10  3.988895            Dark  Expt    Dark Expt\n",
       "3    MB323B Velocity_12  4.156769            Dark  Expt    Dark Expt\n",
       "4    MB323B Velocity_14  2.600646            Dark  Expt    Dark Expt\n",
       "..                  ...       ...             ...   ...          ...\n",
       "496  w1118 Velocity_148  0.294707        Recovery    WT  Recovery WT\n",
       "497  w1118 Velocity_150  2.165012        Recovery    WT  Recovery WT\n",
       "498  w1118 Velocity_151  2.449000        Recovery    WT  Recovery WT\n",
       "499  w1118 Velocity_152  1.590458        Recovery    WT  Recovery WT\n",
       "500  w1118 Velocity_153  0.299925        Recovery    WT  Recovery WT\n",
       "\n",
       "[501 rows x 5 columns]"
      ]
     },
     "execution_count": 11,
     "metadata": {},
     "output_type": "execute_result"
    }
   ],
   "source": [
    "df_sp"
   ]
  },
  {
   "cell_type": "code",
   "execution_count": 38,
   "id": "8b70435f",
   "metadata": {},
   "outputs": [],
   "source": [
    "#SPEED: sorting lists, arranging in ascending order\n",
    "diff_sorted=diff.sort_values(by = \"delta_g\", ascending=True)\n",
    "sortedindex = diff_sorted.index.tolist()\n",
    "dblist= pd.DataFrame() \n",
    "dblist['MBON'] = sortedindex"
   ]
  },
  {
   "cell_type": "code",
   "execution_count": 40,
   "id": "1714d572",
   "metadata": {},
   "outputs": [],
   "source": [
    "def get_df_name(df):\n",
    "    name =[x for x in globals() if globals()[x] is df][0]\n",
    "    return name"
   ]
  },
  {
   "cell_type": "code",
   "execution_count": 41,
   "id": "10443a2d",
   "metadata": {},
   "outputs": [],
   "source": [
    "df2list = [eval(xi) for xi in dflists2]\n",
    "\n",
    "for nn in df2list:\n",
    "    # nn.MBON = pd.Categorical(nn.MBON, categories=dblist)\n",
    "    # mm = nn.sort_values('MBON').reset_index(drop=True)\n",
    "    nn.to_csv(openPath + \"Compilation with delta\\\\\" + responder + \" \" + get_df_name(nn) + \" .csv\")\n",
    "\n",
    "pdlist = pd.DataFrame(dblist)\n",
    "pdlist.to_csv(openPath + \"Compilation with delta\\\\\" + responder + \" \" + \"dblist .csv\")"
   ]
  },
  {
   "cell_type": "markdown",
   "id": "660d3646",
   "metadata": {},
   "source": [
    "# run if old files"
   ]
  },
  {
   "cell_type": "code",
   "execution_count": 154,
   "id": "ce4c31ea",
   "metadata": {},
   "outputs": [],
   "source": [
    "newfile = openPath + \"Compilation with delta\\\\\"\n",
    "files = os.listdir(newfile)\n",
    "\n",
    "for y in files:\n",
    "    if responder in y:\n",
    "        name = y.split(\" \")[1]\n",
    "        newfileread = pd.read_csv(newfile + y)\n",
    "        globals()[name]  = (newfileread.drop(newfileread.columns[[0]],axis = 1)).set_index('MBON')"
   ]
  },
  {
   "cell_type": "markdown",
   "id": "9f636b38",
   "metadata": {},
   "source": [
    "# heatmap version"
   ]
  },
  {
   "cell_type": "code",
   "execution_count": 155,
   "id": "2100d179",
   "metadata": {},
   "outputs": [],
   "source": [
    "#delta g only\n",
    "\n",
    "import scikits.bootstrap as skb\n",
    "dfreg2 = pd.DataFrame()\n",
    "for n in list(dblist.index):\n",
    "    dfreg = pd.DataFrame()\n",
    "    dfreg[\"Bout\\n speed\"] = dfreg_bspeed[dfreg_bspeed.index == n]['delta_g']\n",
    "    dfreg[\"Speed\"] = dfreg_speed[dfreg_speed.index == n]['delta_g']\n",
    "    dfreg[\"Fall #\"] = dfreg_fall[dfreg_fall.index == n]['delta_g']\n",
    "    dfreg[\"Height\"] = dfreg_height[dfreg_height.index == n]['delta_g']\n",
    "    #dfreg[\"Displacement\"] = dfreg_displacement[dfreg_displacement.index == n]['delta_g']\n",
    "    dfreg[\"Mean\\n Pause\"] = dfreg_meanpause[dfreg_meanpause.index == n]['delta_g']\n",
    "    dfreg[\"Pause #\"] = dfreg_pause[dfreg_pause.index == n]['delta_g']\n",
    "    dfreg[\"Mean\\n Bout\"] = dfreg_meanbout[dfreg_meanbout.index == n]['delta_g']\n",
    "    dfreg[\"Bout #\"] = dfreg_bout[dfreg_bout.index == n]['delta_g']\n",
    "    dfreg[\"Bout\\n position\"] = dfreg_boutpos[dfreg_boutpos.index == n]['delta_g']\n",
    "    dfreg[\"Pause\\n position\"] = dfreg_pausepos[dfreg_pausepos.index == n]['delta_g']\n",
    "    #new features\n",
    "    dfreg[\"Max\\n velocity\"] = dfreg_maxvelocity[dfreg_maxvelocity.index == n]['delta_g']\n",
    "    dfreg[\"Straightness\\n index\"] = dfreg_straightindex[dfreg_straightindex.index == n]['delta_g']\n",
    "    dfreg[\"displacement\\n between\\n pause\"] = dfreg_displacementbetweenpause[dfreg_displacementbetweenpause.index == n]['delta_g']\n",
    "    dfreg['MBON'] = n\n",
    "    dfreg2 = pd.concat([dfreg2, dfreg], axis = 0).reset_index(drop=True)"
   ]
  },
  {
   "cell_type": "code",
   "execution_count": 156,
   "id": "0934f23f",
   "metadata": {},
   "outputs": [
    {
     "data": {
      "image/png": "[encoded data removed]",
      "text/plain": [
       "<Figure size 1200x600 with 2 Axes>"
      ]
     },
     "metadata": {},
     "output_type": "display_data"
    }
   ],
   "source": [
    "df5 = dfreg2.set_index(['MBON'])\n",
    "fig, ax1 = plt.subplots(figsize=(12, 6))                \n",
    "g1 = sns.heatmap(df5, annot=True, fmt=\".1f\", vmin = -1.5, vmax = 1.5, cmap='coolwarm', linewidths=0.5, linecolor='black', clip_on=False)\n",
    "g1.set_ylabel('')\n",
    "g1.set_yticklabels(g1.get_yticklabels(), rotation = 0, fontsize = 9)\n",
    "g1.set_xticklabels(g1.get_xticklabels(), rotation = 0, fontsize = 9)\n",
    "ax1.set_title('Plot of MBONs > ' + responder + ' and their delta-g across locomotor reactivity parameters')\n",
    "fig.tight_layout()\n",
    "#plt.savefig(savelocation + \"deltagheatmap_\" + responder + \"_\" + date + \".png\", dpi = 1200)"
   ]
  },
  {
   "cell_type": "code",
   "execution_count": 157,
   "id": "ff728022",
   "metadata": {},
   "outputs": [
    {
     "data": {
      "text/html": [
       "<div>\n",
       "<style scoped>\n",
       "    .dataframe tbody tr th:only-of-type {\n",
       "        vertical-align: middle;\n",
       "    }\n",
       "\n",
       "    .dataframe tbody tr th {\n",
       "        vertical-align: top;\n",
       "    }\n",
       "\n",
       "    .dataframe thead tr th {\n",
       "        text-align: left;\n",
       "    }\n",
       "\n",
       "    .dataframe thead tr:last-of-type th {\n",
       "        text-align: right;\n",
       "    }\n",
       "</style>\n",
       "<table border=\"1\" class=\"dataframe\">\n",
       "  <thead>\n",
       "    <tr>\n",
       "      <th></th>\n",
       "      <th colspan=\"3\" halign=\"left\">Bout\\n speed</th>\n",
       "      <th colspan=\"3\" halign=\"left\">Speed</th>\n",
       "      <th colspan=\"3\" halign=\"left\">Fall #</th>\n",
       "      <th>Height</th>\n",
       "      <th>...</th>\n",
       "      <th>Pause\\n position</th>\n",
       "      <th colspan=\"3\" halign=\"left\">Max\\n velocity</th>\n",
       "      <th colspan=\"3\" halign=\"left\">Straightness\\n index</th>\n",
       "      <th colspan=\"3\" halign=\"left\">displacement\\n between\\n pause</th>\n",
       "    </tr>\n",
       "    <tr>\n",
       "      <th></th>\n",
       "      <th>WT</th>\n",
       "      <th>Expt</th>\n",
       "      <th>delta_g</th>\n",
       "      <th>WT</th>\n",
       "      <th>Expt</th>\n",
       "      <th>delta_g</th>\n",
       "      <th>WT</th>\n",
       "      <th>Expt</th>\n",
       "      <th>delta_g</th>\n",
       "      <th>WT</th>\n",
       "      <th>...</th>\n",
       "      <th>delta_g</th>\n",
       "      <th>WT</th>\n",
       "      <th>Expt</th>\n",
       "      <th>delta_g</th>\n",
       "      <th>WT</th>\n",
       "      <th>Expt</th>\n",
       "      <th>delta_g</th>\n",
       "      <th>WT</th>\n",
       "      <th>Expt</th>\n",
       "      <th>delta_g</th>\n",
       "    </tr>\n",
       "    <tr>\n",
       "      <th>MBON</th>\n",
       "      <th></th>\n",
       "      <th></th>\n",
       "      <th></th>\n",
       "      <th></th>\n",
       "      <th></th>\n",
       "      <th></th>\n",
       "      <th></th>\n",
       "      <th></th>\n",
       "      <th></th>\n",
       "      <th></th>\n",
       "      <th></th>\n",
       "      <th></th>\n",
       "      <th></th>\n",
       "      <th></th>\n",
       "      <th></th>\n",
       "      <th></th>\n",
       "      <th></th>\n",
       "      <th></th>\n",
       "      <th></th>\n",
       "      <th></th>\n",
       "      <th></th>\n",
       "    </tr>\n",
       "  </thead>\n",
       "  <tbody>\n",
       "    <tr>\n",
       "      <th>MB011B</th>\n",
       "      <td>-0.156</td>\n",
       "      <td>0.173</td>\n",
       "      <td>0.193</td>\n",
       "      <td>-0.114</td>\n",
       "      <td>0.685</td>\n",
       "      <td>0.183</td>\n",
       "      <td>-0.178</td>\n",
       "      <td>0.194</td>\n",
       "      <td>0.325</td>\n",
       "      <td>-0.486</td>\n",
       "      <td>...</td>\n",
       "      <td>0.338</td>\n",
       "      <td>1.546</td>\n",
       "      <td>2.099</td>\n",
       "      <td>-0.235</td>\n",
       "      <td>-0.023</td>\n",
       "      <td>0.062</td>\n",
       "      <td>0.086</td>\n",
       "      <td>0.153</td>\n",
       "      <td>0.545</td>\n",
       "      <td>0.343</td>\n",
       "    </tr>\n",
       "    <tr>\n",
       "      <th>MB323B</th>\n",
       "      <td>0.318</td>\n",
       "      <td>-0.233</td>\n",
       "      <td>-0.567</td>\n",
       "      <td>0.417</td>\n",
       "      <td>0.141</td>\n",
       "      <td>-0.241</td>\n",
       "      <td>-0.303</td>\n",
       "      <td>-0.428</td>\n",
       "      <td>0.175</td>\n",
       "      <td>-0.282</td>\n",
       "      <td>...</td>\n",
       "      <td>-0.008</td>\n",
       "      <td>0.857</td>\n",
       "      <td>0.547</td>\n",
       "      <td>-0.235</td>\n",
       "      <td>0.038</td>\n",
       "      <td>0.361</td>\n",
       "      <td>0.420</td>\n",
       "      <td>0.422</td>\n",
       "      <td>0.105</td>\n",
       "      <td>-0.297</td>\n",
       "    </tr>\n",
       "  </tbody>\n",
       "</table>\n",
       "<p>2 rows × 39 columns</p>\n",
       "</div>"
      ],
      "text/plain": [
       "       Bout\\n speed                 Speed                Fall #         \\\n",
       "                 WT   Expt delta_g     WT   Expt delta_g     WT   Expt   \n",
       "MBON                                                                     \n",
       "MB011B       -0.156  0.173   0.193 -0.114  0.685   0.183 -0.178  0.194   \n",
       "MB323B        0.318 -0.233  -0.567  0.417  0.141  -0.241 -0.303 -0.428   \n",
       "\n",
       "               Height  ... Pause\\n position Max\\n velocity                 \\\n",
       "       delta_g     WT  ...          delta_g             WT   Expt delta_g   \n",
       "MBON                   ...                                                  \n",
       "MB011B   0.325 -0.486  ...            0.338          1.546  2.099  -0.235   \n",
       "MB323B   0.175 -0.282  ...           -0.008          0.857  0.547  -0.235   \n",
       "\n",
       "       Straightness\\n index                displacement\\n between\\n pause  \\\n",
       "                         WT   Expt delta_g                             WT   \n",
       "MBON                                                                        \n",
       "MB011B               -0.023  0.062   0.086                          0.153   \n",
       "MB323B                0.038  0.361   0.420                          0.422   \n",
       "\n",
       "                       \n",
       "         Expt delta_g  \n",
       "MBON                   \n",
       "MB011B  0.545   0.343  \n",
       "MB323B  0.105  -0.297  \n",
       "\n",
       "[2 rows x 39 columns]"
      ]
     },
     "execution_count": 157,
     "metadata": {},
     "output_type": "execute_result"
    }
   ],
   "source": [
    "#delta and delta g heatmap\n",
    "# \n",
    "dfreglist = [dfreg_bspeed, dfreg_speed, dfreg_fall,dfreg_height, dfreg_meanpause, dfreg_pause,dfreg_meanbout, dfreg_bout,dfreg_boutpos, dfreg_pausepos,dfreg_maxvelocity,dfreg_straightindex, dfreg_displacementbetweenpause]\n",
    "totalregdf = pd.DataFrame()\n",
    "\n",
    "for n,k in zip(dfreg2.columns, dfreglist):\n",
    "    k.columns = pd.MultiIndex.from_product([[n], k.columns.tolist()])\n",
    "    totalregdf = pd.concat([totalregdf, k], axis =1)\n",
    "\n",
    "totalregdf"
   ]
  },
  {
   "cell_type": "code",
   "execution_count": 196,
   "id": "cdc9e3b8",
   "metadata": {},
   "outputs": [
    {
     "data": {
      "application/vnd.plotly.v1+json": {
       "config": {
        "plotlyServerURL": "https://plot.ly"
       },
       "data": [
        {
         "coloraxis": "coloraxis",
         "hovertemplate": "x: %{x}<br>MBON: %{y}<br>color: %{z}<extra></extra>",
         "name": "0",
         "texttemplate": "%{z}",
         "type": "heatmap",
         "x": [
          "WT",
          "Expt",
          "delta_g"
         ],
         "xaxis": "x",
         "y": [
          "MB011B",
          "MB323B"
         ],
         "yaxis": "y",
         "z": [
          [
           -0.2,
           0.2,
           0.2
          ],
          [
           0.3,
           -0.2,
           -0.6
          ]
         ]
        },
        {
         "coloraxis": "coloraxis",
         "hovertemplate": "x: %{x}<br>MBON: %{y}<br>color: %{z}<extra></extra>",
         "name": "0",
         "texttemplate": "%{z}",
         "type": "heatmap",
         "x": [
          "WT",
          "Expt",
          "delta_g"
         ],
         "xaxis": "x2",
         "y": [
          "MB011B",
          "MB323B"
         ],
         "yaxis": "y2",
         "z": [
          [
           -0.1,
           0.7,
           0.2
          ],
          [
           0.4,
           0.1,
           -0.2
          ]
         ]
        },
        {
         "coloraxis": "coloraxis",
         "hovertemplate": "x: %{x}<br>MBON: %{y}<br>color: %{z}<extra></extra>",
         "name": "0",
         "texttemplate": "%{z}",
         "type": "heatmap",
         "x": [
          "WT",
          "Expt",
          "delta_g"
         ],
         "xaxis": "x3",
         "y": [
          "MB011B",
          "MB323B"
         ],
         "yaxis": "y3",
         "z": [
          [
           -0.2,
           0.2,
           0.3
          ],
          [
           -0.3,
           -0.4,
           0.2
          ]
         ]
        },
        {
         "coloraxis": "coloraxis",
         "hovertemplate": "x: %{x}<br>MBON: %{y}<br>color: %{z}<extra></extra>",
         "name": "0",
         "texttemplate": "%{z}",
         "type": "heatmap",
         "x": [
          "WT",
          "Expt",
          "delta_g"
         ],
         "xaxis": "x4",
         "y": [
          "MB011B",
          "MB323B"
         ],
         "yaxis": "y4",
         "z": [
          [
           -0.5,
           -0.3,
           0.2
          ],
          [
           -0.3,
           -0.3,
           0
          ]
         ]
        },
        {
         "coloraxis": "coloraxis",
         "hovertemplate": "x: %{x}<br>MBON: %{y}<br>color: %{z}<extra></extra>",
         "name": "0",
         "texttemplate": "%{z}",
         "type": "heatmap",
         "x": [
          "WT",
          "Expt",
          "delta_g"
         ],
         "xaxis": "x5",
         "y": [
          "MB011B",
          "MB323B"
         ],
         "yaxis": "y5",
         "z": [
          [
           -0.5,
           -0.1,
           0.3
          ],
          [
           -0.3,
           -0.5,
           -0.5
          ]
         ]
        },
        {
         "coloraxis": "coloraxis",
         "hovertemplate": "x: %{x}<br>MBON: %{y}<br>color: %{z}<extra></extra>",
         "name": "0",
         "texttemplate": "%{z}",
         "type": "heatmap",
         "x": [
          "WT",
          "Expt",
          "delta_g"
         ],
         "xaxis": "x6",
         "y": [
          "MB011B",
          "MB323B"
         ],
         "yaxis": "y6",
         "z": [
          [
           0.3,
           0.2,
           -0.1
          ],
          [
           -0.1,
           0.1,
           0.2
          ]
         ]
        },
        {
         "coloraxis": "coloraxis",
         "hovertemplate": "x: %{x}<br>MBON: %{y}<br>color: %{z}<extra></extra>",
         "name": "0",
         "texttemplate": "%{z}",
         "type": "heatmap",
         "x": [
          "WT",
          "Expt",
          "delta_g"
         ],
         "xaxis": "x7",
         "y": [
          "MB011B",
          "MB323B"
         ],
         "yaxis": "y7",
         "z": [
          [
           0,
           0.4,
           0.1
          ],
          [
           0.2,
           0.1,
           0
          ]
         ]
        },
        {
         "coloraxis": "coloraxis",
         "hovertemplate": "x: %{x}<br>MBON: %{y}<br>color: %{z}<extra></extra>",
         "name": "0",
         "texttemplate": "%{z}",
         "type": "heatmap",
         "x": [
          "WT",
          "Expt",
          "delta_g"
         ],
         "xaxis": "x8",
         "y": [
          "MB011B",
          "MB323B"
         ],
         "yaxis": "y8",
         "z": [
          [
           0.4,
           0.2,
           -0.1
          ],
          [
           0,
           0.1,
           0.2
          ]
         ]
        },
        {
         "coloraxis": "coloraxis",
         "hovertemplate": "x: %{x}<br>MBON: %{y}<br>color: %{z}<extra></extra>",
         "name": "0",
         "texttemplate": "%{z}",
         "type": "heatmap",
         "x": [
          "WT",
          "Expt",
          "delta_g"
         ],
         "xaxis": "x9",
         "y": [
          "MB011B",
          "MB323B"
         ],
         "yaxis": "y9",
         "z": [
          [
           -0.1,
           -0.1,
           0
          ],
          [
           -0.1,
           -0.2,
           -0.1
          ]
         ]
        },
        {
         "coloraxis": "coloraxis",
         "hovertemplate": "x: %{x}<br>MBON: %{y}<br>color: %{z}<extra></extra>",
         "name": "0",
         "texttemplate": "%{z}",
         "type": "heatmap",
         "x": [
          "WT",
          "Expt",
          "delta_g"
         ],
         "xaxis": "x10",
         "y": [
          "MB011B",
          "MB323B"
         ],
         "yaxis": "y10",
         "z": [
          [
           -0.7,
           -0.4,
           0.3
          ],
          [
           -0.3,
           -0.4,
           0
          ]
         ]
        },
        {
         "coloraxis": "coloraxis",
         "hovertemplate": "x: %{x}<br>MBON: %{y}<br>color: %{z}<extra></extra>",
         "name": "0",
         "texttemplate": "%{z}",
         "type": "heatmap",
         "x": [
          "WT",
          "Expt",
          "delta_g"
         ],
         "xaxis": "x11",
         "y": [
          "MB011B",
          "MB323B"
         ],
         "yaxis": "y11",
         "z": [
          [
           1.5,
           2.1,
           -0.2
          ],
          [
           0.9,
           0.5,
           -0.2
          ]
         ]
        },
        {
         "coloraxis": "coloraxis",
         "hovertemplate": "x: %{x}<br>MBON: %{y}<br>color: %{z}<extra></extra>",
         "name": "0",
         "texttemplate": "%{z}",
         "type": "heatmap",
         "x": [
          "WT",
          "Expt",
          "delta_g"
         ],
         "xaxis": "x12",
         "y": [
          "MB011B",
          "MB323B"
         ],
         "yaxis": "y12",
         "z": [
          [
           0,
           0.1,
           0.1
          ],
          [
           0,
           0.4,
           0.4
          ]
         ]
        },
        {
         "coloraxis": "coloraxis",
         "hovertemplate": "x: %{x}<br>MBON: %{y}<br>color: %{z}<extra></extra>",
         "name": "0",
         "texttemplate": "%{z}",
         "type": "heatmap",
         "x": [
          "WT",
          "Expt",
          "delta_g"
         ],
         "xaxis": "x13",
         "y": [
          "MB011B",
          "MB323B"
         ],
         "yaxis": "y13",
         "z": [
          [
           0.2,
           0.5,
           0.3
          ],
          [
           0.4,
           0.1,
           -0.3
          ]
         ]
        }
       ],
       "layout": {
        "annotations": [
         {
          "font": {
           "size": 12
          },
          "showarrow": false,
          "text": "Bout\n speed",
          "x": 0.03153846153846154,
          "xanchor": "center",
          "xref": "paper",
          "y": 1,
          "yanchor": "bottom",
          "yref": "paper",
          "yshift": -280
         },
         {
          "font": {
           "size": 12
          },
          "showarrow": false,
          "text": "Speed",
          "x": 0.10961538461538464,
          "xanchor": "center",
          "xref": "paper",
          "y": 1,
          "yanchor": "bottom",
          "yref": "paper",
          "yshift": -280
         },
         {
          "font": {
           "size": 12
          },
          "showarrow": false,
          "text": "Fall #",
          "x": 0.1876923076923077,
          "xanchor": "center",
          "xref": "paper",
          "y": 1,
          "yanchor": "bottom",
          "yref": "paper",
          "yshift": -280
         },
         {
          "font": {
           "size": 12
          },
          "showarrow": false,
          "text": "Height",
          "x": 0.26576923076923076,
          "xanchor": "center",
          "xref": "paper",
          "y": 1,
          "yanchor": "bottom",
          "yref": "paper",
          "yshift": -280
         },
         {
          "font": {
           "size": 12
          },
          "showarrow": false,
          "text": "Mean\n Pause",
          "x": 0.3438461538461539,
          "xanchor": "center",
          "xref": "paper",
          "y": 1,
          "yanchor": "bottom",
          "yref": "paper",
          "yshift": -280
         },
         {
          "font": {
           "size": 12
          },
          "showarrow": false,
          "text": "Pause #",
          "x": 0.42192307692307696,
          "xanchor": "center",
          "xref": "paper",
          "y": 1,
          "yanchor": "bottom",
          "yref": "paper",
          "yshift": -280
         },
         {
          "font": {
           "size": 12
          },
          "showarrow": false,
          "text": "Mean\n Bout",
          "x": 0.5,
          "xanchor": "center",
          "xref": "paper",
          "y": 1,
          "yanchor": "bottom",
          "yref": "paper",
          "yshift": -280
         },
         {
          "font": {
           "size": 12
          },
          "showarrow": false,
          "text": "Bout #",
          "x": 0.5780769230769232,
          "xanchor": "center",
          "xref": "paper",
          "y": 1,
          "yanchor": "bottom",
          "yref": "paper",
          "yshift": -280
         },
         {
          "font": {
           "size": 12
          },
          "showarrow": false,
          "text": "Bout\n position",
          "x": 0.6561538461538463,
          "xanchor": "center",
          "xref": "paper",
          "y": 1,
          "yanchor": "bottom",
          "yref": "paper",
          "yshift": -280
         },
         {
          "font": {
           "size": 12
          },
          "showarrow": false,
          "text": "Pause\n position",
          "x": 0.7342307692307692,
          "xanchor": "center",
          "xref": "paper",
          "y": 1,
          "yanchor": "bottom",
          "yref": "paper",
          "yshift": -280
         },
         {
          "font": {
           "size": 12
          },
          "showarrow": false,
          "text": "Max\n velocity",
          "x": 0.8123076923076924,
          "xanchor": "center",
          "xref": "paper",
          "y": 1,
          "yanchor": "bottom",
          "yref": "paper",
          "yshift": -280
         },
         {
          "font": {
           "size": 12
          },
          "showarrow": false,
          "text": "Straightness\n index",
          "x": 0.8903846153846153,
          "xanchor": "center",
          "xref": "paper",
          "y": 1,
          "yanchor": "bottom",
          "yref": "paper",
          "yshift": -280
         },
         {
          "font": {
           "size": 12
          },
          "showarrow": false,
          "text": "displacement\n between\n pause",
          "x": 0.9684615384615383,
          "xanchor": "center",
          "xref": "paper",
          "y": 1,
          "yanchor": "bottom",
          "yref": "paper",
          "yshift": -280
         }
        ],
        "height": 400,
        "template": {
         "data": {
          "bar": [
           {
            "error_x": {
             "color": "#2a3f5f"
            },
            "error_y": {
             "color": "#2a3f5f"
            },
            "marker": {
             "line": {
              "color": "#E5ECF6",
              "width": 0.5
             },
             "pattern": {
              "fillmode": "overlay",
              "size": 10,
              "solidity": 0.2
             }
            },
            "type": "bar"
           }
          ],
          "barpolar": [
           {
            "marker": {
             "line": {
              "color": "#E5ECF6",
              "width": 0.5
             },
             "pattern": {
              "fillmode": "overlay",
              "size": 10,
              "solidity": 0.2
             }
            },
            "type": "barpolar"
           }
          ],
          "carpet": [
           {
            "aaxis": {
             "endlinecolor": "#2a3f5f",
             "gridcolor": "white",
             "linecolor": "white",
             "minorgridcolor": "white",
             "startlinecolor": "#2a3f5f"
            },
            "baxis": {
             "endlinecolor": "#2a3f5f",
             "gridcolor": "white",
             "linecolor": "white",
             "minorgridcolor": "white",
             "startlinecolor": "#2a3f5f"
            },
            "type": "carpet"
           }
          ],
          "choropleth": [
           {
            "colorbar": {
             "outlinewidth": 0,
             "ticks": ""
            },
            "type": "choropleth"
           }
          ],
          "contour": [
           {
            "colorbar": {
             "outlinewidth": 0,
             "ticks": ""
            },
            "colorscale": [
             [
              0,
              "#0d0887"
             ],
             [
              0.1111111111111111,
              "#46039f"
             ],
             [
              0.2222222222222222,
              "#7201a8"
             ],
             [
              0.3333333333333333,
              "#9c179e"
             ],
             [
              0.4444444444444444,
              "#bd3786"
             ],
             [
              0.5555555555555556,
              "#d8576b"
             ],
             [
              0.6666666666666666,
              "#ed7953"
             ],
             [
              0.7777777777777778,
              "#fb9f3a"
             ],
             [
              0.8888888888888888,
              "#fdca26"
             ],
             [
              1,
              "#f0f921"
             ]
            ],
            "type": "contour"
           }
          ],
          "contourcarpet": [
           {
            "colorbar": {
             "outlinewidth": 0,
             "ticks": ""
            },
            "type": "contourcarpet"
           }
          ],
          "heatmap": [
           {
            "colorbar": {
             "outlinewidth": 0,
             "ticks": ""
            },
            "colorscale": [
             [
              0,
              "#0d0887"
             ],
             [
              0.1111111111111111,
              "#46039f"
             ],
             [
              0.2222222222222222,
              "#7201a8"
             ],
             [
              0.3333333333333333,
              "#9c179e"
             ],
             [
              0.4444444444444444,
              "#bd3786"
             ],
             [
              0.5555555555555556,
              "#d8576b"
             ],
             [
              0.6666666666666666,
              "#ed7953"
             ],
             [
              0.7777777777777778,
              "#fb9f3a"
             ],
             [
              0.8888888888888888,
              "#fdca26"
             ],
             [
              1,
              "#f0f921"
             ]
            ],
            "type": "heatmap"
           }
          ],
          "heatmapgl": [
           {
            "colorbar": {
             "outlinewidth": 0,
             "ticks": ""
            },
            "colorscale": [
             [
              0,
              "#0d0887"
             ],
             [
              0.1111111111111111,
              "#46039f"
             ],
             [
              0.2222222222222222,
              "#7201a8"
             ],
             [
              0.3333333333333333,
              "#9c179e"
             ],
             [
              0.4444444444444444,
              "#bd3786"
             ],
             [
              0.5555555555555556,
              "#d8576b"
             ],
             [
              0.6666666666666666,
              "#ed7953"
             ],
             [
              0.7777777777777778,
              "#fb9f3a"
             ],
             [
              0.8888888888888888,
              "#fdca26"
             ],
             [
              1,
              "#f0f921"
             ]
            ],
            "type": "heatmapgl"
           }
          ],
          "histogram": [
           {
            "marker": {
             "pattern": {
              "fillmode": "overlay",
              "size": 10,
              "solidity": 0.2
             }
            },
            "type": "histogram"
           }
          ],
          "histogram2d": [
           {
            "colorbar": {
             "outlinewidth": 0,
             "ticks": ""
            },
            "colorscale": [
             [
              0,
              "#0d0887"
             ],
             [
              0.1111111111111111,
              "#46039f"
             ],
             [
              0.2222222222222222,
              "#7201a8"
             ],
             [
              0.3333333333333333,
              "#9c179e"
             ],
             [
              0.4444444444444444,
              "#bd3786"
             ],
             [
              0.5555555555555556,
              "#d8576b"
             ],
             [
              0.6666666666666666,
              "#ed7953"
             ],
             [
              0.7777777777777778,
              "#fb9f3a"
             ],
             [
              0.8888888888888888,
              "#fdca26"
             ],
             [
              1,
              "#f0f921"
             ]
            ],
            "type": "histogram2d"
           }
          ],
          "histogram2dcontour": [
           {
            "colorbar": {
             "outlinewidth": 0,
             "ticks": ""
            },
            "colorscale": [
             [
              0,
              "#0d0887"
             ],
             [
              0.1111111111111111,
              "#46039f"
             ],
             [
              0.2222222222222222,
              "#7201a8"
             ],
             [
              0.3333333333333333,
              "#9c179e"
             ],
             [
              0.4444444444444444,
              "#bd3786"
             ],
             [
              0.5555555555555556,
              "#d8576b"
             ],
             [
              0.6666666666666666,
              "#ed7953"
             ],
             [
              0.7777777777777778,
              "#fb9f3a"
             ],
             [
              0.8888888888888888,
              "#fdca26"
             ],
             [
              1,
              "#f0f921"
             ]
            ],
            "type": "histogram2dcontour"
           }
          ],
          "mesh3d": [
           {
            "colorbar": {
             "outlinewidth": 0,
             "ticks": ""
            },
            "type": "mesh3d"
           }
          ],
          "parcoords": [
           {
            "line": {
             "colorbar": {
              "outlinewidth": 0,
              "ticks": ""
             }
            },
            "type": "parcoords"
           }
          ],
          "pie": [
           {
            "automargin": true,
            "type": "pie"
           }
          ],
          "scatter": [
           {
            "fillpattern": {
             "fillmode": "overlay",
             "size": 10,
             "solidity": 0.2
            },
            "type": "scatter"
           }
          ],
          "scatter3d": [
           {
            "line": {
             "colorbar": {
              "outlinewidth": 0,
              "ticks": ""
             }
            },
            "marker": {
             "colorbar": {
              "outlinewidth": 0,
              "ticks": ""
             }
            },
            "type": "scatter3d"
           }
          ],
          "scattercarpet": [
           {
            "marker": {
             "colorbar": {
              "outlinewidth": 0,
              "ticks": ""
             }
            },
            "type": "scattercarpet"
           }
          ],
          "scattergeo": [
           {
            "marker": {
             "colorbar": {
              "outlinewidth": 0,
              "ticks": ""
             }
            },
            "type": "scattergeo"
           }
          ],
          "scattergl": [
           {
            "marker": {
             "colorbar": {
              "outlinewidth": 0,
              "ticks": ""
             }
            },
            "type": "scattergl"
           }
          ],
          "scattermapbox": [
           {
            "marker": {
             "colorbar": {
              "outlinewidth": 0,
              "ticks": ""
             }
            },
            "type": "scattermapbox"
           }
          ],
          "scatterpolar": [
           {
            "marker": {
             "colorbar": {
              "outlinewidth": 0,
              "ticks": ""
             }
            },
            "type": "scatterpolar"
           }
          ],
          "scatterpolargl": [
           {
            "marker": {
             "colorbar": {
              "outlinewidth": 0,
              "ticks": ""
             }
            },
            "type": "scatterpolargl"
           }
          ],
          "scatterternary": [
           {
            "marker": {
             "colorbar": {
              "outlinewidth": 0,
              "ticks": ""
             }
            },
            "type": "scatterternary"
           }
          ],
          "surface": [
           {
            "colorbar": {
             "outlinewidth": 0,
             "ticks": ""
            },
            "colorscale": [
             [
              0,
              "#0d0887"
             ],
             [
              0.1111111111111111,
              "#46039f"
             ],
             [
              0.2222222222222222,
              "#7201a8"
             ],
             [
              0.3333333333333333,
              "#9c179e"
             ],
             [
              0.4444444444444444,
              "#bd3786"
             ],
             [
              0.5555555555555556,
              "#d8576b"
             ],
             [
              0.6666666666666666,
              "#ed7953"
             ],
             [
              0.7777777777777778,
              "#fb9f3a"
             ],
             [
              0.8888888888888888,
              "#fdca26"
             ],
             [
              1,
              "#f0f921"
             ]
            ],
            "type": "surface"
           }
          ],
          "table": [
           {
            "cells": {
             "fill": {
              "color": "#EBF0F8"
             },
             "line": {
              "color": "white"
             }
            },
            "header": {
             "fill": {
              "color": "#C8D4E3"
             },
             "line": {
              "color": "white"
             }
            },
            "type": "table"
           }
          ]
         },
         "layout": {
          "annotationdefaults": {
           "arrowcolor": "#2a3f5f",
           "arrowhead": 0,
           "arrowwidth": 1
          },
          "autotypenumbers": "strict",
          "coloraxis": {
           "colorbar": {
            "outlinewidth": 0,
            "ticks": ""
           }
          },
          "colorscale": {
           "diverging": [
            [
             0,
             "#8e0152"
            ],
            [
             0.1,
             "#c51b7d"
            ],
            [
             0.2,
             "#de77ae"
            ],
            [
             0.3,
             "#f1b6da"
            ],
            [
             0.4,
             "#fde0ef"
            ],
            [
             0.5,
             "#f7f7f7"
            ],
            [
             0.6,
             "#e6f5d0"
            ],
            [
             0.7,
             "#b8e186"
            ],
            [
             0.8,
             "#7fbc41"
            ],
            [
             0.9,
             "#4d9221"
            ],
            [
             1,
             "#276419"
            ]
           ],
           "sequential": [
            [
             0,
             "#0d0887"
            ],
            [
             0.1111111111111111,
             "#46039f"
            ],
            [
             0.2222222222222222,
             "#7201a8"
            ],
            [
             0.3333333333333333,
             "#9c179e"
            ],
            [
             0.4444444444444444,
             "#bd3786"
            ],
            [
             0.5555555555555556,
             "#d8576b"
            ],
            [
             0.6666666666666666,
             "#ed7953"
            ],
            [
             0.7777777777777778,
             "#fb9f3a"
            ],
            [
             0.8888888888888888,
             "#fdca26"
            ],
            [
             1,
             "#f0f921"
            ]
           ],
           "sequentialminus": [
            [
             0,
             "#0d0887"
            ],
            [
             0.1111111111111111,
             "#46039f"
            ],
            [
             0.2222222222222222,
             "#7201a8"
            ],
            [
             0.3333333333333333,
             "#9c179e"
            ],
            [
             0.4444444444444444,
             "#bd3786"
            ],
            [
             0.5555555555555556,
             "#d8576b"
            ],
            [
             0.6666666666666666,
             "#ed7953"
            ],
            [
             0.7777777777777778,
             "#fb9f3a"
            ],
            [
             0.8888888888888888,
             "#fdca26"
            ],
            [
             1,
             "#f0f921"
            ]
           ]
          },
          "colorway": [
           "#636efa",
           "#EF553B",
           "#00cc96",
           "#ab63fa",
           "#FFA15A",
           "#19d3f3",
           "#FF6692",
           "#B6E880",
           "#FF97FF",
           "#FECB52"
          ],
          "font": {
           "color": "#2a3f5f"
          },
          "geo": {
           "bgcolor": "white",
           "lakecolor": "white",
           "landcolor": "#E5ECF6",
           "showlakes": true,
           "showland": true,
           "subunitcolor": "white"
          },
          "hoverlabel": {
           "align": "left"
          },
          "hovermode": "closest",
          "mapbox": {
           "style": "light"
          },
          "paper_bgcolor": "white",
          "plot_bgcolor": "#E5ECF6",
          "polar": {
           "angularaxis": {
            "gridcolor": "white",
            "linecolor": "white",
            "ticks": ""
           },
           "bgcolor": "#E5ECF6",
           "radialaxis": {
            "gridcolor": "white",
            "linecolor": "white",
            "ticks": ""
           }
          },
          "scene": {
           "xaxis": {
            "backgroundcolor": "#E5ECF6",
            "gridcolor": "white",
            "gridwidth": 2,
            "linecolor": "white",
            "showbackground": true,
            "ticks": "",
            "zerolinecolor": "white"
           },
           "yaxis": {
            "backgroundcolor": "#E5ECF6",
            "gridcolor": "white",
            "gridwidth": 2,
            "linecolor": "white",
            "showbackground": true,
            "ticks": "",
            "zerolinecolor": "white"
           },
           "zaxis": {
            "backgroundcolor": "#E5ECF6",
            "gridcolor": "white",
            "gridwidth": 2,
            "linecolor": "white",
            "showbackground": true,
            "ticks": "",
            "zerolinecolor": "white"
           }
          },
          "shapedefaults": {
           "line": {
            "color": "#2a3f5f"
           }
          },
          "ternary": {
           "aaxis": {
            "gridcolor": "white",
            "linecolor": "white",
            "ticks": ""
           },
           "baxis": {
            "gridcolor": "white",
            "linecolor": "white",
            "ticks": ""
           },
           "bgcolor": "#E5ECF6",
           "caxis": {
            "gridcolor": "white",
            "linecolor": "white",
            "ticks": ""
           }
          },
          "title": {
           "x": 0.05
          },
          "xaxis": {
           "automargin": true,
           "gridcolor": "white",
           "linecolor": "white",
           "ticks": "",
           "title": {
            "standoff": 15
           },
           "zerolinecolor": "white",
           "zerolinewidth": 2
          },
          "yaxis": {
           "automargin": true,
           "gridcolor": "white",
           "linecolor": "white",
           "ticks": "",
           "title": {
            "standoff": 15
           },
           "zerolinecolor": "white",
           "zerolinewidth": 2
          }
         }
        },
        "title": {
         "text": "Plot of MBONs > <b>ACR</b> and their delta, delta-g across locomotor reactivity parameters"
        },
        "width": 1800,
        "xaxis": {
         "anchor": "y",
         "domain": [
          0,
          0.06307692307692309
         ]
        },
        "xaxis10": {
         "anchor": "y10",
         "domain": [
          0.7026923076923077,
          0.7657692307692308
         ]
        },
        "xaxis11": {
         "anchor": "y11",
         "domain": [
          0.7807692307692308,
          0.8438461538461539
         ]
        },
        "xaxis12": {
         "anchor": "y12",
         "domain": [
          0.8588461538461538,
          0.9219230769230768
         ]
        },
        "xaxis13": {
         "anchor": "y13",
         "domain": [
          0.9369230769230767,
          0.9999999999999998
         ]
        },
        "xaxis2": {
         "anchor": "y2",
         "domain": [
          0.07807692307692309,
          0.14115384615384619
         ]
        },
        "xaxis3": {
         "anchor": "y3",
         "domain": [
          0.15615384615384617,
          0.21923076923076926
         ]
        },
        "xaxis4": {
         "anchor": "y4",
         "domain": [
          0.23423076923076924,
          0.29730769230769233
         ]
        },
        "xaxis5": {
         "anchor": "y5",
         "domain": [
          0.31230769230769234,
          0.3753846153846154
         ]
        },
        "xaxis6": {
         "anchor": "y6",
         "domain": [
          0.39038461538461544,
          0.4534615384615385
         ]
        },
        "xaxis7": {
         "anchor": "y7",
         "domain": [
          0.4684615384615385,
          0.5315384615384615
         ]
        },
        "xaxis8": {
         "anchor": "y8",
         "domain": [
          0.5465384615384616,
          0.6096153846153847
         ]
        },
        "xaxis9": {
         "anchor": "y9",
         "domain": [
          0.6246153846153847,
          0.6876923076923078
         ]
        },
        "yaxis": {
         "anchor": "x",
         "domain": [
          0,
          1
         ]
        },
        "yaxis10": {
         "anchor": "x10",
         "domain": [
          0,
          1
         ],
         "matches": "y",
         "showticklabels": false
        },
        "yaxis11": {
         "anchor": "x11",
         "domain": [
          0,
          1
         ],
         "matches": "y",
         "showticklabels": false
        },
        "yaxis12": {
         "anchor": "x12",
         "domain": [
          0,
          1
         ],
         "matches": "y",
         "showticklabels": false
        },
        "yaxis13": {
         "anchor": "x13",
         "domain": [
          0,
          1
         ],
         "matches": "y",
         "showticklabels": false
        },
        "yaxis2": {
         "anchor": "x2",
         "domain": [
          0,
          1
         ],
         "matches": "y",
         "showticklabels": false
        },
        "yaxis3": {
         "anchor": "x3",
         "domain": [
          0,
          1
         ],
         "matches": "y",
         "showticklabels": false
        },
        "yaxis4": {
         "anchor": "x4",
         "domain": [
          0,
          1
         ],
         "matches": "y",
         "showticklabels": false
        },
        "yaxis5": {
         "anchor": "x5",
         "domain": [
          0,
          1
         ],
         "matches": "y",
         "showticklabels": false
        },
        "yaxis6": {
         "anchor": "x6",
         "domain": [
          0,
          1
         ],
         "matches": "y",
         "showticklabels": false
        },
        "yaxis7": {
         "anchor": "x7",
         "domain": [
          0,
          1
         ],
         "matches": "y",
         "showticklabels": false
        },
        "yaxis8": {
         "anchor": "x8",
         "domain": [
          0,
          1
         ],
         "matches": "y",
         "showticklabels": false
        },
        "yaxis9": {
         "anchor": "x9",
         "domain": [
          0,
          1
         ],
         "matches": "y",
         "showticklabels": false
        }
       }
      }
     },
     "metadata": {},
     "output_type": "display_data"
    }
   ],
   "source": [
    "# f1,ax = plt.subplots(nrows=1, ncols=13, sharex=False, sharey = True, figsize=(15, 6))\n",
    "\n",
    "from plotly.subplots import make_subplots\n",
    "import plotly.graph_objects as go\n",
    "import plotly.express as px\n",
    "\n",
    "subplottitles = list(map(lambda s:s.replace('\\n', ''), dfreg2.columns))\n",
    "g1 = round(totalregdf,1)\n",
    "\n",
    "fig = make_subplots(rows = 1,cols = 13, horizontal_spacing = 0.015, shared_yaxes =True, subplot_titles= dfreg2.columns)   \n",
    "\n",
    "\n",
    "for n, j in zip(dfreg2.columns, list(range(1,14))):\n",
    "    figure1 = px.imshow(g1[n], text_auto = True, aspect = \"auto\")\n",
    "    fig.add_trace(figure1['data'][0], row = 1, col = j)\n",
    "\n",
    "fig.update_layout(title = 'Plot of MBONs > <b>' + responder +  '</b> and their cohens d, delta-g across locomotor reactivity parameters', height = 400, width = 1800)\n",
    "fig.update_annotations(font_size=12, yshift = -280)\n",
    "\n",
    "\n",
    "\n",
    "fig.show()"
   ]
  }
 ],
 "metadata": {
  "kernelspec": {
   "display_name": "Python 3 (ipykernel)",
   "language": "python",
   "name": "python3"
  },
  "language_info": {
   "codemirror_mode": {
    "name": "ipython",
    "version": 3
   },
   "file_extension": ".py",
   "mimetype": "text/x-python",
   "name": "python",
   "nbconvert_exporter": "python",
   "pygments_lexer": "ipython3",
   "version": "3.10.9"
  }
 },
 "nbformat": 4,
 "nbformat_minor": 5
}
