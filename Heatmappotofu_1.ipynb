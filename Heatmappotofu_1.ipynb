{
 "cells": [
  {
   "cell_type": "code",
   "execution_count": 1,
   "id": "a4353ff5-aa3e-48d6-a9e0-3a4d44244d80",
   "metadata": {},
   "outputs": [],
   "source": [
    "#import relevant libraries\n",
    "import os\n",
    "from scipy import stats\n",
    "\n",
    "import numpy as np\n",
    "import scipy as sp\n",
    "import pandas as pd\n",
    "import matplotlib as mpl\n",
    "import matplotlib.pyplot as plt\n",
    "import seaborn as sns\n",
    "import dabest\n",
    "import NLCLIMB\n",
    "import NLMATH\n",
    "import itertools\n",
    "from datetime import datetime\n",
    "date = datetime.today().strftime('%Y%m%d')\n",
    "from statistics import mean\n",
    "\n",
    "import dabest_jck\n",
    "import plotly.express as px \n",
    "from plotly.subplots import make_subplots\n",
    "import plotly.graph_objects as go\n",
    "from plotly.graph_objects import Layout\n",
    "\n",
    "#NOTE: SUPPRESSES WARNINGS!\n",
    "\n",
    "import warnings\n",
    "\n",
    "\n",
    "warnings.simplefilter(action=\"ignore\", category=RuntimeWarning)\n",
    "warnings.simplefilter(action=\"ignore\", category=UserWarning)\n",
    "warnings.simplefilter(action='ignore', category=pd.errors.PerformanceWarning)\n"
   ]
  },
  {
   "cell_type": "code",
   "execution_count": 2,
   "id": "9b5dfa46-42fe-4f01-b99e-d0273f992f72",
   "metadata": {},
   "outputs": [],
   "source": [
    "#initial file processing\n",
    "computer1 = \"C:\\\\Users\\\\User\"\n",
    "computer2 = \"C:\\\\Users\\\\lnico\"\n",
    "filedir = \"\\\\ACC Lab Dropbox\\\\ACC Lab\\\\Nicole Lee\\\\Data Compilation\\\\Falling_New\\\\\"\n",
    "openPath = computer1 + filedir\n",
    "files = os.listdir(openPath)\n",
    "\n",
    "#identifying genotypes\n",
    "responder = \"Chrimson2\"\n",
    "respondercsv = responder + \".csv\"\n",
    "wt = \"w1118\""
   ]
  },
  {
   "cell_type": "code",
   "execution_count": 3,
   "id": "bdcc176c-6b81-4251-9f21-8c8b53190191",
   "metadata": {},
   "outputs": [],
   "source": [
    "lst=[]\n",
    "\n",
    "\n",
    "for file_no in os.listdir(openPath): \n",
    "    if respondercsv in file_no and \"w1118\" not in file_no :   #wt > acr files\n",
    "        f = os.path.join(openPath, file_no)\n",
    "        dfe=pd.read_csv(f)\n",
    "        exptdf = dfe.drop(dfe.columns[[0]],axis = 1)\n",
    "        driver = file_no.split(\" \")[0]\n",
    "        lst.append(driver)"
   ]
  },
  {
   "cell_type": "markdown",
   "id": "b8e0c8ab",
   "metadata": {},
   "source": [
    "# run if new data"
   ]
  },
  {
   "cell_type": "code",
   "execution_count": 4,
   "id": "3251e7bc",
   "metadata": {},
   "outputs": [],
   "source": [
    "dflists = ['df_bspeed', 'df_speed', 'df_time', 'df_fall','df_height', 'df_displacement', 'df_meanpause', 'df_pause','df_meanbout', 'df_bout','df_boutpos', 'df_pausepos','df_maxvelocity','df_straightindex', 'df_displacementbetweenpause']\n",
    "    \n",
    "dflists2 = [s.replace('df_', 'dfreg_') for s in dflists]\n",
    "\n",
    "for j in dflists2:\n",
    "    globals()[j]=pd.DataFrame()\n",
    "    \n",
    "diff = pd.DataFrame()\n",
    "diffbs = pd.DataFrame()\n",
    "\n",
    "for n in lst:\n",
    "    driver = n\n",
    "    transgenic = driver + \" x \" + responder\n",
    "    filename = openPath + transgenic + \".csv\"\n",
    "    filenamewt = openPath + wt+\"_\"+ transgenic + \".csv\"\n",
    "\n",
    "    dfe=pd.read_csv(filename)\n",
    "    dfw= pd.read_csv(filenamewt)\n",
    "\n",
    "    exptdf = dfe.drop(dfe.columns[[0]],axis = 1)\n",
    "    wtdf = dfw.drop(dfw.columns[[0]],axis = 1)\n",
    "\n",
    "    #adjust this depending on timeframe\n",
    "    dfexpt = NLCLIMB.generation(exptdf, driver)\n",
    "    dfwt = NLCLIMB.generation(wtdf, wt)\n",
    "    \n",
    "    df_sp = NLMATH.ospeed(dfwt, dfexpt).reset_index(drop=True)\n",
    "    df_bsp = NLMATH.bspeed(NLMATH.boutspeed(dfexpt), NLMATH.boutspeed(dfwt)).reset_index(drop=True)\n",
    "    df_t = NLMATH.timetype(dfwt, dfexpt).reset_index(drop=True)\n",
    "    df_f = NLMATH.fallingocc(dfexpt, dfwt).reset_index(drop=True)\n",
    "    df_h = NLMATH.totalheight(dfexpt, dfwt).reset_index(drop=True)\n",
    "    df_d = pd.concat([NLMATH.totaldisp(dfexpt, \"Expt\"), NLMATH.totaldisp(dfwt, \"WT\")]).reset_index(drop=True)\n",
    "    df_bp = NLMATH.bheight(NLMATH.boutheight(dfexpt), NLMATH.boutheight(dfwt)).reset_index(drop=True)\n",
    "    df_pp = NLMATH.bheight(NLMATH.pauseheight(dfexpt), NLMATH.pauseheight(dfwt)).reset_index(drop=True)\n",
    "    \n",
    "    #newadditions\n",
    "    df_dispp = pd.concat([NLMATH.displacementbetweenpauses(dfexpt, \"Expt\"), NLMATH.displacementbetweenpauses(dfwt, \"WT\")], axis = 0).reset_index(drop=False)\n",
    "    df_maxv = pd.concat([NLMATH.maxvelocity(dfexpt, \"Expt\"), NLMATH.maxvelocity(dfwt, \"WT\")], axis = 0).reset_index(drop=False)\n",
    "    df_sim = pd.concat([NLMATH.straightnessindexmeter(dfexpt, \"Expt\"), NLMATH.straightnessindexmeter(dfwt, \"WT\")], axis = 0).reset_index(drop=True)\n",
    "    \n",
    "    #pause and bouts\n",
    "    wttotalmeanevent, wttotalnumberevent = NLMATH.pausecomp(dfwt, wt)\n",
    "    expttotalmeanevent, expttotalnumberevent = NLMATH.pausecomp(dfexpt, driver)\n",
    "        \n",
    "    alltgtmeandf_pause = pd.concat([NLMATH.pausenumber(wttotalmeanevent, n, \"Pauses\"), NLMATH.pausenumber(expttotalmeanevent, n, \"Pauses\")], axis = 0).reset_index(drop=True)\n",
    "    alltgtmeandf_bout = pd.concat([NLMATH.pausenumber(wttotalmeanevent, n, \"Bouts\"), NLMATH.pausenumber(expttotalmeanevent, n, \"Bouts\")], axis = 0).reset_index(drop=True)\n",
    "    \n",
    "    alltgtnumberdf_pause = pd.concat([NLMATH.pausenumber(wttotalnumberevent, n, \"Pauses\"), NLMATH.pausenumber(expttotalnumberevent, n, \"Pauses\")], axis = 0).reset_index(drop=True)\n",
    "    alltgtnumberdf_bout = pd.concat([NLMATH.pausenumber(wttotalnumberevent, n, \"Bouts\"), NLMATH.pausenumber(expttotalnumberevent, n, \"Bouts\")], axis = 0).reset_index(drop=True)\n",
    "            \n",
    "    #deltaG plots\n",
    "    dfs2 = NLMATH.deltaversion(df_sp, n, \"Velocity\")\n",
    "    dft2 = NLMATH.deltaversion(df_t, n, \"Time\")\n",
    "    dff2 = NLMATH.deltaversion(df_f, n, \"Fall\")\n",
    "    dfh2 = NLMATH.deltaversion(df_h, n, \"Y\")\n",
    "    dfd2 = NLMATH.deltaversion(df_d, n, \"displacement\")\n",
    "    dfbs2 = NLMATH.deltaversion(df_bsp, n, \"BSpeed\")\n",
    "    dfbp2 = NLMATH.deltaversion(df_bp, n, \"Height\")\n",
    "    dfpp2 = NLMATH.deltaversion(df_pp, n, \"Height\")\n",
    "    \n",
    "    #new additions\n",
    "    dfdbp2 = NLMATH.deltaversion(df_dispp, n, \"avgdisplacementbetweenpause\")\n",
    "    dfmv2 = NLMATH.deltaversion(df_maxv, n, \"maxvelocity\")\n",
    "    dfsim2 = NLMATH.deltaversion(df_sim, n, \"averagestraightnessindex\")\n",
    "    \n",
    "    #pause and bouts\n",
    "    dfmp2 = NLMATH.deltaversion(alltgtmeandf_pause, n, \"Pauses\")\n",
    "    dfmb2 = NLMATH.deltaversion(alltgtmeandf_bout, n, \"Bouts\")     \n",
    "    dfnp2 = NLMATH.deltaversion(alltgtnumberdf_pause, n, \"Pauses\")\n",
    "    dfnb2 = NLMATH.deltaversion(alltgtnumberdf_bout, n, \"Bouts\")\n",
    "    \n",
    "\n",
    "    #regressiondfs\n",
    "    dfreg_speed = pd.concat([dfreg_speed, dfs2], axis = 0).reset_index(drop=True)\n",
    "    dfreg_time = pd.concat([dfreg_time, dft2], axis = 0).reset_index(drop=True)\n",
    "    dfreg_fall = pd.concat([dfreg_fall, dff2], axis = 0).reset_index(drop=True)\n",
    "    dfreg_height = pd.concat([dfreg_height, dfh2], axis = 0).reset_index(drop=True)\n",
    "    dfreg_displacement = pd.concat([dfreg_displacement, dfd2], axis = 0).reset_index(drop=True)\n",
    "    dfreg_bspeed = pd.concat([dfreg_bspeed, dfbs2], axis = 0).reset_index(drop=True)\n",
    "    dfreg_boutpos = pd.concat([dfreg_boutpos, dfbp2], axis = 0).reset_index(drop=True)\n",
    "    dfreg_pausepos = pd.concat([dfreg_pausepos, dfpp2], axis = 0).reset_index(drop=True)\n",
    "    \n",
    "    dfreg_pause = pd.concat([dfreg_pause, dfnp2], axis = 0).reset_index(drop=True)\n",
    "    dfreg_meanpause = pd.concat([dfreg_meanpause, dfmp2], axis = 0).reset_index(drop=True)\n",
    "    dfreg_bout = pd.concat([dfreg_bout, dfnb2], axis = 0).reset_index(drop=True)\n",
    "    dfreg_meanbout = pd.concat([dfreg_meanbout, dfmb2], axis = 0).reset_index(drop=True)\n",
    "    \n",
    "    dfreg_displacementbetweenpause = pd.concat([dfreg_displacementbetweenpause, dfdbp2], axis = 0).reset_index(drop=True)\n",
    "    dfreg_maxvelocity = pd.concat([dfreg_maxvelocity, dfmv2], axis = 0).reset_index(drop=True)\n",
    "    dfreg_straightindex = pd.concat([dfreg_straightindex, dfsim2], axis = 0).reset_index(drop=True)\n",
    "    \n",
    "    #arranging based on SPEED values\n",
    "    \n",
    "    df6 = df_sp[(df_sp['ExperimentState'] != \"Recovery\") ]       \n",
    "    name = []\n",
    "    if any(df6[\"Velocity\"].isnull()):\n",
    "        name = df6[df6[\"Velocity\"].isnull()]['index'].tolist()\n",
    "    dfsp_db = df6[~df6['index'].isin(name)]\n",
    "        \n",
    "    dfsp_db2 = dabest_jck.load(data = dfsp_db, x = [\"ExperimentState\", \"Type\"], y = \"Velocity\",  delta2 = True, experiment = \"Type\",\n",
    "                            experiment_label = ['WT', 'Expt'], x1_level = [\"Dark\", \"Full\"], paired = \"baseline\", id_col=\"index\" ) #if delta2 = dabest; deltaG = dabest_jck\n",
    "    dfstatstest = dfsp_db2.delta_g.statistical_tests      \n",
    "    diff2[\"delta_g\"] = round(dfsp_db2.delta_g.delta_delta.difference,3)\n",
    "    diff2 = diff2.set_index(n)\n",
    "    diff = pd.concat([diff, diff2], axis =1)"
   ]
  },
  {
   "cell_type": "code",
   "execution_count": 16,
   "id": "8b70435f",
   "metadata": {},
   "outputs": [],
   "source": [
    "#special instance\n",
    "# diff = diff.set_axis(pd.MultiIndex.from_arrays([diff.columns,\n",
    "#                                         diff.groupby(level=0, axis=1).cumcount()\n",
    "#                                        ]), axis=1)\n",
    "\n",
    "# diff = diff.stack(level = 1)\n",
    "\n",
    "# diff = diff.droplevel(1)\n",
    "\n",
    "# #SPEED: sorting lists, arranging in ascending order\n",
    "\n",
    "diff_sorted=diff.sort_values(by = \"delta_g\", ascending=True)\n",
    "sortedindex = diff_sorted.index.tolist()\n",
    "dblist= pd.DataFrame() \n",
    "dblist['MBON'] = sortedindex"
   ]
  },
  {
   "cell_type": "code",
   "execution_count": 17,
   "id": "1714d572",
   "metadata": {},
   "outputs": [],
   "source": [
    "def get_df_name(df):\n",
    "    name =[x for x in globals() if globals()[x] is df][0]\n",
    "    return name"
   ]
  },
  {
   "cell_type": "code",
   "execution_count": 18,
   "id": "10443a2d",
   "metadata": {},
   "outputs": [],
   "source": [
    "df2list = [eval(xi) for xi in dflists2]\n",
    "\n",
    "for nn in df2list:\n",
    "\n",
    "    nn.set_index(\"MBON\", inplace = True)\n",
    "    # nn.MBON = pd.Categorical(nn.MBON, categories=dblist)\n",
    "    # mm = nn.sort_values('MBON').reset_index(drop=True)\n",
    "    nn.to_csv(openPath + \"Compilation with delta\\\\\" + responder + \" \" + get_df_name(nn) + \" .csv\")\n",
    "\n",
    "pdlist = pd.DataFrame(dblist)\n",
    "pdlist.to_csv(openPath + \"Compilation with delta\\\\\" + responder + \" \" + \"dblist .csv\")"
   ]
  },
  {
   "cell_type": "markdown",
   "id": "660d3646",
   "metadata": {},
   "source": [
    "# run if old files"
   ]
  },
  {
   "cell_type": "code",
   "execution_count": 11,
   "id": "ce4c31ea",
   "metadata": {},
   "outputs": [],
   "source": [
    "newfile = openPath + \"Compilation with delta\\\\\"\n",
    "files = os.listdir(newfile)\n",
    "\n",
    "for y in files:\n",
    "    if responder in y:\n",
    "        name = y.split(\" \")[1]\n",
    "        newfileread = pd.read_csv(newfile + y)\n",
    "        globals()[name] = (newfileread.set_index(\"MBON\"))"
   ]
  },
  {
   "cell_type": "markdown",
   "id": "9f636b38",
   "metadata": {},
   "source": [
    "# heatmap version"
   ]
  },
  {
   "cell_type": "code",
   "execution_count": 15,
   "id": "2100d179",
   "metadata": {},
   "outputs": [],
   "source": [
    "#delta g only\n",
    "\n",
    "import scikits.bootstrap as skb\n",
    "dfreg2 = pd.DataFrame()\n",
    "for n in list(dblist.index):\n",
    "    dfreg = pd.DataFrame()\n",
    "    dfreg[\"Bout\\n speed\"] = dfreg_bspeed[dfreg_bspeed.index == n]['delta_g']\n",
    "    dfreg[\"Speed\"] = dfreg_speed[dfreg_speed.index == n]['delta_g']\n",
    "    dfreg[\"Fall #\"] = dfreg_fall[dfreg_fall.index == n]['delta_g']\n",
    "    dfreg[\"Height\"] = dfreg_height[dfreg_height.index == n]['delta_g']\n",
    "    dfreg[\"Time \\n to reach 3/4 chamber\"] = dfreg_time[dfreg_time.index == n]['delta_g']\n",
    "    dfreg[\"Mean\\n Pause\"] = dfreg_meanpause[dfreg_meanpause.index == n]['delta_g']\n",
    "    dfreg[\"Pause #\"] = dfreg_pause[dfreg_pause.index == n]['delta_g']\n",
    "    dfreg[\"Mean\\n Bout\"] = dfreg_meanbout[dfreg_meanbout.index == n]['delta_g']\n",
    "    dfreg[\"Bout #\"] = dfreg_bout[dfreg_bout.index == n]['delta_g']\n",
    "    dfreg[\"Bout\\n position\"] = dfreg_boutpos[dfreg_boutpos.index == n]['delta_g']\n",
    "    dfreg[\"Pause\\n position\"] = dfreg_pausepos[dfreg_pausepos.index == n]['delta_g']\n",
    "    #new features\n",
    "    dfreg[\"Max\\n velocity\"] = dfreg_maxvelocity[dfreg_maxvelocity.index == n]['delta_g']\n",
    "    dfreg[\"Avg Straightness\\n index\"] = dfreg_straightindex[dfreg_straightindex.index == n]['delta_g']\n",
    "    dfreg[\"displacement\\n between\\n pause\"] = dfreg_displacementbetweenpause[dfreg_displacementbetweenpause.index == n]['delta_g']\n",
    "    dfreg['MBON'] = n\n",
    "    dfreg2 = pd.concat([dfreg2, dfreg], axis = 0).reset_index(drop=True)"
   ]
  },
  {
   "cell_type": "code",
   "execution_count": 20,
   "id": "0934f23f",
   "metadata": {},
   "outputs": [
    {
     "data": {
      "image/png": "[encoded data removed]",
      "text/plain": [
       "<Figure size 1200x600 with 2 Axes>"
      ]
     },
     "metadata": {},
     "output_type": "display_data"
    }
   ],
   "source": [
    "df5 = dfreg2.set_index(['MBON'])\n",
    "fig, ax1 = plt.subplots(figsize=(12, 6))                \n",
    "g1 = sns.heatmap(df5, annot=True, fmt=\".1f\", vmin = -1.5, vmax = 1.5, cmap='coolwarm', linewidths=0.5, linecolor='black', clip_on=False)\n",
    "g1.set_ylabel('')\n",
    "g1.set_yticklabels(g1.get_yticklabels(), rotation = 0, fontsize = 9)\n",
    "g1.set_xticklabels(g1.get_xticklabels(), rotation = 0, fontsize = 9)\n",
    "ax1.set_title('Plot of MBONs > ' + responder + ' and their delta-g across locomotor reactivity parameters')\n",
    "fig.tight_layout()\n",
    "plt.savefig(openPath + \"images\\\\deltagheatmap_\" + responder + \"_\" + date + \".png\", dpi = 1200)"
   ]
  },
  {
   "cell_type": "code",
   "execution_count": 21,
   "id": "ff728022",
   "metadata": {},
   "outputs": [],
   "source": [
    "#delta and delta g heatmap\n",
    "# \n",
    "dfreglist = [dfreg_bspeed, dfreg_speed, dfreg_fall,dfreg_height, dfreg_meanpause, dfreg_pause,dfreg_meanbout, dfreg_bout,dfreg_boutpos, dfreg_pausepos,dfreg_maxvelocity,dfreg_straightindex, dfreg_displacementbetweenpause]\n",
    "totalregdf = pd.DataFrame()\n",
    "\n",
    "for n,k in zip(dfreg2.columns, dfreglist):\n",
    "    k.columns = pd.MultiIndex.from_product([[n], k.columns.tolist()])\n",
    "    totalregdf = pd.concat([totalregdf, k], axis =1)\n"
   ]
  },
  {
   "cell_type": "code",
   "execution_count": 27,
   "id": "cdc9e3b8",
   "metadata": {},
   "outputs": [
    {
     "data": {
      "application/vnd.plotly.v1+json": {
       "config": {
        "plotlyServerURL": "https://plot.ly"
       },
       "data": [
        {
         "coloraxis": "coloraxis",
         "hovertemplate": "x: %{x}<br>MBON: %{y}<br>color: %{z}<extra></extra>",
         "name": "0",
         "texttemplate": "%{z}",
         "type": "heatmap",
         "x": [
          "WT",
          "Expt",
          "delta_g"
         ],
         "xaxis": "x",
         "y": [
          "MB011B",
          "MB018B",
          "MB027B",
          "MB057B",
          "MB077B",
          "MB080C",
          "MB082C",
          "MB083C",
          "MB093C",
          "MB112C",
          "MB210B",
          "MB242A",
          "MB310C",
          "MB323B",
          "MB434B",
          "R76B09",
          "SS01127",
          "SS01337",
          "SS01388",
          "SS67662",
          "SS67741",
          "SS75199",
          "SS77450",
          "SS81353",
          "SS81521",
          "VT999036"
         ],
         "yaxis": "y",
         "z": [
          [
           0,
           -0.1,
           -0.1
          ],
          [
           0.1,
           0.2,
           0.1
          ],
          [
           0,
           0,
           0
          ],
          [
           0,
           0.3,
           0.3
          ],
          [
           0.2,
           -0.3,
           -0.5
          ],
          [
           0,
           0.2,
           0.2
          ],
          [
           0,
           -0.3,
           -0.2
          ],
          [
           0,
           -0.2,
           -0.2
          ],
          [
           0,
           -0.8,
           -0.7
          ],
          [
           0.3,
           0,
           -0.3
          ],
          [
           0.1,
           0.6,
           0.5
          ],
          [
           0.3,
           0.1,
           -0.2
          ],
          [
           0.1,
           0.3,
           0.2
          ],
          [
           0,
           0,
           0
          ],
          [
           0.2,
           0.1,
           -0.1
          ],
          [
           -0.1,
           0.4,
           0.5
          ],
          [
           0,
           -0.2,
           -0.1
          ],
          [
           -0.2,
           -0.3,
           -0.1
          ],
          [
           0.1,
           -0.2,
           -0.2
          ],
          [
           0,
           -0.3,
           -0.3
          ],
          [
           -0.1,
           -0.1,
           -0.2
          ],
          [
           0,
           0.2,
           0.1
          ],
          [
           0.1,
           -0.1,
           -0.2
          ],
          [
           -0.2,
           -0.3,
           0
          ],
          [
           -0.1,
           -0.1,
           0
          ],
          [
           0.1,
           -0.5,
           -0.5
          ]
         ]
        },
        {
         "coloraxis": "coloraxis",
         "hovertemplate": "x: %{x}<br>MBON: %{y}<br>color: %{z}<extra></extra>",
         "name": "0",
         "texttemplate": "%{z}",
         "type": "heatmap",
         "x": [
          "WT",
          "Expt",
          "delta_g"
         ],
         "xaxis": "x2",
         "y": [
          "MB011B",
          "MB018B",
          "MB027B",
          "MB057B",
          "MB077B",
          "MB080C",
          "MB082C",
          "MB083C",
          "MB093C",
          "MB112C",
          "MB210B",
          "MB242A",
          "MB310C",
          "MB323B",
          "MB434B",
          "R76B09",
          "SS01127",
          "SS01337",
          "SS01388",
          "SS67662",
          "SS67741",
          "SS75199",
          "SS77450",
          "SS81353",
          "SS81521",
          "VT999036"
         ],
         "yaxis": "y2",
         "z": [
          [
           0.2,
           0.1,
           -0.1
          ],
          [
           0.3,
           0.1,
           -0.3
          ],
          [
           0.3,
           -0.4,
           -0.5
          ],
          [
           0.1,
           0.3,
           0.2
          ],
          [
           0.3,
           -0.3,
           -0.6
          ],
          [
           0,
           0.2,
           0.1
          ],
          [
           0,
           -0.1,
           -0.1
          ],
          [
           0.1,
           0,
           -0.1
          ],
          [
           0.1,
           -0.5,
           -0.5
          ],
          [
           0.3,
           0,
           -0.3
          ],
          [
           0.1,
           -0.5,
           -0.5
          ],
          [
           0.1,
           -0.4,
           -0.3
          ],
          [
           0.1,
           -0.5,
           -0.4
          ],
          [
           0.1,
           -1.5,
           -1
          ],
          [
           0.1,
           -0.1,
           -0.2
          ],
          [
           0.2,
           -0.3,
           -0.4
          ],
          [
           0,
           0.6,
           0.3
          ],
          [
           0,
           -0.2,
           -0.1
          ],
          [
           0.2,
           0,
           -0.2
          ],
          [
           0.1,
           0.3,
           0.2
          ],
          [
           0.1,
           0.2,
           0.2
          ],
          [
           0.3,
           0.2,
           -0.2
          ],
          [
           0.2,
           -0.3,
           -0.4
          ],
          [
           0.2,
           -1.2,
           -0.9
          ],
          [
           0.3,
           -1.3,
           -1
          ],
          [
           0.3,
           -1.6,
           -1.5
          ]
         ]
        },
        {
         "coloraxis": "coloraxis",
         "hovertemplate": "x: %{x}<br>MBON: %{y}<br>color: %{z}<extra></extra>",
         "name": "0",
         "texttemplate": "%{z}",
         "type": "heatmap",
         "x": [
          "WT",
          "Expt",
          "delta_g"
         ],
         "xaxis": "x3",
         "y": [
          "MB011B",
          "MB018B",
          "MB027B",
          "MB057B",
          "MB077B",
          "MB080C",
          "MB082C",
          "MB083C",
          "MB093C",
          "MB112C",
          "MB210B",
          "MB242A",
          "MB310C",
          "MB323B",
          "MB434B",
          "R76B09",
          "SS01127",
          "SS01337",
          "SS01388",
          "SS67662",
          "SS67741",
          "SS75199",
          "SS77450",
          "SS81353",
          "SS81521",
          "VT999036"
         ],
         "yaxis": "y3",
         "z": [
          [
           -0.2,
           -0.1,
           0
          ],
          [
           -0.1,
           -0.5,
           -0.2
          ],
          [
           0.1,
           0,
           -0.1
          ],
          [
           0,
           0.2,
           0.2
          ],
          [
           0.2,
           -0.4,
           -0.7
          ],
          [
           -0.1,
           -0.1,
           0
          ],
          [
           -0.2,
           -0.7,
           0
          ],
          [
           0,
           -0.2,
           -0.2
          ],
          [
           0.1,
           0.5,
           0.2
          ],
          [
           0.2,
           -0.2,
           -0.3
          ],
          [
           0.1,
           0,
           -0.1
          ],
          [
           0.1,
           0,
           -0.1
          ],
          [
           0.1,
           -0.2,
           -0.3
          ],
          [
           -0.2,
           -0.2,
           0.1
          ],
          [
           0.2,
           0.2,
           -0.1
          ],
          [
           -0.1,
           -0.3,
           -0.2
          ],
          [
           -0.1,
           -0.1,
           0
          ],
          [
           0.1,
           -0.3,
           -0.4
          ],
          [
           -0.1,
           0.1,
           0.2
          ],
          [
           -0.2,
           0,
           0.2
          ],
          [
           -0.2,
           0.1,
           0.4
          ],
          [
           -0.2,
           0.1,
           0.3
          ],
          [
           0.1,
           -0.1,
           -0.1
          ],
          [
           0,
           -0.1,
           -0.1
          ],
          [
           -0.1,
           -1.4,
           -0.6
          ],
          [
           0.2,
           0.3,
           0
          ]
         ]
        },
        {
         "coloraxis": "coloraxis",
         "hovertemplate": "x: %{x}<br>MBON: %{y}<br>color: %{z}<extra></extra>",
         "name": "0",
         "texttemplate": "%{z}",
         "type": "heatmap",
         "x": [
          "WT",
          "Expt",
          "delta_g"
         ],
         "xaxis": "x4",
         "y": [
          "MB011B",
          "MB018B",
          "MB027B",
          "MB057B",
          "MB077B",
          "MB080C",
          "MB082C",
          "MB083C",
          "MB093C",
          "MB112C",
          "MB210B",
          "MB242A",
          "MB310C",
          "MB323B",
          "MB434B",
          "R76B09",
          "SS01127",
          "SS01337",
          "SS01388",
          "SS67662",
          "SS67741",
          "SS75199",
          "SS77450",
          "SS81353",
          "SS81521",
          "VT999036"
         ],
         "yaxis": "y4",
         "z": [
          [
           -0.5,
           -0.4,
           0.2
          ],
          [
           -0.7,
           -0.4,
           0.2
          ],
          [
           -0.3,
           -0.5,
           -0.2
          ],
          [
           -0.4,
           0.1,
           0.5
          ],
          [
           -0.5,
           0.1,
           0.6
          ],
          [
           -0.5,
           -0.3,
           0.2
          ],
          [
           -0.4,
           -0.5,
           -0.1
          ],
          [
           -0.6,
           -0.3,
           0.3
          ],
          [
           -0.6,
           -1.1,
           -0.8
          ],
          [
           -0.5,
           -0.2,
           0.3
          ],
          [
           -0.5,
           -0.4,
           0
          ],
          [
           -0.5,
           -0.8,
           -0.4
          ],
          [
           -0.5,
           -0.7,
           -0.3
          ],
          [
           -0.4,
           -1.7,
           -1.4
          ],
          [
           -0.5,
           -0.5,
           -0.2
          ],
          [
           -0.4,
           -0.2,
           0.2
          ],
          [
           -0.4,
           -0.3,
           0.2
          ],
          [
           -0.7,
           -0.2,
           0.4
          ],
          [
           -0.4,
           -0.8,
           -0.5
          ],
          [
           -0.2,
           -0.8,
           -0.7
          ],
          [
           -0.7,
           -0.3,
           0.4
          ],
          [
           -0.6,
           0.2,
           0.8
          ],
          [
           -0.5,
           -0.6,
           -0.3
          ],
          [
           -0.6,
           -2.1,
           -1.7
          ],
          [
           -0.6,
           -1.9,
           -1.3
          ],
          [
           -0.5,
           -0.7,
           -0.3
          ]
         ]
        },
        {
         "coloraxis": "coloraxis",
         "hovertemplate": "x: %{x}<br>MBON: %{y}<br>color: %{z}<extra></extra>",
         "name": "0",
         "texttemplate": "%{z}",
         "type": "heatmap",
         "x": [
          "WT",
          "Expt",
          "delta_g"
         ],
         "xaxis": "x5",
         "y": [
          "MB011B",
          "MB018B",
          "MB027B",
          "MB057B",
          "MB077B",
          "MB080C",
          "MB082C",
          "MB083C",
          "MB093C",
          "MB112C",
          "MB210B",
          "MB242A",
          "MB310C",
          "MB323B",
          "MB434B",
          "R76B09",
          "SS01127",
          "SS01337",
          "SS01388",
          "SS67662",
          "SS67741",
          "SS75199",
          "SS77450",
          "SS81353",
          "SS81521",
          "VT999036"
         ],
         "yaxis": "y5",
         "z": [
          [
           -0.2,
           -0.2,
           0.1
          ],
          [
           -0.2,
           0.4,
           0.6
          ],
          [
           -0.4,
           0.2,
           0.6
          ],
          [
           -0.2,
           0,
           0.2
          ],
          [
           -0.2,
           0.1,
           0.3
          ],
          [
           -0.1,
           -0.1,
           0
          ],
          [
           0.1,
           0,
           -0.1
          ],
          [
           0,
           0,
           0
          ],
          [
           -0.1,
           -0.4,
           -0.3
          ],
          [
           -0.2,
           0,
           0.2
          ],
          [
           -0.2,
           0.5,
           0.7
          ],
          [
           0,
           0.7,
           1
          ],
          [
           -0.1,
           0.5,
           0.8
          ],
          [
           0,
           0.7,
           1.1
          ],
          [
           -0.2,
           0.1,
           0.3
          ],
          [
           -0.2,
           0.7,
           0.7
          ],
          [
           0,
           -0.8,
           -0.6
          ],
          [
           -0.1,
           0,
           0.1
          ],
          [
           -0.1,
           0.2,
           0.3
          ],
          [
           -0.1,
           -0.2,
           -0.1
          ],
          [
           -0.1,
           -0.3,
           0
          ],
          [
           -0.2,
           -0.2,
           -0.1
          ],
          [
           -0.3,
           -0.1,
           0.2
          ],
          [
           -0.3,
           0.9,
           1.6
          ],
          [
           -0.2,
           0.7,
           1.4
          ],
          [
           -0.4,
           0.7,
           0.9
          ]
         ]
        },
        {
         "coloraxis": "coloraxis",
         "hovertemplate": "x: %{x}<br>MBON: %{y}<br>color: %{z}<extra></extra>",
         "name": "0",
         "texttemplate": "%{z}",
         "type": "heatmap",
         "x": [
          "WT",
          "Expt",
          "delta_g"
         ],
         "xaxis": "x6",
         "y": [
          "MB011B",
          "MB018B",
          "MB027B",
          "MB057B",
          "MB077B",
          "MB080C",
          "MB082C",
          "MB083C",
          "MB093C",
          "MB112C",
          "MB210B",
          "MB242A",
          "MB310C",
          "MB323B",
          "MB434B",
          "R76B09",
          "SS01127",
          "SS01337",
          "SS01388",
          "SS67662",
          "SS67741",
          "SS75199",
          "SS77450",
          "SS81353",
          "SS81521",
          "VT999036"
         ],
         "yaxis": "y6",
         "z": [
          [
           0.1,
           -0.2,
           -0.3
          ],
          [
           -0.1,
           -0.6,
           -0.6
          ],
          [
           0.3,
           0,
           -0.3
          ],
          [
           0.2,
           0.1,
           -0.1
          ],
          [
           0,
           0,
           -0.1
          ],
          [
           0.1,
           -0.2,
           -0.3
          ],
          [
           -0.1,
           0.1,
           0.3
          ],
          [
           -0.2,
           0,
           0.2
          ],
          [
           0.2,
           0.9,
           0.6
          ],
          [
           0.1,
           0,
           0
          ],
          [
           0.2,
           -0.4,
           -0.6
          ],
          [
           0.1,
           -0.5,
           -0.5
          ],
          [
           0.1,
           -0.4,
           -0.5
          ],
          [
           -0.2,
           -0.4,
           -0.3
          ],
          [
           0.3,
           0,
           -0.3
          ],
          [
           -0.1,
           -0.7,
           -0.5
          ],
          [
           -0.1,
           0.8,
           0.8
          ],
          [
           0.4,
           -0.1,
           -0.5
          ],
          [
           0,
           0.3,
           0.3
          ],
          [
           0,
           0.4,
           0.4
          ],
          [
           -0.2,
           0.2,
           0.4
          ],
          [
           -0.1,
           0.5,
           0.6
          ],
          [
           0,
           0.3,
           0.3
          ],
          [
           0,
           -0.6,
           -0.6
          ],
          [
           -0.1,
           -0.3,
           -0.3
          ],
          [
           0.3,
           0.6,
           0.4
          ]
         ]
        },
        {
         "coloraxis": "coloraxis",
         "hovertemplate": "x: %{x}<br>MBON: %{y}<br>color: %{z}<extra></extra>",
         "name": "0",
         "texttemplate": "%{z}",
         "type": "heatmap",
         "x": [
          "WT",
          "Expt",
          "delta_g"
         ],
         "xaxis": "x7",
         "y": [
          "MB011B",
          "MB018B",
          "MB027B",
          "MB057B",
          "MB077B",
          "MB080C",
          "MB082C",
          "MB083C",
          "MB093C",
          "MB112C",
          "MB210B",
          "MB242A",
          "MB310C",
          "MB323B",
          "MB434B",
          "R76B09",
          "SS01127",
          "SS01337",
          "SS01388",
          "SS67662",
          "SS67741",
          "SS75199",
          "SS77450",
          "SS81353",
          "SS81521",
          "VT999036"
         ],
         "yaxis": "y7",
         "z": [
          [
           0,
           0.4,
           0.1
          ],
          [
           0.1,
           0.5,
           0.2
          ],
          [
           0,
           -0.5,
           -0.3
          ],
          [
           -0.2,
           0,
           0.2
          ],
          [
           -0.1,
           0,
           0.1
          ],
          [
           -0.2,
           0.2,
           0.3
          ],
          [
           0,
           -0.3,
           -0.3
          ],
          [
           0,
           0,
           0
          ],
          [
           -0.2,
           -0.7,
           -0.5
          ],
          [
           0,
           0,
           0
          ],
          [
           -0.2,
           -0.4,
           -0.6
          ],
          [
           -0.2,
           0,
           0.2
          ],
          [
           -0.1,
           -0.3,
           -0.1
          ],
          [
           0.1,
           -1.6,
           -1
          ],
          [
           -0.3,
           -0.5,
           -0.1
          ],
          [
           0.1,
           -0.1,
           -0.2
          ],
          [
           0.1,
           -0.2,
           -0.3
          ],
          [
           -0.2,
           0.1,
           0.3
          ],
          [
           0,
           -0.1,
           -0.1
          ],
          [
           0.1,
           -0.3,
           -0.4
          ],
          [
           0.2,
           -0.5,
           -1.3
          ],
          [
           0.1,
           -0.3,
           -0.4
          ],
          [
           0.1,
           -0.6,
           -0.7
          ],
          [
           0.1,
           -1.1,
           -0.7
          ],
          [
           0.3,
           -1.3,
           -0.9
          ],
          [
           -0.1,
           -1.7,
           -1.1
          ]
         ]
        },
        {
         "coloraxis": "coloraxis",
         "hovertemplate": "x: %{x}<br>MBON: %{y}<br>color: %{z}<extra></extra>",
         "name": "0",
         "texttemplate": "%{z}",
         "type": "heatmap",
         "x": [
          "WT",
          "Expt",
          "delta_g"
         ],
         "xaxis": "x8",
         "y": [
          "MB011B",
          "MB018B",
          "MB027B",
          "MB057B",
          "MB077B",
          "MB080C",
          "MB082C",
          "MB083C",
          "MB093C",
          "MB112C",
          "MB210B",
          "MB242A",
          "MB310C",
          "MB323B",
          "MB434B",
          "R76B09",
          "SS01127",
          "SS01337",
          "SS01388",
          "SS67662",
          "SS67741",
          "SS75199",
          "SS77450",
          "SS81353",
          "SS81521",
          "VT999036"
         ],
         "yaxis": "y8",
         "z": [
          [
           0.1,
           -0.2,
           -0.3
          ],
          [
           -0.1,
           -0.7,
           -0.6
          ],
          [
           0.3,
           0,
           -0.3
          ],
          [
           0.2,
           0.1,
           -0.1
          ],
          [
           0,
           0,
           -0.1
          ],
          [
           0.1,
           -0.2,
           -0.2
          ],
          [
           -0.2,
           0.2,
           0.4
          ],
          [
           -0.3,
           0,
           0.3
          ],
          [
           0.2,
           0.9,
           0.7
          ],
          [
           0,
           0,
           0
          ],
          [
           0.1,
           -0.4,
           -0.5
          ],
          [
           0.1,
           -0.5,
           -0.6
          ],
          [
           0,
           -0.5,
           -0.5
          ],
          [
           -0.2,
           -0.5,
           -0.3
          ],
          [
           0.2,
           0,
           -0.2
          ],
          [
           0,
           -0.7,
           -0.6
          ],
          [
           -0.1,
           0.8,
           0.9
          ],
          [
           0.3,
           -0.2,
           -0.5
          ],
          [
           0,
           0.3,
           0.4
          ],
          [
           0,
           0.5,
           0.5
          ],
          [
           -0.2,
           0.2,
           0.4
          ],
          [
           -0.1,
           0.4,
           0.5
          ],
          [
           0,
           0.3,
           0.3
          ],
          [
           0,
           -0.6,
           -0.7
          ],
          [
           -0.1,
           -0.5,
           -0.4
          ],
          [
           0.2,
           0.5,
           0.3
          ]
         ]
        },
        {
         "coloraxis": "coloraxis",
         "hovertemplate": "x: %{x}<br>MBON: %{y}<br>color: %{z}<extra></extra>",
         "name": "0",
         "texttemplate": "%{z}",
         "type": "heatmap",
         "x": [
          "WT",
          "Expt",
          "delta_g"
         ],
         "xaxis": "x9",
         "y": [
          "MB011B",
          "MB018B",
          "MB027B",
          "MB057B",
          "MB077B",
          "MB080C",
          "MB082C",
          "MB083C",
          "MB093C",
          "MB112C",
          "MB210B",
          "MB242A",
          "MB310C",
          "MB323B",
          "MB434B",
          "R76B09",
          "SS01127",
          "SS01337",
          "SS01388",
          "SS67662",
          "SS67741",
          "SS75199",
          "SS77450",
          "SS81353",
          "SS81521",
          "VT999036"
         ],
         "yaxis": "y9",
         "z": [
          [
           -0.2,
           -0.3,
           -0.1
          ],
          [
           -0.5,
           -0.5,
           -0.2
          ],
          [
           -0.1,
           -0.5,
           -0.4
          ],
          [
           -0.2,
           0.2,
           0.5
          ],
          [
           -0.3,
           0.1,
           0.4
          ],
          [
           -0.3,
           -0.2,
           0.1
          ],
          [
           -0.3,
           -0.3,
           0
          ],
          [
           -0.5,
           -0.2,
           0.3
          ],
          [
           -0.4,
           -0.9,
           -0.8
          ],
          [
           -0.4,
           -0.2,
           0.1
          ],
          [
           -0.4,
           -0.7,
           -0.6
          ],
          [
           -0.5,
           -0.8,
           -0.5
          ],
          [
           -0.4,
           -0.8,
           -0.5
          ],
          [
           -0.3,
           -1.7,
           -1.6
          ],
          [
           -0.4,
           -0.3,
           0
          ],
          [
           -0.2,
           -0.2,
           0
          ],
          [
           -0.3,
           0,
           0.3
          ],
          [
           -0.3,
           -0.2,
           0.1
          ],
          [
           -0.2,
           -0.4,
           -0.3
          ],
          [
           -0.1,
           -0.4,
           -0.4
          ],
          [
           -0.5,
           -0.1,
           0.4
          ],
          [
           -0.3,
           0.2,
           0.5
          ],
          [
           -0.4,
           -0.3,
           0
          ],
          [
           -0.3,
           -1.8,
           -1.7
          ],
          [
           -0.4,
           -1.7,
           -1.4
          ],
          [
           -0.3,
           -0.9,
           -0.7
          ]
         ]
        },
        {
         "coloraxis": "coloraxis",
         "hovertemplate": "x: %{x}<br>MBON: %{y}<br>color: %{z}<extra></extra>",
         "name": "0",
         "texttemplate": "%{z}",
         "type": "heatmap",
         "x": [
          "WT",
          "Expt",
          "delta_g"
         ],
         "xaxis": "x10",
         "y": [
          "MB011B",
          "MB018B",
          "MB027B",
          "MB057B",
          "MB077B",
          "MB080C",
          "MB082C",
          "MB083C",
          "MB093C",
          "MB112C",
          "MB210B",
          "MB242A",
          "MB310C",
          "MB323B",
          "MB434B",
          "R76B09",
          "SS01127",
          "SS01337",
          "SS01388",
          "SS67662",
          "SS67741",
          "SS75199",
          "SS77450",
          "SS81353",
          "SS81521",
          "VT999036"
         ],
         "yaxis": "y10",
         "z": [
          [
           -0.8,
           -0.4,
           0.4
          ],
          [
           -0.7,
           -0.4,
           0.3
          ],
          [
           -0.4,
           -0.6,
           -0.2
          ],
          [
           -0.5,
           -0.1,
           0.4
          ],
          [
           -0.7,
           0,
           0.7
          ],
          [
           -0.7,
           -0.4,
           0.3
          ],
          [
           -0.5,
           -0.5,
           0
          ],
          [
           -0.7,
           -0.3,
           0.4
          ],
          [
           -0.6,
           -1,
           -0.6
          ],
          [
           -0.6,
           -0.2,
           0.3
          ],
          [
           -0.6,
           -0.5,
           0
          ],
          [
           -0.6,
           -0.9,
           -0.5
          ],
          [
           -0.6,
           -0.8,
           -0.2
          ],
          [
           -0.5,
           -1.8,
           -1.3
          ],
          [
           -0.6,
           -0.6,
           -0.3
          ],
          [
           -0.5,
           -0.4,
           0.2
          ],
          [
           -0.5,
           -0.2,
           0.5
          ],
          [
           -0.8,
           -0.2,
           0.5
          ],
          [
           -0.5,
           -0.9,
           -0.5
          ],
          [
           -0.3,
           -0.9,
           -0.7
          ],
          [
           -0.8,
           -0.5,
           0.2
          ],
          [
           -0.7,
           0.1,
           0.8
          ],
          [
           -0.5,
           -0.7,
           -0.3
          ],
          [
           -0.7,
           -2.3,
           -1.6
          ],
          [
           -0.7,
           -2.1,
           -1.4
          ],
          [
           -0.6,
           -1,
           -0.5
          ]
         ]
        },
        {
         "coloraxis": "coloraxis",
         "hovertemplate": "x: %{x}<br>MBON: %{y}<br>color: %{z}<extra></extra>",
         "name": "0",
         "texttemplate": "%{z}",
         "type": "heatmap",
         "x": [
          "WT",
          "Expt",
          "delta_g"
         ],
         "xaxis": "x11",
         "y": [
          "MB011B",
          "MB018B",
          "MB027B",
          "MB057B",
          "MB077B",
          "MB080C",
          "MB082C",
          "MB083C",
          "MB093C",
          "MB112C",
          "MB210B",
          "MB242A",
          "MB310C",
          "MB323B",
          "MB434B",
          "R76B09",
          "SS01127",
          "SS01337",
          "SS01388",
          "SS67662",
          "SS67741",
          "SS75199",
          "SS77450",
          "SS81353",
          "SS81521",
          "VT999036"
         ],
         "yaxis": "y11",
         "z": [
          [
           0.9,
           1.1,
           0.8
          ],
          [
           0.8,
           1,
           0
          ],
          [
           1.2,
           1.4,
           -0.1
          ],
          [
           0.8,
           0.8,
           0
          ],
          [
           1,
           0.1,
           -0.9
          ],
          [
           0.9,
           0.7,
           0.4
          ],
          [
           1,
           0.8,
           -0.5
          ],
          [
           0.9,
           1.2,
           0.4
          ],
          [
           0.9,
           1.6,
           0.1
          ],
          [
           1,
           1.3,
           -0.4
          ],
          [
           1.1,
           1,
           -0.3
          ],
          [
           0.7,
           1,
           -0.5
          ],
          [
           1,
           1,
           -0.7
          ],
          [
           0.9,
           0.8,
           -0.2
          ],
          [
           0.8,
           0.7,
           -0.4
          ],
          [
           0.8,
           1.3,
           0.4
          ],
          [
           0.6,
           1,
           -0.2
          ],
          [
           0.5,
           0.2,
           -0.1
          ],
          [
           1.1,
           0.8,
           -0.2
          ],
          [
           1.1,
           1.2,
           0.1
          ],
          [
           0.5,
           0.5,
           -0.1
          ],
          [
           0.8,
           0.9,
           -0.2
          ],
          [
           0.5,
           0.7,
           -0.3
          ],
          [
           0.8,
           0.1,
           -0.9
          ],
          [
           0.6,
           0.5,
           -0.3
          ],
          [
           1.1,
           1.5,
           0.1
          ]
         ]
        },
        {
         "coloraxis": "coloraxis",
         "hovertemplate": "x: %{x}<br>MBON: %{y}<br>color: %{z}<extra></extra>",
         "name": "0",
         "texttemplate": "%{z}",
         "type": "heatmap",
         "x": [
          "WT",
          "Expt",
          "delta_g"
         ],
         "xaxis": "x12",
         "y": [
          "MB011B",
          "MB018B",
          "MB027B",
          "MB057B",
          "MB077B",
          "MB080C",
          "MB082C",
          "MB083C",
          "MB093C",
          "MB112C",
          "MB210B",
          "MB242A",
          "MB310C",
          "MB323B",
          "MB434B",
          "R76B09",
          "SS01127",
          "SS01337",
          "SS01388",
          "SS67662",
          "SS67741",
          "SS75199",
          "SS77450",
          "SS81353",
          "SS81521",
          "VT999036"
         ],
         "yaxis": "y12",
         "z": [
          [
           -0.2,
           0.2,
           0.5
          ],
          [
           0.2,
           0.4,
           0.3
          ],
          [
           -0.1,
           -0.2,
           -0.1
          ],
          [
           -0.2,
           -0.5,
           -0.3
          ],
          [
           0,
           0.3,
           0.4
          ],
          [
           -0.3,
           0.3,
           0.5
          ],
          [
           0.1,
           0,
           0
          ],
          [
           0.1,
           0.4,
           0.1
          ],
          [
           -0.2,
           0.3,
           0.6
          ],
          [
           0,
           0.3,
           0.2
          ],
          [
           0,
           0.4,
           0.6
          ],
          [
           0,
           0.1,
           0
          ],
          [
           -0.1,
           -0.1,
           0
          ],
          [
           0,
           -0.5,
           -0.7
          ],
          [
           0,
           -0.4,
           -0.5
          ],
          [
           0.4,
           -0.1,
           -0.5
          ],
          [
           0,
           0,
           0
          ],
          [
           -0.5,
           0.4,
           0.9
          ],
          [
           -0.1,
           -0.4,
           -0.4
          ],
          [
           0.1,
           -0.7,
           -1
          ],
          [
           0.3,
           -0.4,
           -0.9
          ],
          [
           0.2,
           -0.4,
           -0.6
          ],
          [
           0.3,
           -0.6,
           -0.7
          ],
          [
           0.1,
           -0.8,
           -1.2
          ],
          [
           0,
           -0.6,
           -0.9
          ],
          [
           -0.1,
           -1.4,
           -1.4
          ]
         ]
        },
        {
         "coloraxis": "coloraxis",
         "hovertemplate": "x: %{x}<br>MBON: %{y}<br>color: %{z}<extra></extra>",
         "name": "0",
         "texttemplate": "%{z}",
         "type": "heatmap",
         "x": [
          "WT",
          "Expt",
          "delta_g"
         ],
         "xaxis": "x13",
         "y": [
          "MB011B",
          "MB018B",
          "MB027B",
          "MB057B",
          "MB077B",
          "MB080C",
          "MB082C",
          "MB083C",
          "MB093C",
          "MB112C",
          "MB210B",
          "MB242A",
          "MB310C",
          "MB323B",
          "MB434B",
          "R76B09",
          "SS01127",
          "SS01337",
          "SS01388",
          "SS67662",
          "SS67741",
          "SS75199",
          "SS77450",
          "SS81353",
          "SS81521",
          "VT999036"
         ],
         "yaxis": "y13",
         "z": [
          [
           0.1,
           0.4,
           0.2
          ],
          [
           0.2,
           0.6,
           0
          ],
          [
           0,
           -0.2,
           -0.2
          ],
          [
           -0.1,
           0.1,
           0.2
          ],
          [
           0.1,
           0.1,
           -0.1
          ],
          [
           0,
           0.2,
           0.3
          ],
          [
           0.1,
           -0.3,
           -0.3
          ],
          [
           0,
           0.1,
           0
          ],
          [
           -0.1,
           -0.8,
           -0.6
          ],
          [
           0.1,
           0.1,
           0
          ],
          [
           -0.1,
           -0.2,
           0
          ],
          [
           -0.1,
           0.2,
           0.2
          ],
          [
           0,
           -0.3,
           -0.1
          ],
          [
           0.2,
           -1.4,
           -0.7
          ],
          [
           -0.2,
           -0.2,
           0.1
          ],
          [
           0.2,
           0.1,
           -0.1
          ],
          [
           0.1,
           -0.2,
           -0.3
          ],
          [
           -0.2,
           0,
           0.2
          ],
          [
           0.2,
           -0.1,
           -0.3
          ],
          [
           0.1,
           -0.1,
           -0.3
          ],
          [
           0.2,
           0.1,
           -0.2
          ],
          [
           0.2,
           -0.3,
           -0.4
          ],
          [
           0.2,
           -0.7,
           -0.7
          ],
          [
           0.1,
           -1.1,
           -0.6
          ],
          [
           0.2,
           -1.2,
           -0.8
          ],
          [
           0,
           -1.5,
           -1
          ]
         ]
        }
       ],
       "layout": {
        "annotations": [
         {
          "font": {
           "size": 12
          },
          "showarrow": false,
          "text": "Bout\n speed",
          "x": 0.03153846153846154,
          "xanchor": "center",
          "xref": "paper",
          "y": 1,
          "yanchor": "bottom",
          "yref": "paper",
          "yshift": -870
         },
         {
          "font": {
           "size": 12
          },
          "showarrow": false,
          "text": "Speed",
          "x": 0.10961538461538464,
          "xanchor": "center",
          "xref": "paper",
          "y": 1,
          "yanchor": "bottom",
          "yref": "paper",
          "yshift": -870
         },
         {
          "font": {
           "size": 12
          },
          "showarrow": false,
          "text": "Fall #",
          "x": 0.1876923076923077,
          "xanchor": "center",
          "xref": "paper",
          "y": 1,
          "yanchor": "bottom",
          "yref": "paper",
          "yshift": -870
         },
         {
          "font": {
           "size": 12
          },
          "showarrow": false,
          "text": "Height",
          "x": 0.26576923076923076,
          "xanchor": "center",
          "xref": "paper",
          "y": 1,
          "yanchor": "bottom",
          "yref": "paper",
          "yshift": -870
         },
         {
          "font": {
           "size": 12
          },
          "showarrow": false,
          "text": "Time \n to reach 3/4 chamber",
          "x": 0.3438461538461539,
          "xanchor": "center",
          "xref": "paper",
          "y": 1,
          "yanchor": "bottom",
          "yref": "paper",
          "yshift": -870
         },
         {
          "font": {
           "size": 12
          },
          "showarrow": false,
          "text": "Mean\n Pause",
          "x": 0.42192307692307696,
          "xanchor": "center",
          "xref": "paper",
          "y": 1,
          "yanchor": "bottom",
          "yref": "paper",
          "yshift": -870
         },
         {
          "font": {
           "size": 12
          },
          "showarrow": false,
          "text": "Pause #",
          "x": 0.5,
          "xanchor": "center",
          "xref": "paper",
          "y": 1,
          "yanchor": "bottom",
          "yref": "paper",
          "yshift": -870
         },
         {
          "font": {
           "size": 12
          },
          "showarrow": false,
          "text": "Mean\n Bout",
          "x": 0.5780769230769232,
          "xanchor": "center",
          "xref": "paper",
          "y": 1,
          "yanchor": "bottom",
          "yref": "paper",
          "yshift": -870
         },
         {
          "font": {
           "size": 12
          },
          "showarrow": false,
          "text": "Bout #",
          "x": 0.6561538461538463,
          "xanchor": "center",
          "xref": "paper",
          "y": 1,
          "yanchor": "bottom",
          "yref": "paper",
          "yshift": -870
         },
         {
          "font": {
           "size": 12
          },
          "showarrow": false,
          "text": "Bout\n position",
          "x": 0.7342307692307692,
          "xanchor": "center",
          "xref": "paper",
          "y": 1,
          "yanchor": "bottom",
          "yref": "paper",
          "yshift": -870
         },
         {
          "font": {
           "size": 12
          },
          "showarrow": false,
          "text": "Pause\n position",
          "x": 0.8123076923076924,
          "xanchor": "center",
          "xref": "paper",
          "y": 1,
          "yanchor": "bottom",
          "yref": "paper",
          "yshift": -870
         },
         {
          "font": {
           "size": 12
          },
          "showarrow": false,
          "text": "Max\n velocity",
          "x": 0.8903846153846153,
          "xanchor": "center",
          "xref": "paper",
          "y": 1,
          "yanchor": "bottom",
          "yref": "paper",
          "yshift": -870
         },
         {
          "font": {
           "size": 12
          },
          "showarrow": false,
          "text": "Avg Straightness\n index",
          "x": 0.9684615384615383,
          "xanchor": "center",
          "xref": "paper",
          "y": 1,
          "yanchor": "bottom",
          "yref": "paper",
          "yshift": -870
         }
        ],
        "height": 1000,
        "template": {
         "data": {
          "bar": [
           {
            "error_x": {
             "color": "#2a3f5f"
            },
            "error_y": {
             "color": "#2a3f5f"
            },
            "marker": {
             "line": {
              "color": "#E5ECF6",
              "width": 0.5
             },
             "pattern": {
              "fillmode": "overlay",
              "size": 10,
              "solidity": 0.2
             }
            },
            "type": "bar"
           }
          ],
          "barpolar": [
           {
            "marker": {
             "line": {
              "color": "#E5ECF6",
              "width": 0.5
             },
             "pattern": {
              "fillmode": "overlay",
              "size": 10,
              "solidity": 0.2
             }
            },
            "type": "barpolar"
           }
          ],
          "carpet": [
           {
            "aaxis": {
             "endlinecolor": "#2a3f5f",
             "gridcolor": "white",
             "linecolor": "white",
             "minorgridcolor": "white",
             "startlinecolor": "#2a3f5f"
            },
            "baxis": {
             "endlinecolor": "#2a3f5f",
             "gridcolor": "white",
             "linecolor": "white",
             "minorgridcolor": "white",
             "startlinecolor": "#2a3f5f"
            },
            "type": "carpet"
           }
          ],
          "choropleth": [
           {
            "colorbar": {
             "outlinewidth": 0,
             "ticks": ""
            },
            "type": "choropleth"
           }
          ],
          "contour": [
           {
            "colorbar": {
             "outlinewidth": 0,
             "ticks": ""
            },
            "colorscale": [
             [
              0,
              "#0d0887"
             ],
             [
              0.1111111111111111,
              "#46039f"
             ],
             [
              0.2222222222222222,
              "#7201a8"
             ],
             [
              0.3333333333333333,
              "#9c179e"
             ],
             [
              0.4444444444444444,
              "#bd3786"
             ],
             [
              0.5555555555555556,
              "#d8576b"
             ],
             [
              0.6666666666666666,
              "#ed7953"
             ],
             [
              0.7777777777777778,
              "#fb9f3a"
             ],
             [
              0.8888888888888888,
              "#fdca26"
             ],
             [
              1,
              "#f0f921"
             ]
            ],
            "type": "contour"
           }
          ],
          "contourcarpet": [
           {
            "colorbar": {
             "outlinewidth": 0,
             "ticks": ""
            },
            "type": "contourcarpet"
           }
          ],
          "heatmap": [
           {
            "colorbar": {
             "outlinewidth": 0,
             "ticks": ""
            },
            "colorscale": [
             [
              0,
              "#0d0887"
             ],
             [
              0.1111111111111111,
              "#46039f"
             ],
             [
              0.2222222222222222,
              "#7201a8"
             ],
             [
              0.3333333333333333,
              "#9c179e"
             ],
             [
              0.4444444444444444,
              "#bd3786"
             ],
             [
              0.5555555555555556,
              "#d8576b"
             ],
             [
              0.6666666666666666,
              "#ed7953"
             ],
             [
              0.7777777777777778,
              "#fb9f3a"
             ],
             [
              0.8888888888888888,
              "#fdca26"
             ],
             [
              1,
              "#f0f921"
             ]
            ],
            "type": "heatmap"
           }
          ],
          "heatmapgl": [
           {
            "colorbar": {
             "outlinewidth": 0,
             "ticks": ""
            },
            "colorscale": [
             [
              0,
              "#0d0887"
             ],
             [
              0.1111111111111111,
              "#46039f"
             ],
             [
              0.2222222222222222,
              "#7201a8"
             ],
             [
              0.3333333333333333,
              "#9c179e"
             ],
             [
              0.4444444444444444,
              "#bd3786"
             ],
             [
              0.5555555555555556,
              "#d8576b"
             ],
             [
              0.6666666666666666,
              "#ed7953"
             ],
             [
              0.7777777777777778,
              "#fb9f3a"
             ],
             [
              0.8888888888888888,
              "#fdca26"
             ],
             [
              1,
              "#f0f921"
             ]
            ],
            "type": "heatmapgl"
           }
          ],
          "histogram": [
           {
            "marker": {
             "pattern": {
              "fillmode": "overlay",
              "size": 10,
              "solidity": 0.2
             }
            },
            "type": "histogram"
           }
          ],
          "histogram2d": [
           {
            "colorbar": {
             "outlinewidth": 0,
             "ticks": ""
            },
            "colorscale": [
             [
              0,
              "#0d0887"
             ],
             [
              0.1111111111111111,
              "#46039f"
             ],
             [
              0.2222222222222222,
              "#7201a8"
             ],
             [
              0.3333333333333333,
              "#9c179e"
             ],
             [
              0.4444444444444444,
              "#bd3786"
             ],
             [
              0.5555555555555556,
              "#d8576b"
             ],
             [
              0.6666666666666666,
              "#ed7953"
             ],
             [
              0.7777777777777778,
              "#fb9f3a"
             ],
             [
              0.8888888888888888,
              "#fdca26"
             ],
             [
              1,
              "#f0f921"
             ]
            ],
            "type": "histogram2d"
           }
          ],
          "histogram2dcontour": [
           {
            "colorbar": {
             "outlinewidth": 0,
             "ticks": ""
            },
            "colorscale": [
             [
              0,
              "#0d0887"
             ],
             [
              0.1111111111111111,
              "#46039f"
             ],
             [
              0.2222222222222222,
              "#7201a8"
             ],
             [
              0.3333333333333333,
              "#9c179e"
             ],
             [
              0.4444444444444444,
              "#bd3786"
             ],
             [
              0.5555555555555556,
              "#d8576b"
             ],
             [
              0.6666666666666666,
              "#ed7953"
             ],
             [
              0.7777777777777778,
              "#fb9f3a"
             ],
             [
              0.8888888888888888,
              "#fdca26"
             ],
             [
              1,
              "#f0f921"
             ]
            ],
            "type": "histogram2dcontour"
           }
          ],
          "mesh3d": [
           {
            "colorbar": {
             "outlinewidth": 0,
             "ticks": ""
            },
            "type": "mesh3d"
           }
          ],
          "parcoords": [
           {
            "line": {
             "colorbar": {
              "outlinewidth": 0,
              "ticks": ""
             }
            },
            "type": "parcoords"
           }
          ],
          "pie": [
           {
            "automargin": true,
            "type": "pie"
           }
          ],
          "scatter": [
           {
            "fillpattern": {
             "fillmode": "overlay",
             "size": 10,
             "solidity": 0.2
            },
            "type": "scatter"
           }
          ],
          "scatter3d": [
           {
            "line": {
             "colorbar": {
              "outlinewidth": 0,
              "ticks": ""
             }
            },
            "marker": {
             "colorbar": {
              "outlinewidth": 0,
              "ticks": ""
             }
            },
            "type": "scatter3d"
           }
          ],
          "scattercarpet": [
           {
            "marker": {
             "colorbar": {
              "outlinewidth": 0,
              "ticks": ""
             }
            },
            "type": "scattercarpet"
           }
          ],
          "scattergeo": [
           {
            "marker": {
             "colorbar": {
              "outlinewidth": 0,
              "ticks": ""
             }
            },
            "type": "scattergeo"
           }
          ],
          "scattergl": [
           {
            "marker": {
             "colorbar": {
              "outlinewidth": 0,
              "ticks": ""
             }
            },
            "type": "scattergl"
           }
          ],
          "scattermapbox": [
           {
            "marker": {
             "colorbar": {
              "outlinewidth": 0,
              "ticks": ""
             }
            },
            "type": "scattermapbox"
           }
          ],
          "scatterpolar": [
           {
            "marker": {
             "colorbar": {
              "outlinewidth": 0,
              "ticks": ""
             }
            },
            "type": "scatterpolar"
           }
          ],
          "scatterpolargl": [
           {
            "marker": {
             "colorbar": {
              "outlinewidth": 0,
              "ticks": ""
             }
            },
            "type": "scatterpolargl"
           }
          ],
          "scatterternary": [
           {
            "marker": {
             "colorbar": {
              "outlinewidth": 0,
              "ticks": ""
             }
            },
            "type": "scatterternary"
           }
          ],
          "surface": [
           {
            "colorbar": {
             "outlinewidth": 0,
             "ticks": ""
            },
            "colorscale": [
             [
              0,
              "#0d0887"
             ],
             [
              0.1111111111111111,
              "#46039f"
             ],
             [
              0.2222222222222222,
              "#7201a8"
             ],
             [
              0.3333333333333333,
              "#9c179e"
             ],
             [
              0.4444444444444444,
              "#bd3786"
             ],
             [
              0.5555555555555556,
              "#d8576b"
             ],
             [
              0.6666666666666666,
              "#ed7953"
             ],
             [
              0.7777777777777778,
              "#fb9f3a"
             ],
             [
              0.8888888888888888,
              "#fdca26"
             ],
             [
              1,
              "#f0f921"
             ]
            ],
            "type": "surface"
           }
          ],
          "table": [
           {
            "cells": {
             "fill": {
              "color": "#EBF0F8"
             },
             "line": {
              "color": "white"
             }
            },
            "header": {
             "fill": {
              "color": "#C8D4E3"
             },
             "line": {
              "color": "white"
             }
            },
            "type": "table"
           }
          ]
         },
         "layout": {
          "annotationdefaults": {
           "arrowcolor": "#2a3f5f",
           "arrowhead": 0,
           "arrowwidth": 1
          },
          "autotypenumbers": "strict",
          "coloraxis": {
           "colorbar": {
            "outlinewidth": 0,
            "ticks": ""
           }
          },
          "colorscale": {
           "diverging": [
            [
             0,
             "#8e0152"
            ],
            [
             0.1,
             "#c51b7d"
            ],
            [
             0.2,
             "#de77ae"
            ],
            [
             0.3,
             "#f1b6da"
            ],
            [
             0.4,
             "#fde0ef"
            ],
            [
             0.5,
             "#f7f7f7"
            ],
            [
             0.6,
             "#e6f5d0"
            ],
            [
             0.7,
             "#b8e186"
            ],
            [
             0.8,
             "#7fbc41"
            ],
            [
             0.9,
             "#4d9221"
            ],
            [
             1,
             "#276419"
            ]
           ],
           "sequential": [
            [
             0,
             "#0d0887"
            ],
            [
             0.1111111111111111,
             "#46039f"
            ],
            [
             0.2222222222222222,
             "#7201a8"
            ],
            [
             0.3333333333333333,
             "#9c179e"
            ],
            [
             0.4444444444444444,
             "#bd3786"
            ],
            [
             0.5555555555555556,
             "#d8576b"
            ],
            [
             0.6666666666666666,
             "#ed7953"
            ],
            [
             0.7777777777777778,
             "#fb9f3a"
            ],
            [
             0.8888888888888888,
             "#fdca26"
            ],
            [
             1,
             "#f0f921"
            ]
           ],
           "sequentialminus": [
            [
             0,
             "#0d0887"
            ],
            [
             0.1111111111111111,
             "#46039f"
            ],
            [
             0.2222222222222222,
             "#7201a8"
            ],
            [
             0.3333333333333333,
             "#9c179e"
            ],
            [
             0.4444444444444444,
             "#bd3786"
            ],
            [
             0.5555555555555556,
             "#d8576b"
            ],
            [
             0.6666666666666666,
             "#ed7953"
            ],
            [
             0.7777777777777778,
             "#fb9f3a"
            ],
            [
             0.8888888888888888,
             "#fdca26"
            ],
            [
             1,
             "#f0f921"
            ]
           ]
          },
          "colorway": [
           "#636efa",
           "#EF553B",
           "#00cc96",
           "#ab63fa",
           "#FFA15A",
           "#19d3f3",
           "#FF6692",
           "#B6E880",
           "#FF97FF",
           "#FECB52"
          ],
          "font": {
           "color": "#2a3f5f"
          },
          "geo": {
           "bgcolor": "white",
           "lakecolor": "white",
           "landcolor": "#E5ECF6",
           "showlakes": true,
           "showland": true,
           "subunitcolor": "white"
          },
          "hoverlabel": {
           "align": "left"
          },
          "hovermode": "closest",
          "mapbox": {
           "style": "light"
          },
          "paper_bgcolor": "white",
          "plot_bgcolor": "#E5ECF6",
          "polar": {
           "angularaxis": {
            "gridcolor": "white",
            "linecolor": "white",
            "ticks": ""
           },
           "bgcolor": "#E5ECF6",
           "radialaxis": {
            "gridcolor": "white",
            "linecolor": "white",
            "ticks": ""
           }
          },
          "scene": {
           "xaxis": {
            "backgroundcolor": "#E5ECF6",
            "gridcolor": "white",
            "gridwidth": 2,
            "linecolor": "white",
            "showbackground": true,
            "ticks": "",
            "zerolinecolor": "white"
           },
           "yaxis": {
            "backgroundcolor": "#E5ECF6",
            "gridcolor": "white",
            "gridwidth": 2,
            "linecolor": "white",
            "showbackground": true,
            "ticks": "",
            "zerolinecolor": "white"
           },
           "zaxis": {
            "backgroundcolor": "#E5ECF6",
            "gridcolor": "white",
            "gridwidth": 2,
            "linecolor": "white",
            "showbackground": true,
            "ticks": "",
            "zerolinecolor": "white"
           }
          },
          "shapedefaults": {
           "line": {
            "color": "#2a3f5f"
           }
          },
          "ternary": {
           "aaxis": {
            "gridcolor": "white",
            "linecolor": "white",
            "ticks": ""
           },
           "baxis": {
            "gridcolor": "white",
            "linecolor": "white",
            "ticks": ""
           },
           "bgcolor": "#E5ECF6",
           "caxis": {
            "gridcolor": "white",
            "linecolor": "white",
            "ticks": ""
           }
          },
          "title": {
           "x": 0.05
          },
          "xaxis": {
           "automargin": true,
           "gridcolor": "white",
           "linecolor": "white",
           "ticks": "",
           "title": {
            "standoff": 15
           },
           "zerolinecolor": "white",
           "zerolinewidth": 2
          },
          "yaxis": {
           "automargin": true,
           "gridcolor": "white",
           "linecolor": "white",
           "ticks": "",
           "title": {
            "standoff": 15
           },
           "zerolinecolor": "white",
           "zerolinewidth": 2
          }
         }
        },
        "title": {
         "text": "Plot of MBONs > <b>Chrimson2</b> and their cohens d, delta-g across locomotor reactivity parameters"
        },
        "width": 1800,
        "xaxis": {
         "anchor": "y",
         "domain": [
          0,
          0.06307692307692309
         ]
        },
        "xaxis10": {
         "anchor": "y10",
         "domain": [
          0.7026923076923077,
          0.7657692307692308
         ]
        },
        "xaxis11": {
         "anchor": "y11",
         "domain": [
          0.7807692307692308,
          0.8438461538461539
         ]
        },
        "xaxis12": {
         "anchor": "y12",
         "domain": [
          0.8588461538461538,
          0.9219230769230768
         ]
        },
        "xaxis13": {
         "anchor": "y13",
         "domain": [
          0.9369230769230767,
          0.9999999999999998
         ]
        },
        "xaxis2": {
         "anchor": "y2",
         "domain": [
          0.07807692307692309,
          0.14115384615384619
         ]
        },
        "xaxis3": {
         "anchor": "y3",
         "domain": [
          0.15615384615384617,
          0.21923076923076926
         ]
        },
        "xaxis4": {
         "anchor": "y4",
         "domain": [
          0.23423076923076924,
          0.29730769230769233
         ]
        },
        "xaxis5": {
         "anchor": "y5",
         "domain": [
          0.31230769230769234,
          0.3753846153846154
         ]
        },
        "xaxis6": {
         "anchor": "y6",
         "domain": [
          0.39038461538461544,
          0.4534615384615385
         ]
        },
        "xaxis7": {
         "anchor": "y7",
         "domain": [
          0.4684615384615385,
          0.5315384615384615
         ]
        },
        "xaxis8": {
         "anchor": "y8",
         "domain": [
          0.5465384615384616,
          0.6096153846153847
         ]
        },
        "xaxis9": {
         "anchor": "y9",
         "domain": [
          0.6246153846153847,
          0.6876923076923078
         ]
        },
        "yaxis": {
         "anchor": "x",
         "domain": [
          0,
          1
         ]
        },
        "yaxis10": {
         "anchor": "x10",
         "domain": [
          0,
          1
         ],
         "matches": "y",
         "showticklabels": false
        },
        "yaxis11": {
         "anchor": "x11",
         "domain": [
          0,
          1
         ],
         "matches": "y",
         "showticklabels": false
        },
        "yaxis12": {
         "anchor": "x12",
         "domain": [
          0,
          1
         ],
         "matches": "y",
         "showticklabels": false
        },
        "yaxis13": {
         "anchor": "x13",
         "domain": [
          0,
          1
         ],
         "matches": "y",
         "showticklabels": false
        },
        "yaxis2": {
         "anchor": "x2",
         "domain": [
          0,
          1
         ],
         "matches": "y",
         "showticklabels": false
        },
        "yaxis3": {
         "anchor": "x3",
         "domain": [
          0,
          1
         ],
         "matches": "y",
         "showticklabels": false
        },
        "yaxis4": {
         "anchor": "x4",
         "domain": [
          0,
          1
         ],
         "matches": "y",
         "showticklabels": false
        },
        "yaxis5": {
         "anchor": "x5",
         "domain": [
          0,
          1
         ],
         "matches": "y",
         "showticklabels": false
        },
        "yaxis6": {
         "anchor": "x6",
         "domain": [
          0,
          1
         ],
         "matches": "y",
         "showticklabels": false
        },
        "yaxis7": {
         "anchor": "x7",
         "domain": [
          0,
          1
         ],
         "matches": "y",
         "showticklabels": false
        },
        "yaxis8": {
         "anchor": "x8",
         "domain": [
          0,
          1
         ],
         "matches": "y",
         "showticklabels": false
        },
        "yaxis9": {
         "anchor": "x9",
         "domain": [
          0,
          1
         ],
         "matches": "y",
         "showticklabels": false
        }
       }
      }
     },
     "metadata": {},
     "output_type": "display_data"
    }
   ],
   "source": [
    "# f1,ax = plt.subplots(nrows=1, ncols=13, sharex=False, sharey = True, figsize=(15, 6))\n",
    "\n",
    "from plotly.subplots import make_subplots\n",
    "import plotly.graph_objects as go\n",
    "import plotly.express as px\n",
    "\n",
    "subplottitles = list(map(lambda s:s.replace('\\n', ''), dfreg2.columns))\n",
    "g1 = round(totalregdf,1)\n",
    "\n",
    "fig = make_subplots(rows = 1,cols = 13, horizontal_spacing = 0.015, shared_yaxes =True, subplot_titles= dfreg2.columns)   \n",
    "\n",
    "\n",
    "for n, j in zip(dfreg2.columns, list(range(1,14))):\n",
    "    figure1 = px.imshow(g1[n], text_auto = True, aspect = \"auto\")\n",
    "    fig.add_trace(figure1['data'][0], row = 1, col = j)\n",
    "\n",
    "fig.update_layout(title = 'Plot of MBONs > <b>' + responder +  '</b> and their cohens d, delta-g across locomotor reactivity parameters', height = 1000, width = 1800)\n",
    "fig.update_annotations(font_size=12, yshift = -870)\n",
    "\n",
    "\n",
    "#plt.savefig(openPath + \"images\\\\\"  + \"cohens d and delta gheatmap_\" + responder + \"_\" + date + \".png\", dpi = 1200)\n",
    "\n",
    "fig.show()"
   ]
  },
  {
   "cell_type": "code",
   "execution_count": null,
   "id": "6d0611a8",
   "metadata": {},
   "outputs": [],
   "source": []
  }
 ],
 "metadata": {
  "kernelspec": {
   "display_name": "Python 3 (ipykernel)",
   "language": "python",
   "name": "python3"
  },
  "language_info": {
   "codemirror_mode": {
    "name": "ipython",
    "version": 3
   },
   "file_extension": ".py",
   "mimetype": "text/x-python",
   "name": "python",
   "nbconvert_exporter": "python",
   "pygments_lexer": "ipython3",
   "version": "3.10.9"
  }
 },
 "nbformat": 4,
 "nbformat_minor": 5
}
