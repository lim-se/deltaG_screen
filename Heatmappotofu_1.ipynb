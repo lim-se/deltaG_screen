{
 "cells": [
  {
   "cell_type": "code",
   "execution_count": 1,
   "id": "a4353ff5-aa3e-48d6-a9e0-3a4d44244d80",
   "metadata": {},
   "outputs": [],
   "source": [
    "#import relevant libraries\n",
    "import os\n",
    "from scipy import stats\n",
    "\n",
    "import numpy as np\n",
    "import scipy as sp\n",
    "import pandas as pd\n",
    "import matplotlib as mpl\n",
    "import matplotlib.pyplot as plt\n",
    "import seaborn as sns\n",
    "import dabest\n",
    "import NLCLIMB\n",
    "import NLMATH\n",
    "import itertools\n",
    "from datetime import datetime\n",
    "date = datetime.today().strftime('%Y%m%d')\n",
    "from statistics import mean\n",
    "\n",
    "import dabest_jck\n",
    "import plotly.express as px \n",
    "from plotly.subplots import make_subplots\n",
    "import plotly.graph_objects as go\n",
    "from plotly.graph_objects import Layout\n",
    "\n",
    "#NOTE: SUPPRESSES WARNINGS!\n",
    "\n",
    "import warnings\n",
    "\n",
    "\n",
    "warnings.simplefilter(action=\"ignore\", category=RuntimeWarning)\n",
    "warnings.simplefilter(action=\"ignore\", category=UserWarning)\n",
    "warnings.simplefilter(action='ignore', category=pd.errors.PerformanceWarning)\n"
   ]
  },
  {
   "cell_type": "code",
   "execution_count": 2,
   "id": "9b5dfa46-42fe-4f01-b99e-d0273f992f72",
   "metadata": {},
   "outputs": [],
   "source": [
    "#initial file processing\n",
    "computer1 = \"C:\\\\Users\\\\User\"\n",
    "computer2 = \"C:\\\\Users\\\\lnico\"\n",
    "filedir = \"\\\\ACC Lab Dropbox\\\\ACC Lab\\\\Nicole Lee\\\\Data Compilation\\\\Falling_New\\\\\"\n",
    "openPath = computer1 + filedir\n",
    "files = os.listdir(openPath)\n",
    "\n",
    "#identifying genotypes\n",
    "responder = \"ACR\"\n",
    "respondercsv = responder + \".csv\"\n",
    "wt = \"w1118\""
   ]
  },
  {
   "cell_type": "code",
   "execution_count": 55,
   "id": "bdcc176c-6b81-4251-9f21-8c8b53190191",
   "metadata": {},
   "outputs": [],
   "source": [
    "lst=[]\n",
    "\n",
    "\n",
    "for file_no in os.listdir(openPath): \n",
    "    if respondercsv in file_no and \"w1118\" not in file_no :   #wt > acr files\n",
    "        f = os.path.join(openPath, file_no)\n",
    "        dfe=pd.read_csv(f)\n",
    "        exptdf = dfe.drop(dfe.columns[[0]],axis = 1)\n",
    "        driver = file_no.split(\" \")[0]\n",
    "        lst.append(driver)"
   ]
  },
  {
   "cell_type": "markdown",
   "id": "b8e0c8ab",
   "metadata": {},
   "source": [
    "# run if new data"
   ]
  },
  {
   "cell_type": "code",
   "execution_count": 62,
   "id": "7bea73cb",
   "metadata": {},
   "outputs": [],
   "source": [
    "def fivesecondrule(dfexpt):\n",
    "    \n",
    "    fivesecondsdark = dfexpt[(dfexpt['ExperimentState']== 'Dark')][dfexpt[(dfexpt['ExperimentState']== 'Dark')]['Seconds'].between(3.0, 8.0, inclusive = \"both\")]\n",
    "    fivesecondsfull = dfexpt[(dfexpt['ExperimentState']== 'Full')][dfexpt[(dfexpt['ExperimentState']== 'Full')]['Seconds'].between(26.0, 31.0, inclusive = \"both\")]\n",
    "    fivesecondsrecovery = dfexpt[(dfexpt['ExperimentState']== 'Recovery')][dfexpt[(dfexpt['ExperimentState']== 'Recovery')]['Seconds'].between(46.0, 51.0, inclusive = \"both\")]\n",
    "\n",
    "    fiveseconddfs = pd.concat([fivesecondsdark, fivesecondsfull, fivesecondsrecovery]).reset_index(drop=True)\n",
    "\n",
    "    return fiveseconddfs"
   ]
  },
  {
   "cell_type": "code",
   "execution_count": 63,
   "id": "3251e7bc",
   "metadata": {},
   "outputs": [
    {
     "ename": "ValueError",
     "evalue": "zero_method 'wilcox' and 'pratt' do not work if x - y is zero for all elements.",
     "output_type": "error",
     "traceback": [
      "\u001b[1;31m---------------------------------------------------------------------------\u001b[0m",
      "\u001b[1;31mAttributeError\u001b[0m                            Traceback (most recent call last)",
      "File \u001b[1;32mc:\\Users\\user\\anaconda3\\lib\\site-packages\\dabest_jck\\_classes.py:2700\u001b[0m, in \u001b[0;36mEffectSizeDataFrame.results\u001b[1;34m(self)\u001b[0m\n\u001b[0;32m   2699\u001b[0m \u001b[38;5;28;01mtry\u001b[39;00m:\n\u001b[1;32m-> 2700\u001b[0m     \u001b[38;5;28;01mreturn\u001b[39;00m \u001b[38;5;28;43mself\u001b[39;49m\u001b[38;5;241;43m.\u001b[39;49m\u001b[43m__results\u001b[49m\n\u001b[0;32m   2701\u001b[0m \u001b[38;5;28;01mexcept\u001b[39;00m \u001b[38;5;167;01mAttributeError\u001b[39;00m:\n",
      "\u001b[1;31mAttributeError\u001b[0m: 'EffectSizeDataFrame' object has no attribute '_EffectSizeDataFrame__results'",
      "\nDuring handling of the above exception, another exception occurred:\n",
      "\u001b[1;31mValueError\u001b[0m                                Traceback (most recent call last)",
      "Cell \u001b[1;32mIn[63], line 55\u001b[0m\n\u001b[0;32m     53\u001b[0m dfs2 \u001b[38;5;241m=\u001b[39m NLMATH\u001b[38;5;241m.\u001b[39mdeltaversion(df_sp, n, \u001b[38;5;124m\"\u001b[39m\u001b[38;5;124mVelocity\u001b[39m\u001b[38;5;124m\"\u001b[39m)\n\u001b[0;32m     54\u001b[0m dft2 \u001b[38;5;241m=\u001b[39m NLMATH\u001b[38;5;241m.\u001b[39mdeltaversion(df_t, n, \u001b[38;5;124m\"\u001b[39m\u001b[38;5;124mTime\u001b[39m\u001b[38;5;124m\"\u001b[39m)\n\u001b[1;32m---> 55\u001b[0m dff2 \u001b[38;5;241m=\u001b[39m \u001b[43mNLMATH\u001b[49m\u001b[38;5;241;43m.\u001b[39;49m\u001b[43mdeltaversion\u001b[49m\u001b[43m(\u001b[49m\u001b[43mdf_f\u001b[49m\u001b[43m,\u001b[49m\u001b[43m \u001b[49m\u001b[43mn\u001b[49m\u001b[43m,\u001b[49m\u001b[43m \u001b[49m\u001b[38;5;124;43m\"\u001b[39;49m\u001b[38;5;124;43mFall\u001b[39;49m\u001b[38;5;124;43m\"\u001b[39;49m\u001b[43m)\u001b[49m\n\u001b[0;32m     56\u001b[0m dfh2 \u001b[38;5;241m=\u001b[39m NLMATH\u001b[38;5;241m.\u001b[39mdeltaversion(df_h, n, \u001b[38;5;124m\"\u001b[39m\u001b[38;5;124mY\u001b[39m\u001b[38;5;124m\"\u001b[39m)\n\u001b[0;32m     57\u001b[0m dfd2 \u001b[38;5;241m=\u001b[39m NLMATH\u001b[38;5;241m.\u001b[39mdeltaversion(df_d, n, \u001b[38;5;124m\"\u001b[39m\u001b[38;5;124mdisplacement\u001b[39m\u001b[38;5;124m\"\u001b[39m)\n",
      "File \u001b[1;32mc:\\Users\\user\\Documents\\GitHub\\deltaG_screen\\NLMATH.py:884\u001b[0m, in \u001b[0;36mdeltaversion\u001b[1;34m(df_sp, genotype, metric)\u001b[0m\n\u001b[0;32m    881\u001b[0m \u001b[38;5;66;03m#dfsp_db2 = dabest_jck.load(data = dfsp_db, x = ['ExperimentState', 'ExperimentState'], paired = \"baseline\", id_col=\"index\", y = metric, delta2 = True, experiment = \"Type\", x1_level = [\"Dark\", \"Full\"], experiment_label = [\"WT\",\"Expt\"] )\u001b[39;00m\n\u001b[0;32m    882\u001b[0m dfsp_db2 \u001b[38;5;241m=\u001b[39m dabest_jck\u001b[38;5;241m.\u001b[39mload(data \u001b[38;5;241m=\u001b[39m dfsp_db, x \u001b[38;5;241m=\u001b[39m [\u001b[38;5;124m\"\u001b[39m\u001b[38;5;124mExperimentState\u001b[39m\u001b[38;5;124m\"\u001b[39m, \u001b[38;5;124m\"\u001b[39m\u001b[38;5;124mType\u001b[39m\u001b[38;5;124m\"\u001b[39m], y \u001b[38;5;241m=\u001b[39m metric,  delta2 \u001b[38;5;241m=\u001b[39m \u001b[38;5;28;01mTrue\u001b[39;00m, experiment \u001b[38;5;241m=\u001b[39m \u001b[38;5;124m\"\u001b[39m\u001b[38;5;124mType\u001b[39m\u001b[38;5;124m\"\u001b[39m,\n\u001b[0;32m    883\u001b[0m                         experiment_label \u001b[38;5;241m=\u001b[39m [\u001b[38;5;124m'\u001b[39m\u001b[38;5;124mWT\u001b[39m\u001b[38;5;124m'\u001b[39m, \u001b[38;5;124m'\u001b[39m\u001b[38;5;124mExpt\u001b[39m\u001b[38;5;124m'\u001b[39m], x1_level \u001b[38;5;241m=\u001b[39m [\u001b[38;5;124m\"\u001b[39m\u001b[38;5;124mDark\u001b[39m\u001b[38;5;124m\"\u001b[39m, \u001b[38;5;124m\"\u001b[39m\u001b[38;5;124mFull\u001b[39m\u001b[38;5;124m\"\u001b[39m], paired \u001b[38;5;241m=\u001b[39m \u001b[38;5;124m\"\u001b[39m\u001b[38;5;124mbaseline\u001b[39m\u001b[38;5;124m\"\u001b[39m, id_col\u001b[38;5;241m=\u001b[39m\u001b[38;5;124m\"\u001b[39m\u001b[38;5;124mindex\u001b[39m\u001b[38;5;124m\"\u001b[39m ) \u001b[38;5;66;03m#if delta2 = dabest; deltaG = dabest_jck\u001b[39;00m\n\u001b[1;32m--> 884\u001b[0m dfstatstest \u001b[38;5;241m=\u001b[39m \u001b[43mdfsp_db2\u001b[49m\u001b[38;5;241;43m.\u001b[39;49m\u001b[43mdelta_g\u001b[49m\u001b[38;5;241;43m.\u001b[39;49m\u001b[43mstatistical_tests\u001b[49m\n\u001b[0;32m    886\u001b[0m \u001b[38;5;28;01mif\u001b[39;00m dfstatstest[\u001b[38;5;124m'\u001b[39m\u001b[38;5;124mcontrol\u001b[39m\u001b[38;5;124m'\u001b[39m][\u001b[38;5;241m0\u001b[39m]\u001b[38;5;241m.\u001b[39msplit(\u001b[38;5;124m\"\u001b[39m\u001b[38;5;124m \u001b[39m\u001b[38;5;124m\"\u001b[39m)[\u001b[38;5;241m1\u001b[39m] \u001b[38;5;241m==\u001b[39m \u001b[38;5;124m\"\u001b[39m\u001b[38;5;124mWT\u001b[39m\u001b[38;5;124m\"\u001b[39m \u001b[38;5;129;01mand\u001b[39;00m dfstatstest[\u001b[38;5;124m'\u001b[39m\u001b[38;5;124mcontrol\u001b[39m\u001b[38;5;124m'\u001b[39m][\u001b[38;5;241m1\u001b[39m]\u001b[38;5;241m.\u001b[39msplit(\u001b[38;5;124m\"\u001b[39m\u001b[38;5;124m \u001b[39m\u001b[38;5;124m\"\u001b[39m)[\u001b[38;5;241m1\u001b[39m] \u001b[38;5;241m==\u001b[39m \u001b[38;5;124m\"\u001b[39m\u001b[38;5;124mExpt\u001b[39m\u001b[38;5;124m\"\u001b[39m:\n\u001b[0;32m    887\u001b[0m     dfdiff \u001b[38;5;241m=\u001b[39m pd\u001b[38;5;241m.\u001b[39mDataFrame({\u001b[38;5;124m\"\u001b[39m\u001b[38;5;124mMBON\u001b[39m\u001b[38;5;124m\"\u001b[39m: genotype, \u001b[38;5;124m\"\u001b[39m\u001b[38;5;124mWT\u001b[39m\u001b[38;5;124m\"\u001b[39m: \u001b[38;5;28mround\u001b[39m(dfstatstest[\u001b[38;5;124m'\u001b[39m\u001b[38;5;124mdifference\u001b[39m\u001b[38;5;124m'\u001b[39m][\u001b[38;5;241m0\u001b[39m],\u001b[38;5;241m3\u001b[39m), \u001b[38;5;124m\"\u001b[39m\u001b[38;5;124mExpt\u001b[39m\u001b[38;5;124m\"\u001b[39m: \u001b[38;5;28mround\u001b[39m(dfstatstest[\u001b[38;5;124m'\u001b[39m\u001b[38;5;124mdifference\u001b[39m\u001b[38;5;124m'\u001b[39m][\u001b[38;5;241m1\u001b[39m],\u001b[38;5;241m3\u001b[39m), \u001b[38;5;124m\"\u001b[39m\u001b[38;5;124mdelta_g\u001b[39m\u001b[38;5;124m\"\u001b[39m: \u001b[38;5;28mround\u001b[39m(dfsp_db2\u001b[38;5;241m.\u001b[39mdelta_g\u001b[38;5;241m.\u001b[39mdelta_delta\u001b[38;5;241m.\u001b[39mdifference,\u001b[38;5;241m3\u001b[39m)}, index \u001b[38;5;241m=\u001b[39m [genotype])\n",
      "File \u001b[1;32mc:\\Users\\user\\anaconda3\\lib\\site-packages\\dabest_jck\\_classes.py:2709\u001b[0m, in \u001b[0;36mEffectSizeDataFrame.statistical_tests\u001b[1;34m(self)\u001b[0m\n\u001b[0;32m   2707\u001b[0m \u001b[38;5;129m@property\u001b[39m\n\u001b[0;32m   2708\u001b[0m \u001b[38;5;28;01mdef\u001b[39;00m \u001b[38;5;21mstatistical_tests\u001b[39m(\u001b[38;5;28mself\u001b[39m):\n\u001b[1;32m-> 2709\u001b[0m     results_df \u001b[38;5;241m=\u001b[39m \u001b[38;5;28;43mself\u001b[39;49m\u001b[38;5;241;43m.\u001b[39;49m\u001b[43mresults\u001b[49m\n\u001b[0;32m   2711\u001b[0m     \u001b[38;5;66;03m# Select only the statistics and p-values.\u001b[39;00m\n\u001b[0;32m   2712\u001b[0m     stats_columns \u001b[38;5;241m=\u001b[39m [c \u001b[38;5;28;01mfor\u001b[39;00m c \u001b[38;5;129;01min\u001b[39;00m results_df\u001b[38;5;241m.\u001b[39mcolumns\n\u001b[0;32m   2713\u001b[0m                      \u001b[38;5;28;01mif\u001b[39;00m c\u001b[38;5;241m.\u001b[39mstartswith(\u001b[38;5;124m\"\u001b[39m\u001b[38;5;124mstatistic\u001b[39m\u001b[38;5;124m\"\u001b[39m) \u001b[38;5;129;01mor\u001b[39;00m c\u001b[38;5;241m.\u001b[39mstartswith(\u001b[38;5;124m\"\u001b[39m\u001b[38;5;124mpvalue\u001b[39m\u001b[38;5;124m\"\u001b[39m)]\n",
      "File \u001b[1;32mc:\\Users\\user\\anaconda3\\lib\\site-packages\\dabest_jck\\_classes.py:2702\u001b[0m, in \u001b[0;36mEffectSizeDataFrame.results\u001b[1;34m(self)\u001b[0m\n\u001b[0;32m   2700\u001b[0m     \u001b[38;5;28;01mreturn\u001b[39;00m \u001b[38;5;28mself\u001b[39m\u001b[38;5;241m.\u001b[39m__results\n\u001b[0;32m   2701\u001b[0m \u001b[38;5;28;01mexcept\u001b[39;00m \u001b[38;5;167;01mAttributeError\u001b[39;00m:\n\u001b[1;32m-> 2702\u001b[0m     \u001b[38;5;28;43mself\u001b[39;49m\u001b[38;5;241;43m.\u001b[39;49m\u001b[43m__pre_calc\u001b[49m\u001b[43m(\u001b[49m\u001b[43m)\u001b[49m\n\u001b[0;32m   2703\u001b[0m     \u001b[38;5;28;01mreturn\u001b[39;00m \u001b[38;5;28mself\u001b[39m\u001b[38;5;241m.\u001b[39m__results\n",
      "File \u001b[1;32mc:\\Users\\user\\anaconda3\\lib\\site-packages\\dabest_jck\\_classes.py:2287\u001b[0m, in \u001b[0;36mEffectSizeDataFrame.__pre_calc\u001b[1;34m(self)\u001b[0m\n\u001b[0;32m   2284\u001b[0m     control \u001b[38;5;241m=\u001b[39m dat[dat[xvar] \u001b[38;5;241m==\u001b[39m cname][yvar]\u001b[38;5;241m.\u001b[39mcopy()\n\u001b[0;32m   2285\u001b[0m test \u001b[38;5;241m=\u001b[39m dat[dat[xvar] \u001b[38;5;241m==\u001b[39m tname][yvar]\u001b[38;5;241m.\u001b[39mcopy()\n\u001b[1;32m-> 2287\u001b[0m result \u001b[38;5;241m=\u001b[39m \u001b[43mTwoGroupsEffectSize\u001b[49m\u001b[43m(\u001b[49m\u001b[43mcontrol\u001b[49m\u001b[43m,\u001b[49m\u001b[43m \u001b[49m\u001b[43mtest\u001b[49m\u001b[43m,\u001b[49m\n\u001b[0;32m   2288\u001b[0m \u001b[43m                             \u001b[49m\u001b[38;5;28;43mself\u001b[39;49m\u001b[38;5;241;43m.\u001b[39;49m\u001b[43m__effect_size\u001b[49m\u001b[43m,\u001b[49m\n\u001b[0;32m   2289\u001b[0m \u001b[43m                             \u001b[49m\u001b[38;5;28;43mself\u001b[39;49m\u001b[38;5;241;43m.\u001b[39;49m\u001b[43m__proportional\u001b[49m\u001b[43m,\u001b[49m\n\u001b[0;32m   2290\u001b[0m \u001b[43m                             \u001b[49m\u001b[38;5;28;43mself\u001b[39;49m\u001b[38;5;241;43m.\u001b[39;49m\u001b[43m__is_paired\u001b[49m\u001b[43m,\u001b[49m\n\u001b[0;32m   2291\u001b[0m \u001b[43m                             \u001b[49m\u001b[38;5;28;43mself\u001b[39;49m\u001b[38;5;241;43m.\u001b[39;49m\u001b[43m__ci\u001b[49m\u001b[43m,\u001b[49m\n\u001b[0;32m   2292\u001b[0m \u001b[43m                             \u001b[49m\u001b[38;5;28;43mself\u001b[39;49m\u001b[38;5;241;43m.\u001b[39;49m\u001b[43m__resamples\u001b[49m\u001b[43m,\u001b[49m\n\u001b[0;32m   2293\u001b[0m \u001b[43m                             \u001b[49m\u001b[38;5;28;43mself\u001b[39;49m\u001b[38;5;241;43m.\u001b[39;49m\u001b[43m__permutation_count\u001b[49m\u001b[43m,\u001b[49m\n\u001b[0;32m   2294\u001b[0m \u001b[43m                             \u001b[49m\u001b[38;5;28;43mself\u001b[39;49m\u001b[38;5;241;43m.\u001b[39;49m\u001b[43m__random_seed\u001b[49m\u001b[43m)\u001b[49m\n\u001b[0;32m   2295\u001b[0m r_dict \u001b[38;5;241m=\u001b[39m result\u001b[38;5;241m.\u001b[39mto_dict()\n\u001b[0;32m   2296\u001b[0m r_dict[\u001b[38;5;124m\"\u001b[39m\u001b[38;5;124mcontrol\u001b[39m\u001b[38;5;124m\"\u001b[39m]   \u001b[38;5;241m=\u001b[39m cname\n",
      "File \u001b[1;32mc:\\Users\\user\\anaconda3\\lib\\site-packages\\dabest_jck\\_classes.py:1740\u001b[0m, in \u001b[0;36mTwoGroupsEffectSize.__init__\u001b[1;34m(self, control, test, effect_size, proportional, is_paired, ci, resamples, permutation_count, random_seed)\u001b[0m\n\u001b[0;32m   1733\u001b[0m \u001b[38;5;28mself\u001b[39m\u001b[38;5;241m.\u001b[39m__PermutationTest_result \u001b[38;5;241m=\u001b[39m PermutationTest(control, test, \n\u001b[0;32m   1734\u001b[0m                                                 effect_size, \n\u001b[0;32m   1735\u001b[0m                                                 is_paired,\n\u001b[0;32m   1736\u001b[0m                                                 permutation_count)\n\u001b[0;32m   1738\u001b[0m \u001b[38;5;28;01mif\u001b[39;00m is_paired \u001b[38;5;129;01mand\u001b[39;00m proportional \u001b[38;5;129;01mis\u001b[39;00m \u001b[38;5;28;01mFalse\u001b[39;00m:\n\u001b[0;32m   1739\u001b[0m     \u001b[38;5;66;03m# Wilcoxon, a non-parametric version of the paired T-test.\u001b[39;00m\n\u001b[1;32m-> 1740\u001b[0m     wilcoxon \u001b[38;5;241m=\u001b[39m \u001b[43mspstats\u001b[49m\u001b[38;5;241;43m.\u001b[39;49m\u001b[43mwilcoxon\u001b[49m\u001b[43m(\u001b[49m\u001b[43mcontrol\u001b[49m\u001b[43m,\u001b[49m\u001b[43m \u001b[49m\u001b[43mtest\u001b[49m\u001b[43m)\u001b[49m\n\u001b[0;32m   1741\u001b[0m     \u001b[38;5;28mself\u001b[39m\u001b[38;5;241m.\u001b[39m__pvalue_wilcoxon \u001b[38;5;241m=\u001b[39m wilcoxon\u001b[38;5;241m.\u001b[39mpvalue\n\u001b[0;32m   1742\u001b[0m     \u001b[38;5;28mself\u001b[39m\u001b[38;5;241m.\u001b[39m__statistic_wilcoxon \u001b[38;5;241m=\u001b[39m wilcoxon\u001b[38;5;241m.\u001b[39mstatistic\n",
      "File \u001b[1;32mc:\\Users\\user\\anaconda3\\lib\\site-packages\\scipy\\_lib\\_util.py:700\u001b[0m, in \u001b[0;36m_rename_parameter.<locals>.decorator.<locals>.wrapper\u001b[1;34m(*args, **kwargs)\u001b[0m\n\u001b[0;32m    698\u001b[0m         \u001b[38;5;28;01mraise\u001b[39;00m \u001b[38;5;167;01mTypeError\u001b[39;00m(message)\n\u001b[0;32m    699\u001b[0m     kwargs[new_name] \u001b[38;5;241m=\u001b[39m kwargs\u001b[38;5;241m.\u001b[39mpop(old_name)\n\u001b[1;32m--> 700\u001b[0m \u001b[38;5;28;01mreturn\u001b[39;00m fun(\u001b[38;5;241m*\u001b[39margs, \u001b[38;5;241m*\u001b[39m\u001b[38;5;241m*\u001b[39mkwargs)\n",
      "File \u001b[1;32mc:\\Users\\user\\anaconda3\\lib\\site-packages\\scipy\\stats\\_axis_nan_policy.py:502\u001b[0m, in \u001b[0;36m_axis_nan_policy_factory.<locals>.axis_nan_policy_decorator.<locals>.axis_nan_policy_wrapper\u001b[1;34m(***failed resolving arguments***)\u001b[0m\n\u001b[0;32m    500\u001b[0m \u001b[38;5;28;01mif\u001b[39;00m sentinel:\n\u001b[0;32m    501\u001b[0m     samples \u001b[38;5;241m=\u001b[39m _remove_sentinel(samples, paired, sentinel)\n\u001b[1;32m--> 502\u001b[0m res \u001b[38;5;241m=\u001b[39m hypotest_fun_out(\u001b[38;5;241m*\u001b[39msamples, \u001b[38;5;241m*\u001b[39m\u001b[38;5;241m*\u001b[39mkwds)\n\u001b[0;32m    503\u001b[0m res \u001b[38;5;241m=\u001b[39m result_to_tuple(res)\n\u001b[0;32m    504\u001b[0m res \u001b[38;5;241m=\u001b[39m _add_reduced_axes(res, reduced_axes, keepdims)\n",
      "File \u001b[1;32mc:\\Users\\user\\anaconda3\\lib\\site-packages\\scipy\\stats\\_morestats.py:3420\u001b[0m, in \u001b[0;36mwilcoxon\u001b[1;34m(x, y, zero_method, correction, alternative, method)\u001b[0m\n\u001b[0;32m   3418\u001b[0m \u001b[38;5;28;01mif\u001b[39;00m zero_method \u001b[38;5;129;01min\u001b[39;00m [\u001b[38;5;124m\"\u001b[39m\u001b[38;5;124mwilcox\u001b[39m\u001b[38;5;124m\"\u001b[39m, \u001b[38;5;124m\"\u001b[39m\u001b[38;5;124mpratt\u001b[39m\u001b[38;5;124m\"\u001b[39m]:\n\u001b[0;32m   3419\u001b[0m     \u001b[38;5;28;01mif\u001b[39;00m n_zero \u001b[38;5;241m==\u001b[39m \u001b[38;5;28mlen\u001b[39m(d):\n\u001b[1;32m-> 3420\u001b[0m         \u001b[38;5;28;01mraise\u001b[39;00m \u001b[38;5;167;01mValueError\u001b[39;00m(\u001b[38;5;124m\"\u001b[39m\u001b[38;5;124mzero_method \u001b[39m\u001b[38;5;124m'\u001b[39m\u001b[38;5;124mwilcox\u001b[39m\u001b[38;5;124m'\u001b[39m\u001b[38;5;124m and \u001b[39m\u001b[38;5;124m'\u001b[39m\u001b[38;5;124mpratt\u001b[39m\u001b[38;5;124m'\u001b[39m\u001b[38;5;124m do not \u001b[39m\u001b[38;5;124m\"\u001b[39m\n\u001b[0;32m   3421\u001b[0m                          \u001b[38;5;124m\"\u001b[39m\u001b[38;5;124mwork if x - y is zero for all elements.\u001b[39m\u001b[38;5;124m\"\u001b[39m)\n\u001b[0;32m   3422\u001b[0m \u001b[38;5;28;01mif\u001b[39;00m zero_method \u001b[38;5;241m==\u001b[39m \u001b[38;5;124m\"\u001b[39m\u001b[38;5;124mwilcox\u001b[39m\u001b[38;5;124m\"\u001b[39m:\n\u001b[0;32m   3423\u001b[0m     \u001b[38;5;66;03m# Keep all non-zero differences\u001b[39;00m\n\u001b[0;32m   3424\u001b[0m     d \u001b[38;5;241m=\u001b[39m compress(np\u001b[38;5;241m.\u001b[39mnot_equal(d, \u001b[38;5;241m0\u001b[39m), d)\n",
      "\u001b[1;31mValueError\u001b[0m: zero_method 'wilcox' and 'pratt' do not work if x - y is zero for all elements."
     ]
    }
   ],
   "source": [
    "dflists = ['df_bspeed', 'df_speed', 'df_time', 'df_fall','df_height', 'df_displacement', 'df_meanpause', 'df_pause','df_meanbout', 'df_bout','df_boutpos', 'df_pausepos','df_maxvelocity','df_straightindex', 'df_displacementbetweenpause']\n",
    "    \n",
    "dflists2 = [s.replace('df_', 'dfreg_') for s in dflists]\n",
    "\n",
    "for j in dflists2:\n",
    "    globals()[j]=pd.DataFrame()\n",
    "    \n",
    "diff = pd.DataFrame()\n",
    "diffbs = pd.DataFrame()\n",
    "\n",
    "for n in lst:\n",
    "    driver = n\n",
    "    transgenic = driver + \" x \" + responder\n",
    "    filename = openPath + transgenic + \".csv\"\n",
    "    filenamewt = openPath + wt+\"_\"+ transgenic + \".csv\"\n",
    "\n",
    "    dfe=pd.read_csv(filename)\n",
    "    dfw= pd.read_csv(filenamewt)\n",
    "\n",
    "    exptdf = dfe.drop(dfe.columns[[0]],axis = 1)\n",
    "    wtdf = dfw.drop(dfw.columns[[0]],axis = 1)\n",
    "\n",
    "    #adjust this depending on timeframe\n",
    "    dfexpt = fivesecondrule(NLCLIMB.generation(exptdf, driver))\n",
    "    dfwt = fivesecondrule(NLCLIMB.generation(wtdf, wt))\n",
    "        \n",
    "    \n",
    "    df_sp = NLMATH.ospeed(dfwt, dfexpt).reset_index(drop=True)\n",
    "    df_bsp = NLMATH.bspeed(NLMATH.boutspeed(dfexpt), NLMATH.boutspeed(dfwt)).reset_index(drop=True)\n",
    "    df_t = NLMATH.timetype(dfwt, dfexpt).reset_index(drop=True)\n",
    "    df_f = NLMATH.fallingocc(dfexpt, dfwt).reset_index(drop=True)\n",
    "    df_h = NLMATH.totalheight(dfexpt, dfwt).reset_index(drop=True)\n",
    "    df_d = pd.concat([NLMATH.totaldisp(dfexpt, \"Expt\"), NLMATH.totaldisp(dfwt, \"WT\")]).reset_index(drop=True)\n",
    "    df_bp = NLMATH.bheight(NLMATH.boutheight(dfexpt), NLMATH.boutheight(dfwt)).reset_index(drop=True)\n",
    "    df_pp = NLMATH.bheight(NLMATH.pauseheight(dfexpt), NLMATH.pauseheight(dfwt)).reset_index(drop=True)\n",
    "    \n",
    "    #newadditions\n",
    "    df_dispp = pd.concat([NLMATH.displacementbetweenpauses(dfexpt, \"Expt\"), NLMATH.displacementbetweenpauses(dfwt, \"WT\")], axis = 0).reset_index(drop=False)\n",
    "    df_maxv = pd.concat([NLMATH.maxvelocity(dfexpt, \"Expt\"), NLMATH.maxvelocity(dfwt, \"WT\")], axis = 0).reset_index(drop=False)\n",
    "    df_sim = pd.concat([NLMATH.straightnessindexmeter(dfexpt, \"Expt\"), NLMATH.straightnessindexmeter(dfwt, \"WT\")], axis = 0).reset_index(drop=True)\n",
    "    \n",
    "    #pause and bouts\n",
    "    wttotalmeanevent, wttotalnumberevent = NLMATH.pausecomp(dfwt, wt)\n",
    "    expttotalmeanevent, expttotalnumberevent = NLMATH.pausecomp(dfexpt, driver)\n",
    "        \n",
    "    alltgtmeandf_pause = pd.concat([NLMATH.pausenumber(wttotalmeanevent, n, \"Pauses\"), NLMATH.pausenumber(expttotalmeanevent, n, \"Pauses\")], axis = 0).reset_index(drop=True)\n",
    "    alltgtmeandf_bout = pd.concat([NLMATH.pausenumber(wttotalmeanevent, n, \"Bouts\"), NLMATH.pausenumber(expttotalmeanevent, n, \"Bouts\")], axis = 0).reset_index(drop=True)\n",
    "    \n",
    "    alltgtnumberdf_pause = pd.concat([NLMATH.pausenumber(wttotalnumberevent, n, \"Pauses\"), NLMATH.pausenumber(expttotalnumberevent, n, \"Pauses\")], axis = 0).reset_index(drop=True)\n",
    "    alltgtnumberdf_bout = pd.concat([NLMATH.pausenumber(wttotalnumberevent, n, \"Bouts\"), NLMATH.pausenumber(expttotalnumberevent, n, \"Bouts\")], axis = 0).reset_index(drop=True)\n",
    "            \n",
    "    #deltaG plots\n",
    "    dfs2 = NLMATH.deltaversion(df_sp, n, \"Velocity\")\n",
    "    dft2 = NLMATH.deltaversion(df_t, n, \"Time\")\n",
    "    dff2 = NLMATH.deltaversion(df_f, n, \"Fall\")\n",
    "    dfh2 = NLMATH.deltaversion(df_h, n, \"Y\")\n",
    "    dfd2 = NLMATH.deltaversion(df_d, n, \"displacement\")\n",
    "    dfbs2 = NLMATH.deltaversion(df_bsp, n, \"BSpeed\")\n",
    "    dfbp2 = NLMATH.deltaversion(df_bp, n, \"Height\")\n",
    "    dfpp2 = NLMATH.deltaversion(df_pp, n, \"Height\")\n",
    "    \n",
    "    #new additions\n",
    "    dfdbp2 = NLMATH.deltaversion(df_dispp, n, \"avgdisplacementbetweenpause\")\n",
    "    dfmv2 = NLMATH.deltaversion(df_maxv, n, \"maxvelocity\")\n",
    "    dfsim2 = NLMATH.deltaversion(df_sim, n, \"averagestraightnessindex\")\n",
    "    \n",
    "    #pause and bouts\n",
    "    dfmp2 = NLMATH.deltaversion(alltgtmeandf_pause, n, \"Pauses\")\n",
    "    dfmb2 = NLMATH.deltaversion(alltgtmeandf_bout, n, \"Bouts\")     \n",
    "    dfnp2 = NLMATH.deltaversion(alltgtnumberdf_pause, n, \"Pauses\")\n",
    "    dfnb2 = NLMATH.deltaversion(alltgtnumberdf_bout, n, \"Bouts\")\n",
    "    \n",
    "\n",
    "    #regressiondfs\n",
    "    dfreg_speed = pd.concat([dfreg_speed, dfs2], axis = 0).reset_index(drop=True)\n",
    "    dfreg_time = pd.concat([dfreg_time, dft2], axis = 0).reset_index(drop=True)\n",
    "    dfreg_fall = pd.concat([dfreg_fall, dff2], axis = 0).reset_index(drop=True)\n",
    "    dfreg_height = pd.concat([dfreg_height, dfh2], axis = 0).reset_index(drop=True)\n",
    "    dfreg_displacement = pd.concat([dfreg_displacement, dfd2], axis = 0).reset_index(drop=True)\n",
    "    dfreg_bspeed = pd.concat([dfreg_bspeed, dfbs2], axis = 0).reset_index(drop=True)\n",
    "    dfreg_boutpos = pd.concat([dfreg_boutpos, dfbp2], axis = 0).reset_index(drop=True)\n",
    "    dfreg_pausepos = pd.concat([dfreg_pausepos, dfpp2], axis = 0).reset_index(drop=True)\n",
    "    \n",
    "    dfreg_pause = pd.concat([dfreg_pause, dfnp2], axis = 0).reset_index(drop=True)\n",
    "    dfreg_meanpause = pd.concat([dfreg_meanpause, dfmp2], axis = 0).reset_index(drop=True)\n",
    "    dfreg_bout = pd.concat([dfreg_bout, dfnb2], axis = 0).reset_index(drop=True)\n",
    "    dfreg_meanbout = pd.concat([dfreg_meanbout, dfmb2], axis = 0).reset_index(drop=True)\n",
    "    \n",
    "    dfreg_displacementbetweenpause = pd.concat([dfreg_displacementbetweenpause, dfdbp2], axis = 0).reset_index(drop=True)\n",
    "    dfreg_maxvelocity = pd.concat([dfreg_maxvelocity, dfmv2], axis = 0).reset_index(drop=True)\n",
    "    dfreg_straightindex = pd.concat([dfreg_straightindex, dfsim2], axis = 0).reset_index(drop=True)\n",
    "    \n",
    "    #arranging based on SPEED values\n",
    "    \n",
    "    df6 = df_sp[(df_sp['ExperimentState'] != \"Recovery\") ]       \n",
    "    name = []\n",
    "    if any(df6[\"Velocity\"].isnull()):\n",
    "        name = df6[df6[\"Velocity\"].isnull()]['index'].tolist()\n",
    "    dfsp_db = df6[~df6['index'].isin(name)]\n",
    "        \n",
    "    dfsp_db2 = dabest_jck.load(data = dfsp_db, x = [\"ExperimentState\", \"Type\"], y = \"Velocity\",  delta2 = True, experiment = \"Type\",\n",
    "                            experiment_label = ['WT', 'Expt'], x1_level = [\"Dark\", \"Full\"], paired = \"baseline\", id_col=\"index\" ) #if delta2 = dabest; deltaG = dabest_jck\n",
    "    dfstatstest = dfsp_db2.delta_g.statistical_tests \n",
    "    diff2 = pd.DataFrame(data = round(dfsp_db2.delta_g.delta_delta.difference,3), columns = ['delta_g'], index = [n])\n",
    "    diff = pd.concat([diff, diff2])"
   ]
  },
  {
   "cell_type": "code",
   "execution_count": 68,
   "id": "d56c2b6d",
   "metadata": {},
   "outputs": [
    {
     "data": {
      "text/html": [
       "<div>\n",
       "<style scoped>\n",
       "    .dataframe tbody tr th:only-of-type {\n",
       "        vertical-align: middle;\n",
       "    }\n",
       "\n",
       "    .dataframe tbody tr th {\n",
       "        vertical-align: top;\n",
       "    }\n",
       "\n",
       "    .dataframe thead th {\n",
       "        text-align: right;\n",
       "    }\n",
       "</style>\n",
       "<table border=\"1\" class=\"dataframe\">\n",
       "  <thead>\n",
       "    <tr style=\"text-align: right;\">\n",
       "      <th></th>\n",
       "      <th>index</th>\n",
       "      <th>Fall</th>\n",
       "      <th>ExperimentState</th>\n",
       "      <th>Type</th>\n",
       "      <th>genre</th>\n",
       "      <th>value</th>\n",
       "    </tr>\n",
       "  </thead>\n",
       "  <tbody>\n",
       "    <tr>\n",
       "      <th>0</th>\n",
       "      <td>MB057B Fall_1</td>\n",
       "      <td>0.0</td>\n",
       "      <td>Dark</td>\n",
       "      <td>Expt</td>\n",
       "      <td>Dark Expt</td>\n",
       "      <td>0</td>\n",
       "    </tr>\n",
       "    <tr>\n",
       "      <th>1</th>\n",
       "      <td>MB057B Fall_2</td>\n",
       "      <td>0.0</td>\n",
       "      <td>Dark</td>\n",
       "      <td>Expt</td>\n",
       "      <td>Dark Expt</td>\n",
       "      <td>0</td>\n",
       "    </tr>\n",
       "    <tr>\n",
       "      <th>2</th>\n",
       "      <td>MB057B Fall_3</td>\n",
       "      <td>0.0</td>\n",
       "      <td>Dark</td>\n",
       "      <td>Expt</td>\n",
       "      <td>Dark Expt</td>\n",
       "      <td>0</td>\n",
       "    </tr>\n",
       "    <tr>\n",
       "      <th>3</th>\n",
       "      <td>MB057B Fall_5</td>\n",
       "      <td>0.0</td>\n",
       "      <td>Dark</td>\n",
       "      <td>Expt</td>\n",
       "      <td>Dark Expt</td>\n",
       "      <td>0</td>\n",
       "    </tr>\n",
       "    <tr>\n",
       "      <th>4</th>\n",
       "      <td>MB057B Fall_6</td>\n",
       "      <td>0.0</td>\n",
       "      <td>Dark</td>\n",
       "      <td>Expt</td>\n",
       "      <td>Dark Expt</td>\n",
       "      <td>0</td>\n",
       "    </tr>\n",
       "    <tr>\n",
       "      <th>...</th>\n",
       "      <td>...</td>\n",
       "      <td>...</td>\n",
       "      <td>...</td>\n",
       "      <td>...</td>\n",
       "      <td>...</td>\n",
       "      <td>...</td>\n",
       "    </tr>\n",
       "    <tr>\n",
       "      <th>503</th>\n",
       "      <td>w1118 Fall_241</td>\n",
       "      <td>0.0</td>\n",
       "      <td>Full</td>\n",
       "      <td>WT</td>\n",
       "      <td>Full WT</td>\n",
       "      <td>0</td>\n",
       "    </tr>\n",
       "    <tr>\n",
       "      <th>504</th>\n",
       "      <td>w1118 Fall_243</td>\n",
       "      <td>0.0</td>\n",
       "      <td>Full</td>\n",
       "      <td>WT</td>\n",
       "      <td>Full WT</td>\n",
       "      <td>0</td>\n",
       "    </tr>\n",
       "    <tr>\n",
       "      <th>505</th>\n",
       "      <td>w1118 Fall_244</td>\n",
       "      <td>0.0</td>\n",
       "      <td>Full</td>\n",
       "      <td>WT</td>\n",
       "      <td>Full WT</td>\n",
       "      <td>0</td>\n",
       "    </tr>\n",
       "    <tr>\n",
       "      <th>506</th>\n",
       "      <td>w1118 Fall_245</td>\n",
       "      <td>0.0</td>\n",
       "      <td>Full</td>\n",
       "      <td>WT</td>\n",
       "      <td>Full WT</td>\n",
       "      <td>0</td>\n",
       "    </tr>\n",
       "    <tr>\n",
       "      <th>507</th>\n",
       "      <td>w1118 Fall_246</td>\n",
       "      <td>0.0</td>\n",
       "      <td>Full</td>\n",
       "      <td>WT</td>\n",
       "      <td>Full WT</td>\n",
       "      <td>0</td>\n",
       "    </tr>\n",
       "  </tbody>\n",
       "</table>\n",
       "<p>508 rows × 6 columns</p>\n",
       "</div>"
      ],
      "text/plain": [
       "              index  Fall ExperimentState  Type      genre  value\n",
       "0     MB057B Fall_1   0.0            Dark  Expt  Dark Expt      0\n",
       "1     MB057B Fall_2   0.0            Dark  Expt  Dark Expt      0\n",
       "2     MB057B Fall_3   0.0            Dark  Expt  Dark Expt      0\n",
       "3     MB057B Fall_5   0.0            Dark  Expt  Dark Expt      0\n",
       "4     MB057B Fall_6   0.0            Dark  Expt  Dark Expt      0\n",
       "..              ...   ...             ...   ...        ...    ...\n",
       "503  w1118 Fall_241   0.0            Full    WT    Full WT      0\n",
       "504  w1118 Fall_243   0.0            Full    WT    Full WT      0\n",
       "505  w1118 Fall_244   0.0            Full    WT    Full WT      0\n",
       "506  w1118 Fall_245   0.0            Full    WT    Full WT      0\n",
       "507  w1118 Fall_246   0.0            Full    WT    Full WT      0\n",
       "\n",
       "[508 rows x 6 columns]"
      ]
     },
     "execution_count": 68,
     "metadata": {},
     "output_type": "execute_result"
    }
   ],
   "source": [
    "df_f"
   ]
  },
  {
   "cell_type": "code",
   "execution_count": 59,
   "id": "8b70435f",
   "metadata": {},
   "outputs": [],
   "source": [
    "#special instance\n",
    "# diff = diff.set_axis(pd.MultiIndex.from_arrays([diff.columns,\n",
    "#                                         diff.groupby(level=0, axis=1).cumcount()\n",
    "#                                        ]), axis=1)\n",
    "# diff = diff.stack(level = 1)\n",
    "# diff = diff.droplevel(1)\n",
    "\n",
    "# #SPEED: sorting lists, arranging in ascending order\n",
    "\n",
    "diff_sorted=diff.sort_values(by = \"delta_g\", ascending=True)\n",
    "sortedindex = diff_sorted.index.tolist()\n",
    "dblist= pd.DataFrame() \n",
    "dblist['MBON'] = sortedindex"
   ]
  },
  {
   "cell_type": "code",
   "execution_count": 60,
   "id": "1714d572",
   "metadata": {},
   "outputs": [],
   "source": [
    "def get_df_name(df):\n",
    "    name =[x for x in globals() if globals()[x] is df][0]\n",
    "    return name"
   ]
  },
  {
   "cell_type": "code",
   "execution_count": 61,
   "id": "10443a2d",
   "metadata": {},
   "outputs": [],
   "source": [
    "df2list = [eval(xi) for xi in dflists2]\n",
    "\n",
    "for nn in df2list:\n",
    "    nn.set_index(\"MBON\", inplace = True)\n",
    "    nn.to_csv(openPath + \"Compilation with delta\\\\fivesecondrule\\\\\" + responder + \" \" + get_df_name(nn) + \" .csv\")\n",
    "\n",
    "pdlist = pd.DataFrame(dblist)\n",
    "pdlist.to_csv(openPath + \"Compilation with delta\\\\fivesecondrule\\\\\" + responder + \" \" + \"dblist .csv\")"
   ]
  },
  {
   "cell_type": "markdown",
   "id": "660d3646",
   "metadata": {},
   "source": [
    "# run if old files"
   ]
  },
  {
   "cell_type": "code",
   "execution_count": null,
   "id": "ce4c31ea",
   "metadata": {},
   "outputs": [],
   "source": [
    "newfile = openPath + \"Compilation with delta\\\\fivesecondrule\\\\\"\n",
    "files = os.listdir(newfile)\n",
    "\n",
    "for y in files:\n",
    "    if responder in y:\n",
    "        name = y.split(\" \")[1]\n",
    "        newfileread = pd.read_csv(newfile + y)\n",
    "        globals()[name] = (newfileread.set_index(\"MBON\"))"
   ]
  },
  {
   "cell_type": "markdown",
   "id": "9f636b38",
   "metadata": {},
   "source": [
    "# heatmap version"
   ]
  },
  {
   "cell_type": "code",
   "execution_count": 50,
   "id": "2100d179",
   "metadata": {},
   "outputs": [],
   "source": [
    "#delta g only\n",
    "dblist = dblist.set_index(\"MBON\")\n",
    "\n",
    "import scikits.bootstrap as skb\n",
    "dfreg2 = pd.DataFrame()\n",
    "for n in list(dblist.index):\n",
    "    dfreg = pd.DataFrame()\n",
    "    dfreg[\"Bout\\n speed\"] = dfreg_bspeed[dfreg_bspeed.index == n]['delta_g']\n",
    "    dfreg[\"Speed\"] = dfreg_speed[dfreg_speed.index == n]['delta_g']\n",
    "    dfreg[\"Fall #\"] = dfreg_fall[dfreg_fall.index == n]['delta_g']\n",
    "    dfreg[\"Height\"] = dfreg_height[dfreg_height.index == n]['delta_g']\n",
    "    dfreg[\"Time \\n to reach 3/4 chamber\"] = dfreg_time[dfreg_time.index == n]['delta_g']\n",
    "    dfreg[\"Mean\\n Pause\"] = dfreg_meanpause[dfreg_meanpause.index == n]['delta_g']\n",
    "    dfreg[\"Pause #\"] = dfreg_pause[dfreg_pause.index == n]['delta_g']\n",
    "    dfreg[\"Mean\\n Bout\"] = dfreg_meanbout[dfreg_meanbout.index == n]['delta_g']\n",
    "    dfreg[\"Bout #\"] = dfreg_bout[dfreg_bout.index == n]['delta_g']\n",
    "    dfreg[\"Bout\\n position\"] = dfreg_boutpos[dfreg_boutpos.index == n]['delta_g']\n",
    "    dfreg[\"Pause\\n position\"] = dfreg_pausepos[dfreg_pausepos.index == n]['delta_g']\n",
    "    #new features\n",
    "    dfreg[\"Max\\n velocity\"] = dfreg_maxvelocity[dfreg_maxvelocity.index == n]['delta_g']\n",
    "    dfreg[\"Avg Straightness\\n index\"] = dfreg_straightindex[dfreg_straightindex.index == n]['delta_g']\n",
    "    dfreg[\"displacement\\n between\\n pause\"] = dfreg_displacementbetweenpause[dfreg_displacementbetweenpause.index == n]['delta_g']\n",
    "    dfreg['MBON'] = n\n",
    "    dfreg2 = pd.concat([dfreg2, dfreg], axis = 0).reset_index(drop=True)"
   ]
  },
  {
   "cell_type": "code",
   "execution_count": 52,
   "id": "0934f23f",
   "metadata": {},
   "outputs": [
    {
     "data": {
      "image/png": "[encoded data removed]",
      "text/plain": [
       "<Figure size 1200x600 with 2 Axes>"
      ]
     },
     "metadata": {},
     "output_type": "display_data"
    }
   ],
   "source": [
    "df5 = dfreg2.set_index(['MBON'])\n",
    "fig, ax1 = plt.subplots(figsize=(12, 6))                \n",
    "g1 = sns.heatmap(df5, annot=True, fmt=\".1f\", vmin = -1.5, vmax = 1.5, cmap='coolwarm', linewidths=0.5, linecolor='black', clip_on=False)\n",
    "g1.set_ylabel('')\n",
    "g1.set_yticklabels(g1.get_yticklabels(), rotation = 0, fontsize = 9)\n",
    "g1.set_xticklabels(g1.get_xticklabels(), rotation = 0, fontsize = 9)\n",
    "ax1.set_title('Plot of MBONs > ' + responder + ' and their delta-g across locomotor reactivity parameters')\n",
    "fig.tight_layout()\n",
    "#plt.savefig(openPath + \"images\\\\deltagheatmap_5secondrule\" + responder + \"_\" + date + \".png\", dpi = 1200)"
   ]
  },
  {
   "cell_type": "code",
   "execution_count": 53,
   "id": "ff728022",
   "metadata": {},
   "outputs": [],
   "source": [
    "#delta and delta g heatmap\n",
    "# \n",
    "dfreglist = [dfreg_bspeed, dfreg_speed, dfreg_fall,dfreg_height, dfreg_meanpause, dfreg_pause,dfreg_meanbout, dfreg_bout,dfreg_boutpos, dfreg_pausepos,dfreg_maxvelocity,dfreg_straightindex, dfreg_displacementbetweenpause]\n",
    "totalregdf = pd.DataFrame()\n",
    "\n",
    "for n,k in zip(dfreg2.columns, dfreglist):\n",
    "    k.columns = pd.MultiIndex.from_product([[n], k.columns.tolist()])\n",
    "    totalregdf = pd.concat([totalregdf, k], axis =1)\n"
   ]
  },
  {
   "cell_type": "code",
   "execution_count": 54,
   "id": "cdc9e3b8",
   "metadata": {},
   "outputs": [
    {
     "data": {
      "application/vnd.plotly.v1+json": {
       "config": {
        "plotlyServerURL": "https://plot.ly"
       },
       "data": [
        {
         "coloraxis": "coloraxis",
         "hovertemplate": "x: %{x}<br>MBON: %{y}<br>color: %{z}<extra></extra>",
         "name": "0",
         "texttemplate": "%{z}",
         "type": "heatmap",
         "x": [
          "WT",
          "Expt",
          "delta_g"
         ],
         "xaxis": "x",
         "y": [
          "MB018B",
          "MB323B",
          "MB112C"
         ],
         "yaxis": "y",
         "z": [
          [
           0.6,
           0.4,
           -0.4
          ],
          [
           0.3,
           0.1,
           -0.2
          ],
          [
           0.5,
           0.2,
           -0.4
          ]
         ]
        },
        {
         "coloraxis": "coloraxis",
         "hovertemplate": "x: %{x}<br>MBON: %{y}<br>color: %{z}<extra></extra>",
         "name": "0",
         "texttemplate": "%{z}",
         "type": "heatmap",
         "x": [
          "WT",
          "Expt",
          "delta_g"
         ],
         "xaxis": "x2",
         "y": [
          "MB018B",
          "MB323B",
          "MB112C"
         ],
         "yaxis": "y2",
         "z": [
          [
           0.4,
           0.2,
           -0.3
          ],
          [
           0.1,
           0.1,
           0
          ],
          [
           0.4,
           0.1,
           -0.2
          ]
         ]
        },
        {
         "coloraxis": "coloraxis",
         "hovertemplate": "x: %{x}<br>MBON: %{y}<br>color: %{z}<extra></extra>",
         "name": "0",
         "texttemplate": "%{z}",
         "type": "heatmap",
         "x": [
          "WT",
          "Expt",
          "delta_g"
         ],
         "xaxis": "x3",
         "y": [
          "MB018B",
          "MB323B",
          "MB112C"
         ],
         "yaxis": "y3",
         "z": [
          [
           0.2,
           -0.3,
           -0.6
          ],
          [
           -0.1,
           0,
           0.1
          ],
          [
           0.1,
           0.2,
           0.1
          ]
         ]
        },
        {
         "coloraxis": "coloraxis",
         "hovertemplate": "x: %{x}<br>MBON: %{y}<br>color: %{z}<extra></extra>",
         "name": "0",
         "texttemplate": "%{z}",
         "type": "heatmap",
         "x": [
          "WT",
          "Expt",
          "delta_g"
         ],
         "xaxis": "x4",
         "y": [
          "MB018B",
          "MB323B",
          "MB112C"
         ],
         "yaxis": "y4",
         "z": [
          [
           -0.2,
           0.4,
           0.5
          ],
          [
           0,
           -0.2,
           -0.2
          ],
          [
           -0.2,
           0,
           0.2
          ]
         ]
        },
        {
         "coloraxis": "coloraxis",
         "hovertemplate": "x: %{x}<br>MBON: %{y}<br>color: %{z}<extra></extra>",
         "name": "0",
         "texttemplate": "%{z}",
         "type": "heatmap",
         "x": [
          "WT",
          "Expt",
          "delta_g"
         ],
         "xaxis": "x5",
         "y": [
          "MB018B",
          "MB323B",
          "MB112C"
         ],
         "yaxis": "y5",
         "z": [
          [
           0,
           0.1,
           0.1
          ],
          [
           0.3,
           -0.3,
           -0.7
          ],
          [
           0.1,
           -0.1,
           -0.2
          ]
         ]
        },
        {
         "coloraxis": "coloraxis",
         "hovertemplate": "x: %{x}<br>MBON: %{y}<br>color: %{z}<extra></extra>",
         "name": "0",
         "texttemplate": "%{z}",
         "type": "heatmap",
         "x": [
          "WT",
          "Expt",
          "delta_g"
         ],
         "xaxis": "x6",
         "y": [
          "MB018B",
          "MB323B",
          "MB112C"
         ],
         "yaxis": "y6",
         "z": [
          [
           0,
           0.2,
           0.2
          ],
          [
           0.2,
           0.2,
           0.1
          ],
          [
           0.1,
           0.2,
           0.2
          ]
         ]
        },
        {
         "coloraxis": "coloraxis",
         "hovertemplate": "x: %{x}<br>MBON: %{y}<br>color: %{z}<extra></extra>",
         "name": "0",
         "texttemplate": "%{z}",
         "type": "heatmap",
         "x": [
          "WT",
          "Expt",
          "delta_g"
         ],
         "xaxis": "x7",
         "y": [
          "MB018B",
          "MB323B",
          "MB112C"
         ],
         "yaxis": "y7",
         "z": [
          [
           -0.3,
           -0.3,
           0
          ],
          [
           -0.5,
           -0.1,
           0.3
          ],
          [
           -0.3,
           -0.3,
           -0.1
          ]
         ]
        },
        {
         "coloraxis": "coloraxis",
         "hovertemplate": "x: %{x}<br>MBON: %{y}<br>color: %{z}<extra></extra>",
         "name": "0",
         "texttemplate": "%{z}",
         "type": "heatmap",
         "x": [
          "WT",
          "Expt",
          "delta_g"
         ],
         "xaxis": "x8",
         "y": [
          "MB018B",
          "MB323B",
          "MB112C"
         ],
         "yaxis": "y8",
         "z": [
          [
           0.2,
           0.2,
           0
          ],
          [
           0.2,
           0.3,
           0.1
          ],
          [
           0.2,
           0.4,
           0.2
          ]
         ]
        },
        {
         "coloraxis": "coloraxis",
         "hovertemplate": "x: %{x}<br>MBON: %{y}<br>color: %{z}<extra></extra>",
         "name": "0",
         "texttemplate": "%{z}",
         "type": "heatmap",
         "x": [
          "WT",
          "Expt",
          "delta_g"
         ],
         "xaxis": "x9",
         "y": [
          "MB018B",
          "MB323B",
          "MB112C"
         ],
         "yaxis": "y9",
         "z": [
          [
           -0.1,
           0.4,
           0.5
          ],
          [
           0.1,
           -0.1,
           -0.2
          ],
          [
           -0.1,
           0,
           0.1
          ]
         ]
        },
        {
         "coloraxis": "coloraxis",
         "hovertemplate": "x: %{x}<br>MBON: %{y}<br>color: %{z}<extra></extra>",
         "name": "0",
         "texttemplate": "%{z}",
         "type": "heatmap",
         "x": [
          "WT",
          "Expt",
          "delta_g"
         ],
         "xaxis": "x10",
         "y": [
          "MB018B",
          "MB323B",
          "MB112C"
         ],
         "yaxis": "y10",
         "z": [
          [
           -0.4,
           0.4,
           0.8
          ],
          [
           0,
           -0.1,
           0
          ],
          [
           -0.4,
           0,
           0.4
          ]
         ]
        },
        {
         "coloraxis": "coloraxis",
         "hovertemplate": "x: %{x}<br>MBON: %{y}<br>color: %{z}<extra></extra>",
         "name": "0",
         "texttemplate": "%{z}",
         "type": "heatmap",
         "x": [
          "WT",
          "Expt",
          "delta_g"
         ],
         "xaxis": "x11",
         "y": [
          "MB018B",
          "MB323B",
          "MB112C"
         ],
         "yaxis": "y11",
         "z": [
          [
           1.9,
           1.3,
           -1.1
          ],
          [
           1,
           0.7,
           -0.2
          ],
          [
           1.4,
           1.1,
           -0.8
          ]
         ]
        },
        {
         "coloraxis": "coloraxis",
         "hovertemplate": "x: %{x}<br>MBON: %{y}<br>color: %{z}<extra></extra>",
         "name": "0",
         "texttemplate": "%{z}",
         "type": "heatmap",
         "x": [
          "WT",
          "Expt",
          "delta_g"
         ],
         "xaxis": "x12",
         "y": [
          "MB018B",
          "MB323B",
          "MB112C"
         ],
         "yaxis": "y12",
         "z": [
          [
           -0.4,
           -0.2,
           0.2
          ],
          [
           -0.3,
           0.2,
           0.5
          ],
          [
           -0.4,
           -0.6,
           -0.4
          ]
         ]
        },
        {
         "coloraxis": "coloraxis",
         "hovertemplate": "x: %{x}<br>MBON: %{y}<br>color: %{z}<extra></extra>",
         "name": "0",
         "texttemplate": "%{z}",
         "type": "heatmap",
         "x": [
          "WT",
          "Expt",
          "delta_g"
         ],
         "xaxis": "x13",
         "y": [
          "MB018B",
          "MB323B",
          "MB112C"
         ],
         "yaxis": "y13",
         "z": [
          [
           0,
           -0.1,
           -0.1
          ],
          [
           -0.2,
           0,
           0.2
          ],
          [
           0,
           -0.2,
           -0.1
          ]
         ]
        }
       ],
       "layout": {
        "annotations": [
         {
          "font": {
           "size": 12
          },
          "showarrow": false,
          "text": "Bout\n speed",
          "x": 0.03153846153846154,
          "xanchor": "center",
          "xref": "paper",
          "y": 1,
          "yanchor": "bottom",
          "yref": "paper",
          "yshift": -870
         },
         {
          "font": {
           "size": 12
          },
          "showarrow": false,
          "text": "Speed",
          "x": 0.10961538461538464,
          "xanchor": "center",
          "xref": "paper",
          "y": 1,
          "yanchor": "bottom",
          "yref": "paper",
          "yshift": -870
         },
         {
          "font": {
           "size": 12
          },
          "showarrow": false,
          "text": "Fall #",
          "x": 0.1876923076923077,
          "xanchor": "center",
          "xref": "paper",
          "y": 1,
          "yanchor": "bottom",
          "yref": "paper",
          "yshift": -870
         },
         {
          "font": {
           "size": 12
          },
          "showarrow": false,
          "text": "Height",
          "x": 0.26576923076923076,
          "xanchor": "center",
          "xref": "paper",
          "y": 1,
          "yanchor": "bottom",
          "yref": "paper",
          "yshift": -870
         },
         {
          "font": {
           "size": 12
          },
          "showarrow": false,
          "text": "Time \n to reach 3/4 chamber",
          "x": 0.3438461538461539,
          "xanchor": "center",
          "xref": "paper",
          "y": 1,
          "yanchor": "bottom",
          "yref": "paper",
          "yshift": -870
         },
         {
          "font": {
           "size": 12
          },
          "showarrow": false,
          "text": "Mean\n Pause",
          "x": 0.42192307692307696,
          "xanchor": "center",
          "xref": "paper",
          "y": 1,
          "yanchor": "bottom",
          "yref": "paper",
          "yshift": -870
         },
         {
          "font": {
           "size": 12
          },
          "showarrow": false,
          "text": "Pause #",
          "x": 0.5,
          "xanchor": "center",
          "xref": "paper",
          "y": 1,
          "yanchor": "bottom",
          "yref": "paper",
          "yshift": -870
         },
         {
          "font": {
           "size": 12
          },
          "showarrow": false,
          "text": "Mean\n Bout",
          "x": 0.5780769230769232,
          "xanchor": "center",
          "xref": "paper",
          "y": 1,
          "yanchor": "bottom",
          "yref": "paper",
          "yshift": -870
         },
         {
          "font": {
           "size": 12
          },
          "showarrow": false,
          "text": "Bout #",
          "x": 0.6561538461538463,
          "xanchor": "center",
          "xref": "paper",
          "y": 1,
          "yanchor": "bottom",
          "yref": "paper",
          "yshift": -870
         },
         {
          "font": {
           "size": 12
          },
          "showarrow": false,
          "text": "Bout\n position",
          "x": 0.7342307692307692,
          "xanchor": "center",
          "xref": "paper",
          "y": 1,
          "yanchor": "bottom",
          "yref": "paper",
          "yshift": -870
         },
         {
          "font": {
           "size": 12
          },
          "showarrow": false,
          "text": "Pause\n position",
          "x": 0.8123076923076924,
          "xanchor": "center",
          "xref": "paper",
          "y": 1,
          "yanchor": "bottom",
          "yref": "paper",
          "yshift": -870
         },
         {
          "font": {
           "size": 12
          },
          "showarrow": false,
          "text": "Max\n velocity",
          "x": 0.8903846153846153,
          "xanchor": "center",
          "xref": "paper",
          "y": 1,
          "yanchor": "bottom",
          "yref": "paper",
          "yshift": -870
         },
         {
          "font": {
           "size": 12
          },
          "showarrow": false,
          "text": "Avg Straightness\n index",
          "x": 0.9684615384615383,
          "xanchor": "center",
          "xref": "paper",
          "y": 1,
          "yanchor": "bottom",
          "yref": "paper",
          "yshift": -870
         }
        ],
        "height": 1000,
        "template": {
         "data": {
          "bar": [
           {
            "error_x": {
             "color": "#2a3f5f"
            },
            "error_y": {
             "color": "#2a3f5f"
            },
            "marker": {
             "line": {
              "color": "#E5ECF6",
              "width": 0.5
             },
             "pattern": {
              "fillmode": "overlay",
              "size": 10,
              "solidity": 0.2
             }
            },
            "type": "bar"
           }
          ],
          "barpolar": [
           {
            "marker": {
             "line": {
              "color": "#E5ECF6",
              "width": 0.5
             },
             "pattern": {
              "fillmode": "overlay",
              "size": 10,
              "solidity": 0.2
             }
            },
            "type": "barpolar"
           }
          ],
          "carpet": [
           {
            "aaxis": {
             "endlinecolor": "#2a3f5f",
             "gridcolor": "white",
             "linecolor": "white",
             "minorgridcolor": "white",
             "startlinecolor": "#2a3f5f"
            },
            "baxis": {
             "endlinecolor": "#2a3f5f",
             "gridcolor": "white",
             "linecolor": "white",
             "minorgridcolor": "white",
             "startlinecolor": "#2a3f5f"
            },
            "type": "carpet"
           }
          ],
          "choropleth": [
           {
            "colorbar": {
             "outlinewidth": 0,
             "ticks": ""
            },
            "type": "choropleth"
           }
          ],
          "contour": [
           {
            "colorbar": {
             "outlinewidth": 0,
             "ticks": ""
            },
            "colorscale": [
             [
              0,
              "#0d0887"
             ],
             [
              0.1111111111111111,
              "#46039f"
             ],
             [
              0.2222222222222222,
              "#7201a8"
             ],
             [
              0.3333333333333333,
              "#9c179e"
             ],
             [
              0.4444444444444444,
              "#bd3786"
             ],
             [
              0.5555555555555556,
              "#d8576b"
             ],
             [
              0.6666666666666666,
              "#ed7953"
             ],
             [
              0.7777777777777778,
              "#fb9f3a"
             ],
             [
              0.8888888888888888,
              "#fdca26"
             ],
             [
              1,
              "#f0f921"
             ]
            ],
            "type": "contour"
           }
          ],
          "contourcarpet": [
           {
            "colorbar": {
             "outlinewidth": 0,
             "ticks": ""
            },
            "type": "contourcarpet"
           }
          ],
          "heatmap": [
           {
            "colorbar": {
             "outlinewidth": 0,
             "ticks": ""
            },
            "colorscale": [
             [
              0,
              "#0d0887"
             ],
             [
              0.1111111111111111,
              "#46039f"
             ],
             [
              0.2222222222222222,
              "#7201a8"
             ],
             [
              0.3333333333333333,
              "#9c179e"
             ],
             [
              0.4444444444444444,
              "#bd3786"
             ],
             [
              0.5555555555555556,
              "#d8576b"
             ],
             [
              0.6666666666666666,
              "#ed7953"
             ],
             [
              0.7777777777777778,
              "#fb9f3a"
             ],
             [
              0.8888888888888888,
              "#fdca26"
             ],
             [
              1,
              "#f0f921"
             ]
            ],
            "type": "heatmap"
           }
          ],
          "heatmapgl": [
           {
            "colorbar": {
             "outlinewidth": 0,
             "ticks": ""
            },
            "colorscale": [
             [
              0,
              "#0d0887"
             ],
             [
              0.1111111111111111,
              "#46039f"
             ],
             [
              0.2222222222222222,
              "#7201a8"
             ],
             [
              0.3333333333333333,
              "#9c179e"
             ],
             [
              0.4444444444444444,
              "#bd3786"
             ],
             [
              0.5555555555555556,
              "#d8576b"
             ],
             [
              0.6666666666666666,
              "#ed7953"
             ],
             [
              0.7777777777777778,
              "#fb9f3a"
             ],
             [
              0.8888888888888888,
              "#fdca26"
             ],
             [
              1,
              "#f0f921"
             ]
            ],
            "type": "heatmapgl"
           }
          ],
          "histogram": [
           {
            "marker": {
             "pattern": {
              "fillmode": "overlay",
              "size": 10,
              "solidity": 0.2
             }
            },
            "type": "histogram"
           }
          ],
          "histogram2d": [
           {
            "colorbar": {
             "outlinewidth": 0,
             "ticks": ""
            },
            "colorscale": [
             [
              0,
              "#0d0887"
             ],
             [
              0.1111111111111111,
              "#46039f"
             ],
             [
              0.2222222222222222,
              "#7201a8"
             ],
             [
              0.3333333333333333,
              "#9c179e"
             ],
             [
              0.4444444444444444,
              "#bd3786"
             ],
             [
              0.5555555555555556,
              "#d8576b"
             ],
             [
              0.6666666666666666,
              "#ed7953"
             ],
             [
              0.7777777777777778,
              "#fb9f3a"
             ],
             [
              0.8888888888888888,
              "#fdca26"
             ],
             [
              1,
              "#f0f921"
             ]
            ],
            "type": "histogram2d"
           }
          ],
          "histogram2dcontour": [
           {
            "colorbar": {
             "outlinewidth": 0,
             "ticks": ""
            },
            "colorscale": [
             [
              0,
              "#0d0887"
             ],
             [
              0.1111111111111111,
              "#46039f"
             ],
             [
              0.2222222222222222,
              "#7201a8"
             ],
             [
              0.3333333333333333,
              "#9c179e"
             ],
             [
              0.4444444444444444,
              "#bd3786"
             ],
             [
              0.5555555555555556,
              "#d8576b"
             ],
             [
              0.6666666666666666,
              "#ed7953"
             ],
             [
              0.7777777777777778,
              "#fb9f3a"
             ],
             [
              0.8888888888888888,
              "#fdca26"
             ],
             [
              1,
              "#f0f921"
             ]
            ],
            "type": "histogram2dcontour"
           }
          ],
          "mesh3d": [
           {
            "colorbar": {
             "outlinewidth": 0,
             "ticks": ""
            },
            "type": "mesh3d"
           }
          ],
          "parcoords": [
           {
            "line": {
             "colorbar": {
              "outlinewidth": 0,
              "ticks": ""
             }
            },
            "type": "parcoords"
           }
          ],
          "pie": [
           {
            "automargin": true,
            "type": "pie"
           }
          ],
          "scatter": [
           {
            "fillpattern": {
             "fillmode": "overlay",
             "size": 10,
             "solidity": 0.2
            },
            "type": "scatter"
           }
          ],
          "scatter3d": [
           {
            "line": {
             "colorbar": {
              "outlinewidth": 0,
              "ticks": ""
             }
            },
            "marker": {
             "colorbar": {
              "outlinewidth": 0,
              "ticks": ""
             }
            },
            "type": "scatter3d"
           }
          ],
          "scattercarpet": [
           {
            "marker": {
             "colorbar": {
              "outlinewidth": 0,
              "ticks": ""
             }
            },
            "type": "scattercarpet"
           }
          ],
          "scattergeo": [
           {
            "marker": {
             "colorbar": {
              "outlinewidth": 0,
              "ticks": ""
             }
            },
            "type": "scattergeo"
           }
          ],
          "scattergl": [
           {
            "marker": {
             "colorbar": {
              "outlinewidth": 0,
              "ticks": ""
             }
            },
            "type": "scattergl"
           }
          ],
          "scattermapbox": [
           {
            "marker": {
             "colorbar": {
              "outlinewidth": 0,
              "ticks": ""
             }
            },
            "type": "scattermapbox"
           }
          ],
          "scatterpolar": [
           {
            "marker": {
             "colorbar": {
              "outlinewidth": 0,
              "ticks": ""
             }
            },
            "type": "scatterpolar"
           }
          ],
          "scatterpolargl": [
           {
            "marker": {
             "colorbar": {
              "outlinewidth": 0,
              "ticks": ""
             }
            },
            "type": "scatterpolargl"
           }
          ],
          "scatterternary": [
           {
            "marker": {
             "colorbar": {
              "outlinewidth": 0,
              "ticks": ""
             }
            },
            "type": "scatterternary"
           }
          ],
          "surface": [
           {
            "colorbar": {
             "outlinewidth": 0,
             "ticks": ""
            },
            "colorscale": [
             [
              0,
              "#0d0887"
             ],
             [
              0.1111111111111111,
              "#46039f"
             ],
             [
              0.2222222222222222,
              "#7201a8"
             ],
             [
              0.3333333333333333,
              "#9c179e"
             ],
             [
              0.4444444444444444,
              "#bd3786"
             ],
             [
              0.5555555555555556,
              "#d8576b"
             ],
             [
              0.6666666666666666,
              "#ed7953"
             ],
             [
              0.7777777777777778,
              "#fb9f3a"
             ],
             [
              0.8888888888888888,
              "#fdca26"
             ],
             [
              1,
              "#f0f921"
             ]
            ],
            "type": "surface"
           }
          ],
          "table": [
           {
            "cells": {
             "fill": {
              "color": "#EBF0F8"
             },
             "line": {
              "color": "white"
             }
            },
            "header": {
             "fill": {
              "color": "#C8D4E3"
             },
             "line": {
              "color": "white"
             }
            },
            "type": "table"
           }
          ]
         },
         "layout": {
          "annotationdefaults": {
           "arrowcolor": "#2a3f5f",
           "arrowhead": 0,
           "arrowwidth": 1
          },
          "autotypenumbers": "strict",
          "coloraxis": {
           "colorbar": {
            "outlinewidth": 0,
            "ticks": ""
           }
          },
          "colorscale": {
           "diverging": [
            [
             0,
             "#8e0152"
            ],
            [
             0.1,
             "#c51b7d"
            ],
            [
             0.2,
             "#de77ae"
            ],
            [
             0.3,
             "#f1b6da"
            ],
            [
             0.4,
             "#fde0ef"
            ],
            [
             0.5,
             "#f7f7f7"
            ],
            [
             0.6,
             "#e6f5d0"
            ],
            [
             0.7,
             "#b8e186"
            ],
            [
             0.8,
             "#7fbc41"
            ],
            [
             0.9,
             "#4d9221"
            ],
            [
             1,
             "#276419"
            ]
           ],
           "sequential": [
            [
             0,
             "#0d0887"
            ],
            [
             0.1111111111111111,
             "#46039f"
            ],
            [
             0.2222222222222222,
             "#7201a8"
            ],
            [
             0.3333333333333333,
             "#9c179e"
            ],
            [
             0.4444444444444444,
             "#bd3786"
            ],
            [
             0.5555555555555556,
             "#d8576b"
            ],
            [
             0.6666666666666666,
             "#ed7953"
            ],
            [
             0.7777777777777778,
             "#fb9f3a"
            ],
            [
             0.8888888888888888,
             "#fdca26"
            ],
            [
             1,
             "#f0f921"
            ]
           ],
           "sequentialminus": [
            [
             0,
             "#0d0887"
            ],
            [
             0.1111111111111111,
             "#46039f"
            ],
            [
             0.2222222222222222,
             "#7201a8"
            ],
            [
             0.3333333333333333,
             "#9c179e"
            ],
            [
             0.4444444444444444,
             "#bd3786"
            ],
            [
             0.5555555555555556,
             "#d8576b"
            ],
            [
             0.6666666666666666,
             "#ed7953"
            ],
            [
             0.7777777777777778,
             "#fb9f3a"
            ],
            [
             0.8888888888888888,
             "#fdca26"
            ],
            [
             1,
             "#f0f921"
            ]
           ]
          },
          "colorway": [
           "#636efa",
           "#EF553B",
           "#00cc96",
           "#ab63fa",
           "#FFA15A",
           "#19d3f3",
           "#FF6692",
           "#B6E880",
           "#FF97FF",
           "#FECB52"
          ],
          "font": {
           "color": "#2a3f5f"
          },
          "geo": {
           "bgcolor": "white",
           "lakecolor": "white",
           "landcolor": "#E5ECF6",
           "showlakes": true,
           "showland": true,
           "subunitcolor": "white"
          },
          "hoverlabel": {
           "align": "left"
          },
          "hovermode": "closest",
          "mapbox": {
           "style": "light"
          },
          "paper_bgcolor": "white",
          "plot_bgcolor": "#E5ECF6",
          "polar": {
           "angularaxis": {
            "gridcolor": "white",
            "linecolor": "white",
            "ticks": ""
           },
           "bgcolor": "#E5ECF6",
           "radialaxis": {
            "gridcolor": "white",
            "linecolor": "white",
            "ticks": ""
           }
          },
          "scene": {
           "xaxis": {
            "backgroundcolor": "#E5ECF6",
            "gridcolor": "white",
            "gridwidth": 2,
            "linecolor": "white",
            "showbackground": true,
            "ticks": "",
            "zerolinecolor": "white"
           },
           "yaxis": {
            "backgroundcolor": "#E5ECF6",
            "gridcolor": "white",
            "gridwidth": 2,
            "linecolor": "white",
            "showbackground": true,
            "ticks": "",
            "zerolinecolor": "white"
           },
           "zaxis": {
            "backgroundcolor": "#E5ECF6",
            "gridcolor": "white",
            "gridwidth": 2,
            "linecolor": "white",
            "showbackground": true,
            "ticks": "",
            "zerolinecolor": "white"
           }
          },
          "shapedefaults": {
           "line": {
            "color": "#2a3f5f"
           }
          },
          "ternary": {
           "aaxis": {
            "gridcolor": "white",
            "linecolor": "white",
            "ticks": ""
           },
           "baxis": {
            "gridcolor": "white",
            "linecolor": "white",
            "ticks": ""
           },
           "bgcolor": "#E5ECF6",
           "caxis": {
            "gridcolor": "white",
            "linecolor": "white",
            "ticks": ""
           }
          },
          "title": {
           "x": 0.05
          },
          "xaxis": {
           "automargin": true,
           "gridcolor": "white",
           "linecolor": "white",
           "ticks": "",
           "title": {
            "standoff": 15
           },
           "zerolinecolor": "white",
           "zerolinewidth": 2
          },
          "yaxis": {
           "automargin": true,
           "gridcolor": "white",
           "linecolor": "white",
           "ticks": "",
           "title": {
            "standoff": 15
           },
           "zerolinecolor": "white",
           "zerolinewidth": 2
          }
         }
        },
        "title": {
         "text": "Plot of MBONs > <b>ACR</b> and their cohens d, delta-g across locomotor reactivity parameters"
        },
        "width": 1800,
        "xaxis": {
         "anchor": "y",
         "domain": [
          0,
          0.06307692307692309
         ]
        },
        "xaxis10": {
         "anchor": "y10",
         "domain": [
          0.7026923076923077,
          0.7657692307692308
         ]
        },
        "xaxis11": {
         "anchor": "y11",
         "domain": [
          0.7807692307692308,
          0.8438461538461539
         ]
        },
        "xaxis12": {
         "anchor": "y12",
         "domain": [
          0.8588461538461538,
          0.9219230769230768
         ]
        },
        "xaxis13": {
         "anchor": "y13",
         "domain": [
          0.9369230769230767,
          0.9999999999999998
         ]
        },
        "xaxis2": {
         "anchor": "y2",
         "domain": [
          0.07807692307692309,
          0.14115384615384619
         ]
        },
        "xaxis3": {
         "anchor": "y3",
         "domain": [
          0.15615384615384617,
          0.21923076923076926
         ]
        },
        "xaxis4": {
         "anchor": "y4",
         "domain": [
          0.23423076923076924,
          0.29730769230769233
         ]
        },
        "xaxis5": {
         "anchor": "y5",
         "domain": [
          0.31230769230769234,
          0.3753846153846154
         ]
        },
        "xaxis6": {
         "anchor": "y6",
         "domain": [
          0.39038461538461544,
          0.4534615384615385
         ]
        },
        "xaxis7": {
         "anchor": "y7",
         "domain": [
          0.4684615384615385,
          0.5315384615384615
         ]
        },
        "xaxis8": {
         "anchor": "y8",
         "domain": [
          0.5465384615384616,
          0.6096153846153847
         ]
        },
        "xaxis9": {
         "anchor": "y9",
         "domain": [
          0.6246153846153847,
          0.6876923076923078
         ]
        },
        "yaxis": {
         "anchor": "x",
         "domain": [
          0,
          1
         ]
        },
        "yaxis10": {
         "anchor": "x10",
         "domain": [
          0,
          1
         ],
         "matches": "y",
         "showticklabels": false
        },
        "yaxis11": {
         "anchor": "x11",
         "domain": [
          0,
          1
         ],
         "matches": "y",
         "showticklabels": false
        },
        "yaxis12": {
         "anchor": "x12",
         "domain": [
          0,
          1
         ],
         "matches": "y",
         "showticklabels": false
        },
        "yaxis13": {
         "anchor": "x13",
         "domain": [
          0,
          1
         ],
         "matches": "y",
         "showticklabels": false
        },
        "yaxis2": {
         "anchor": "x2",
         "domain": [
          0,
          1
         ],
         "matches": "y",
         "showticklabels": false
        },
        "yaxis3": {
         "anchor": "x3",
         "domain": [
          0,
          1
         ],
         "matches": "y",
         "showticklabels": false
        },
        "yaxis4": {
         "anchor": "x4",
         "domain": [
          0,
          1
         ],
         "matches": "y",
         "showticklabels": false
        },
        "yaxis5": {
         "anchor": "x5",
         "domain": [
          0,
          1
         ],
         "matches": "y",
         "showticklabels": false
        },
        "yaxis6": {
         "anchor": "x6",
         "domain": [
          0,
          1
         ],
         "matches": "y",
         "showticklabels": false
        },
        "yaxis7": {
         "anchor": "x7",
         "domain": [
          0,
          1
         ],
         "matches": "y",
         "showticklabels": false
        },
        "yaxis8": {
         "anchor": "x8",
         "domain": [
          0,
          1
         ],
         "matches": "y",
         "showticklabels": false
        },
        "yaxis9": {
         "anchor": "x9",
         "domain": [
          0,
          1
         ],
         "matches": "y",
         "showticklabels": false
        }
       }
      }
     },
     "metadata": {},
     "output_type": "display_data"
    }
   ],
   "source": [
    "# f1,ax = plt.subplots(nrows=1, ncols=13, sharex=False, sharey = True, figsize=(15, 6))\n",
    "\n",
    "from plotly.subplots import make_subplots\n",
    "import plotly.graph_objects as go\n",
    "import plotly.express as px\n",
    "\n",
    "subplottitles = list(map(lambda s:s.replace('\\n', ''), dfreg2.columns))\n",
    "g1 = round(totalregdf,1)\n",
    "\n",
    "fig = make_subplots(rows = 1,cols = 13, horizontal_spacing = 0.015, shared_yaxes =True, subplot_titles= dfreg2.columns)   \n",
    "\n",
    "\n",
    "for n, j in zip(dfreg2.columns, list(range(1,14))):\n",
    "    figure1 = px.imshow(g1[n], text_auto = True, aspect = \"auto\")\n",
    "    fig.add_trace(figure1['data'][0], row = 1, col = j)\n",
    "\n",
    "fig.update_layout(title = 'Plot of MBONs > <b>' + responder +  '</b> and their cohens d, delta-g across locomotor reactivity parameters', height = 1000, width = 1800)\n",
    "fig.update_annotations(font_size=12, yshift = -870)\n",
    "\n",
    "\n",
    "#plt.savefig(openPath + \"images\\\\\"  + \"cohens d and delta gheatmap_\" + responder + \"_\" + date + \".png\", dpi = 1200)\n",
    "\n",
    "fig.show()"
   ]
  },
  {
   "cell_type": "code",
   "execution_count": null,
   "id": "6d0611a8",
   "metadata": {},
   "outputs": [],
   "source": []
  }
 ],
 "metadata": {
  "kernelspec": {
   "display_name": "Python 3 (ipykernel)",
   "language": "python",
   "name": "python3"
  },
  "language_info": {
   "codemirror_mode": {
    "name": "ipython",
    "version": 3
   },
   "file_extension": ".py",
   "mimetype": "text/x-python",
   "name": "python",
   "nbconvert_exporter": "python",
   "pygments_lexer": "ipython3",
   "version": "3.10.9"
  }
 },
 "nbformat": 4,
 "nbformat_minor": 5
}
